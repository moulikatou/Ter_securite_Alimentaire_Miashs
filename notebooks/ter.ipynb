{
  "nbformat": 4,
  "nbformat_minor": 0,
  "metadata": {
    "colab": {
      "name": "ter.ipynb",
      "provenance": [],
      "collapsed_sections": [],
      "toc_visible": true,
      "include_colab_link": true
    },
    "kernelspec": {
      "display_name": "Python 3",
      "language": "python",
      "name": "python3"
    },
    "language_info": {
      "codemirror_mode": {
        "name": "ipython",
        "version": 3
      },
      "file_extension": ".py",
      "mimetype": "text/x-python",
      "name": "python",
      "nbconvert_exporter": "python",
      "pygments_lexer": "ipython3",
      "version": "3.7.1"
    }
  },
  "cells": [
    {
      "cell_type": "markdown",
      "metadata": {
        "id": "view-in-github",
        "colab_type": "text"
      },
      "source": [
        "<a href=\"https://colab.research.google.com/github/moulikatou/Ter_securite_Alimentaire_Miashs/blob/vmelancon/notebooks/ter.ipynb\" target=\"_parent\"><img src=\"https://colab.research.google.com/assets/colab-badge.svg\" alt=\"Open In Colab\"/></a>"
      ]
    },
    {
      "cell_type": "markdown",
      "metadata": {
        "id": "epm2BZg-Wz1B"
      },
      "source": [
        "# IMPORTS & GLOBAL VARIABLES\n"
      ]
    },
    {
      "cell_type": "code",
      "metadata": {
        "id": "CwGr86iZWytl",
        "colab": {
          "base_uri": "https://localhost:8080/"
        },
        "outputId": "4596798d-60bd-4e71-a3d5-7cba973c362f"
      },
      "source": [
        "!pip install pyreadstat\n",
        "import pandas as pd\n",
        "import numpy as np\n",
        "import pyreadstat as pt\n",
        "\n",
        "import matplotlib.pyplot as plt\n",
        "import seaborn as sns\n",
        "\n",
        "path = \"/content/drive/MyDrive/COLAB_STUFF/donnees/\" # \"../TER_M1_MIASHS/donnees/\""
      ],
      "execution_count": 1,
      "outputs": [
        {
          "output_type": "stream",
          "text": [
            "Requirement already satisfied: pyreadstat in /usr/local/lib/python3.6/dist-packages (1.0.5)\n",
            "Requirement already satisfied: pandas>0.24.0 in /usr/local/lib/python3.6/dist-packages (from pyreadstat) (1.1.4)\n",
            "Requirement already satisfied: pytz>=2017.2 in /usr/local/lib/python3.6/dist-packages (from pandas>0.24.0->pyreadstat) (2018.9)\n",
            "Requirement already satisfied: python-dateutil>=2.7.3 in /usr/local/lib/python3.6/dist-packages (from pandas>0.24.0->pyreadstat) (2.8.1)\n",
            "Requirement already satisfied: numpy>=1.15.4 in /usr/local/lib/python3.6/dist-packages (from pandas>0.24.0->pyreadstat) (1.18.5)\n",
            "Requirement already satisfied: six>=1.5 in /usr/local/lib/python3.6/dist-packages (from python-dateutil>=2.7.3->pandas>0.24.0->pyreadstat) (1.15.0)\n"
          ],
          "name": "stdout"
        }
      ]
    },
    {
      "cell_type": "code",
      "metadata": {
        "colab": {
          "base_uri": "https://localhost:8080/"
        },
        "id": "ocP0FvU4HzgH",
        "outputId": "9f71e5e1-13a1-437c-ff1a-089b5b267b1b"
      },
      "source": [
        "from google.colab import drive\n",
        "drive.mount('/content/drive', force_remount=True)"
      ],
      "execution_count": 2,
      "outputs": [
        {
          "output_type": "stream",
          "text": [
            "Mounted at /content/drive\n"
          ],
          "name": "stdout"
        }
      ]
    },
    {
      "cell_type": "markdown",
      "metadata": {
        "id": "Jsoib29k-FTi"
      },
      "source": [
        "A __read function__ to convert a .SAV file into a pandas.DataFrame, and a __concat function__ for later to merge all data"
      ]
    },
    {
      "cell_type": "code",
      "metadata": {
        "id": "9mM5jryrWytl"
      },
      "source": [
        "'''\n",
        "desc : from a filename 'fichier' (with an \".sav\" extension) returns a DataFrame\n",
        "return : DataFrame\n",
        "'''\n",
        "def lire(fichier):\n",
        "    df, meta = pt.read_sav(fichier)\n",
        "    return df\n",
        "\n",
        "'''\n",
        "desc : save a dataframe as a CSV file\n",
        "df : a dataframe to be saved\n",
        "filename : a string, the path where the file should be saved\n",
        "'''\n",
        "def sauver(df, filename):\n",
        "    return df.to_csv(filename)\n",
        "\n",
        "'''\n",
        "desc : concat multiple dataframe, joining the same columns and adding the ones that are different\n",
        "dfs : a list of DataFrame\n",
        "return : the concatenation of dfs\n",
        "'''\n",
        "def concat(dfs):\n",
        "    res = dfs[0]\n",
        "    for i in range(1, len(dfs)):\n",
        "        res = res.merge(dfs[i], how=\"outer\")\n",
        "    return res\n",
        "\n",
        "'''\n",
        "desc : compute a csi score\n",
        "X : a dataframe, answers to all five questions {\"a\":[0-7], \"b\":[0-7], \"c\":[0-7], \"d\":[0-7], \"e\":[0-7]}\n",
        "    to compute the CSI score\n",
        "return : a float, the computed CSI score\n",
        "'''\n",
        "def reduced_csi_score(X):\n",
        "    csi = pd.DataFrame(columns=[\"answers\", \"weight\", \"weighted_score\"])\n",
        "    csi.answers = X\n",
        "    csi.weight = [1,2,1,3,1]\n",
        "\n",
        "    csi.weighted_score = csi.answers * csi.weight\n",
        "    csi.score = csi.weighted_score.sum()\n",
        "    return csi"
      ],
      "execution_count": 3,
      "outputs": []
    },
    {
      "cell_type": "markdown",
      "metadata": {
        "id": "DIHI2k6z-FTi"
      },
      "source": [
        "# FILE BY FILE"
      ]
    },
    {
      "cell_type": "code",
      "metadata": {
        "id": "qivmD2EZ-FTi"
      },
      "source": [
        "files = [\"Base_SA_globale_20182019.sav\", \"cahier6_final_Prev_20172018.sav\", \"Cahier6_def_Prev_20162017.sav\", \"Cahier6_Prev_20152016.sav\", \"Cahier6_Prev_20142015.sav\"]"
      ],
      "execution_count": 4,
      "outputs": []
    },
    {
      "cell_type": "code",
      "metadata": {
        "id": "Gd1ks2j6-FTi"
      },
      "source": [
        "col = {\n",
        "    \"metadata\" : [\"REG\", \"PROV\", \"COM\", \"VIL\", \"MEN\", \"YEAR\"],\n",
        "    \"data\" : [\"S62Q1_1\",\"S62Q1_2\",\"S62Q1_3\",\"S62Q1_4\",\"S62Q1_5\"],\n",
        "    \"target\" : [\"CSI\"]\n",
        "}\n",
        "col_to_keep = col[\"metadata\"] + col[\"data\"] + col[\"target\"]"
      ],
      "execution_count": 5,
      "outputs": []
    },
    {
      "cell_type": "code",
      "metadata": {
        "id": "Iuz4JyVN-FTi",
        "colab": {
          "base_uri": "https://localhost:8080/",
          "height": 732
        },
        "outputId": "577144a8-e32a-40d8-9f9e-040eead8a722"
      },
      "source": [
        "dfs = {}\n",
        "new_path = path + \"formated/\"\n",
        "new_files = []\n",
        "for f in files:\n",
        "    df = lire(path + f)\n",
        "    \n",
        "    annee = f.split('.')[0].split('_')\n",
        "    annee = int(annee[len(annee)-1][:4])\n",
        "    df[\"YEAR\"] = annee\n",
        "    df[col[\"target\"]] = np.nan\n",
        "\n",
        "    try:\n",
        "        df[\"MEN\"] = df.loc[:, \"CODMEN\"]\n",
        "    except Exception as e:\n",
        "        pass\n",
        "\n",
        "    for i in range(df.shape[0]):\n",
        "        d = df.iloc[i]\n",
        "        CSI = reduced_csi_score(d[col[\"data\"]])\n",
        "        d[col[\"target\"]] = CSI.score\n",
        "        df.iloc[i] = d\n",
        "\n",
        "    df = df.loc[:, col_to_keep]\n",
        "\n",
        "    filename = \"donnees_\" + str(annee)\n",
        "    new_files.append(filename)\n",
        "\n",
        "    sauver(df, path + filename)\n",
        "    dfs[annee] = df"
      ],
      "execution_count": 6,
      "outputs": [
        {
          "output_type": "stream",
          "text": [
            "/usr/local/lib/python3.6/dist-packages/ipykernel_launcher.py:20: SettingWithCopyWarning: \n",
            "A value is trying to be set on a copy of a slice from a DataFrame\n",
            "\n",
            "See the caveats in the documentation: https://pandas.pydata.org/pandas-docs/stable/user_guide/indexing.html#returning-a-view-versus-a-copy\n",
            "/usr/local/lib/python3.6/dist-packages/pandas/core/indexing.py:670: SettingWithCopyWarning: \n",
            "A value is trying to be set on a copy of a slice from a DataFrame\n",
            "\n",
            "See the caveats in the documentation: https://pandas.pydata.org/pandas-docs/stable/user_guide/indexing.html#returning-a-view-versus-a-copy\n",
            "  iloc._setitem_with_indexer(indexer, value)\n",
            "/usr/local/lib/python3.6/dist-packages/pandas/core/series.py:1063: SettingWithCopyWarning: \n",
            "A value is trying to be set on a copy of a slice from a DataFrame\n",
            "\n",
            "See the caveats in the documentation: https://pandas.pydata.org/pandas-docs/stable/user_guide/indexing.html#returning-a-view-versus-a-copy\n",
            "  self.loc[key] = value\n"
          ],
          "name": "stderr"
        },
        {
          "output_type": "error",
          "ename": "KeyboardInterrupt",
          "evalue": "ignored",
          "traceback": [
            "\u001b[0;31m---------------------------------------------------------------------------\u001b[0m",
            "\u001b[0;31mTypeError\u001b[0m                                 Traceback (most recent call last)",
            "\u001b[0;32m/usr/local/lib/python3.6/dist-packages/pandas/core/series.py\u001b[0m in \u001b[0;36m__setitem__\u001b[0;34m(self, key, value)\u001b[0m\n\u001b[1;32m    999\u001b[0m         \u001b[0;32mtry\u001b[0m\u001b[0;34m:\u001b[0m\u001b[0;34m\u001b[0m\u001b[0;34m\u001b[0m\u001b[0m\n\u001b[0;32m-> 1000\u001b[0;31m             \u001b[0mself\u001b[0m\u001b[0;34m.\u001b[0m\u001b[0m_set_with_engine\u001b[0m\u001b[0;34m(\u001b[0m\u001b[0mkey\u001b[0m\u001b[0;34m,\u001b[0m \u001b[0mvalue\u001b[0m\u001b[0;34m)\u001b[0m\u001b[0;34m\u001b[0m\u001b[0;34m\u001b[0m\u001b[0m\n\u001b[0m\u001b[1;32m   1001\u001b[0m         \u001b[0;32mexcept\u001b[0m \u001b[0;34m(\u001b[0m\u001b[0mKeyError\u001b[0m\u001b[0;34m,\u001b[0m \u001b[0mValueError\u001b[0m\u001b[0;34m)\u001b[0m\u001b[0;34m:\u001b[0m\u001b[0;34m\u001b[0m\u001b[0;34m\u001b[0m\u001b[0m\n",
            "\u001b[0;32m/usr/local/lib/python3.6/dist-packages/pandas/core/series.py\u001b[0m in \u001b[0;36m_set_with_engine\u001b[0;34m(self, key, value)\u001b[0m\n\u001b[1;32m   1032\u001b[0m         \u001b[0;31m# fails with AttributeError for IntervalIndex\u001b[0m\u001b[0;34m\u001b[0m\u001b[0;34m\u001b[0m\u001b[0;34m\u001b[0m\u001b[0m\n\u001b[0;32m-> 1033\u001b[0;31m         \u001b[0mloc\u001b[0m \u001b[0;34m=\u001b[0m \u001b[0mself\u001b[0m\u001b[0;34m.\u001b[0m\u001b[0mindex\u001b[0m\u001b[0;34m.\u001b[0m\u001b[0m_engine\u001b[0m\u001b[0;34m.\u001b[0m\u001b[0mget_loc\u001b[0m\u001b[0;34m(\u001b[0m\u001b[0mkey\u001b[0m\u001b[0;34m)\u001b[0m\u001b[0;34m\u001b[0m\u001b[0;34m\u001b[0m\u001b[0m\n\u001b[0m\u001b[1;32m   1034\u001b[0m         \u001b[0mvalidate_numeric_casting\u001b[0m\u001b[0;34m(\u001b[0m\u001b[0mself\u001b[0m\u001b[0;34m.\u001b[0m\u001b[0mdtype\u001b[0m\u001b[0;34m,\u001b[0m \u001b[0mvalue\u001b[0m\u001b[0;34m)\u001b[0m\u001b[0;34m\u001b[0m\u001b[0;34m\u001b[0m\u001b[0m\n",
            "\u001b[0;32mpandas/_libs/index.pyx\u001b[0m in \u001b[0;36mpandas._libs.index.IndexEngine.get_loc\u001b[0;34m()\u001b[0m\n",
            "\u001b[0;32mpandas/_libs/index.pyx\u001b[0m in \u001b[0;36mpandas._libs.index.IndexEngine.get_loc\u001b[0;34m()\u001b[0m\n",
            "\u001b[0;31mTypeError\u001b[0m: '['CSI']' is an invalid key",
            "\nDuring handling of the above exception, another exception occurred:\n",
            "\u001b[0;31mKeyboardInterrupt\u001b[0m                         Traceback (most recent call last)",
            "\u001b[0;32m<ipython-input-6-bae8a08ae9e5>\u001b[0m in \u001b[0;36m<module>\u001b[0;34m()\u001b[0m\n\u001b[1;32m     18\u001b[0m         \u001b[0md\u001b[0m \u001b[0;34m=\u001b[0m \u001b[0mdf\u001b[0m\u001b[0;34m.\u001b[0m\u001b[0miloc\u001b[0m\u001b[0;34m[\u001b[0m\u001b[0mi\u001b[0m\u001b[0;34m]\u001b[0m\u001b[0;34m\u001b[0m\u001b[0;34m\u001b[0m\u001b[0m\n\u001b[1;32m     19\u001b[0m         \u001b[0mCSI\u001b[0m \u001b[0;34m=\u001b[0m \u001b[0mreduced_csi_score\u001b[0m\u001b[0;34m(\u001b[0m\u001b[0md\u001b[0m\u001b[0;34m[\u001b[0m\u001b[0mcol\u001b[0m\u001b[0;34m[\u001b[0m\u001b[0;34m\"data\"\u001b[0m\u001b[0;34m]\u001b[0m\u001b[0;34m]\u001b[0m\u001b[0;34m)\u001b[0m\u001b[0;34m\u001b[0m\u001b[0;34m\u001b[0m\u001b[0m\n\u001b[0;32m---> 20\u001b[0;31m         \u001b[0md\u001b[0m\u001b[0;34m[\u001b[0m\u001b[0mcol\u001b[0m\u001b[0;34m[\u001b[0m\u001b[0;34m\"target\"\u001b[0m\u001b[0;34m]\u001b[0m\u001b[0;34m]\u001b[0m \u001b[0;34m=\u001b[0m \u001b[0mCSI\u001b[0m\u001b[0;34m.\u001b[0m\u001b[0mscore\u001b[0m\u001b[0;34m\u001b[0m\u001b[0;34m\u001b[0m\u001b[0m\n\u001b[0m\u001b[1;32m     21\u001b[0m         \u001b[0mdf\u001b[0m\u001b[0;34m.\u001b[0m\u001b[0miloc\u001b[0m\u001b[0;34m[\u001b[0m\u001b[0mi\u001b[0m\u001b[0;34m]\u001b[0m \u001b[0;34m=\u001b[0m \u001b[0md\u001b[0m\u001b[0;34m\u001b[0m\u001b[0;34m\u001b[0m\u001b[0m\n\u001b[1;32m     22\u001b[0m \u001b[0;34m\u001b[0m\u001b[0m\n",
            "\u001b[0;32m/usr/local/lib/python3.6/dist-packages/pandas/core/series.py\u001b[0m in \u001b[0;36m__setitem__\u001b[0;34m(self, key, value)\u001b[0m\n\u001b[1;32m   1024\u001b[0m \u001b[0;34m\u001b[0m\u001b[0m\n\u001b[1;32m   1025\u001b[0m             \u001b[0;32melse\u001b[0m\u001b[0;34m:\u001b[0m\u001b[0;34m\u001b[0m\u001b[0;34m\u001b[0m\u001b[0m\n\u001b[0;32m-> 1026\u001b[0;31m                 \u001b[0mself\u001b[0m\u001b[0;34m.\u001b[0m\u001b[0m_set_with\u001b[0m\u001b[0;34m(\u001b[0m\u001b[0mkey\u001b[0m\u001b[0;34m,\u001b[0m \u001b[0mvalue\u001b[0m\u001b[0;34m)\u001b[0m\u001b[0;34m\u001b[0m\u001b[0;34m\u001b[0m\u001b[0m\n\u001b[0m\u001b[1;32m   1027\u001b[0m \u001b[0;34m\u001b[0m\u001b[0m\n\u001b[1;32m   1028\u001b[0m         \u001b[0;32mif\u001b[0m \u001b[0mcacher_needs_updating\u001b[0m\u001b[0;34m:\u001b[0m\u001b[0;34m\u001b[0m\u001b[0;34m\u001b[0m\u001b[0m\n",
            "\u001b[0;32m/usr/local/lib/python3.6/dist-packages/pandas/core/series.py\u001b[0m in \u001b[0;36m_set_with\u001b[0;34m(self, key, value)\u001b[0m\n\u001b[1;32m   1061\u001b[0m                     \u001b[0mself\u001b[0m\u001b[0;34m.\u001b[0m\u001b[0m_set_values\u001b[0m\u001b[0;34m(\u001b[0m\u001b[0mkey\u001b[0m\u001b[0;34m,\u001b[0m \u001b[0mvalue\u001b[0m\u001b[0;34m)\u001b[0m\u001b[0;34m\u001b[0m\u001b[0;34m\u001b[0m\u001b[0m\n\u001b[1;32m   1062\u001b[0m             \u001b[0;32melse\u001b[0m\u001b[0;34m:\u001b[0m\u001b[0;34m\u001b[0m\u001b[0;34m\u001b[0m\u001b[0m\n\u001b[0;32m-> 1063\u001b[0;31m                 \u001b[0mself\u001b[0m\u001b[0;34m.\u001b[0m\u001b[0mloc\u001b[0m\u001b[0;34m[\u001b[0m\u001b[0mkey\u001b[0m\u001b[0;34m]\u001b[0m \u001b[0;34m=\u001b[0m \u001b[0mvalue\u001b[0m\u001b[0;34m\u001b[0m\u001b[0;34m\u001b[0m\u001b[0m\n\u001b[0m\u001b[1;32m   1064\u001b[0m \u001b[0;34m\u001b[0m\u001b[0m\n\u001b[1;32m   1065\u001b[0m     \u001b[0;32mdef\u001b[0m \u001b[0m_set_labels\u001b[0m\u001b[0;34m(\u001b[0m\u001b[0mself\u001b[0m\u001b[0;34m,\u001b[0m \u001b[0mkey\u001b[0m\u001b[0;34m,\u001b[0m \u001b[0mvalue\u001b[0m\u001b[0;34m)\u001b[0m\u001b[0;34m:\u001b[0m\u001b[0;34m\u001b[0m\u001b[0;34m\u001b[0m\u001b[0m\n",
            "\u001b[0;32m/usr/local/lib/python3.6/dist-packages/pandas/core/indexing.py\u001b[0m in \u001b[0;36m__setitem__\u001b[0;34m(self, key, value)\u001b[0m\n\u001b[1;32m    664\u001b[0m         \u001b[0;32melse\u001b[0m\u001b[0;34m:\u001b[0m\u001b[0;34m\u001b[0m\u001b[0;34m\u001b[0m\u001b[0m\n\u001b[1;32m    665\u001b[0m             \u001b[0mkey\u001b[0m \u001b[0;34m=\u001b[0m \u001b[0mcom\u001b[0m\u001b[0;34m.\u001b[0m\u001b[0mapply_if_callable\u001b[0m\u001b[0;34m(\u001b[0m\u001b[0mkey\u001b[0m\u001b[0;34m,\u001b[0m \u001b[0mself\u001b[0m\u001b[0;34m.\u001b[0m\u001b[0mobj\u001b[0m\u001b[0;34m)\u001b[0m\u001b[0;34m\u001b[0m\u001b[0;34m\u001b[0m\u001b[0m\n\u001b[0;32m--> 666\u001b[0;31m         \u001b[0mindexer\u001b[0m \u001b[0;34m=\u001b[0m \u001b[0mself\u001b[0m\u001b[0;34m.\u001b[0m\u001b[0m_get_setitem_indexer\u001b[0m\u001b[0;34m(\u001b[0m\u001b[0mkey\u001b[0m\u001b[0;34m)\u001b[0m\u001b[0;34m\u001b[0m\u001b[0;34m\u001b[0m\u001b[0m\n\u001b[0m\u001b[1;32m    667\u001b[0m         \u001b[0mself\u001b[0m\u001b[0;34m.\u001b[0m\u001b[0m_has_valid_setitem_indexer\u001b[0m\u001b[0;34m(\u001b[0m\u001b[0mkey\u001b[0m\u001b[0;34m)\u001b[0m\u001b[0;34m\u001b[0m\u001b[0;34m\u001b[0m\u001b[0m\n\u001b[1;32m    668\u001b[0m \u001b[0;34m\u001b[0m\u001b[0m\n",
            "\u001b[0;32m/usr/local/lib/python3.6/dist-packages/pandas/core/indexing.py\u001b[0m in \u001b[0;36m_get_setitem_indexer\u001b[0;34m(self, key)\u001b[0m\n\u001b[1;32m    615\u001b[0m \u001b[0;34m\u001b[0m\u001b[0m\n\u001b[1;32m    616\u001b[0m         \u001b[0;32mtry\u001b[0m\u001b[0;34m:\u001b[0m\u001b[0;34m\u001b[0m\u001b[0;34m\u001b[0m\u001b[0m\n\u001b[0;32m--> 617\u001b[0;31m             \u001b[0;32mreturn\u001b[0m \u001b[0mself\u001b[0m\u001b[0;34m.\u001b[0m\u001b[0m_convert_to_indexer\u001b[0m\u001b[0;34m(\u001b[0m\u001b[0mkey\u001b[0m\u001b[0;34m,\u001b[0m \u001b[0maxis\u001b[0m\u001b[0;34m=\u001b[0m\u001b[0;36m0\u001b[0m\u001b[0;34m,\u001b[0m \u001b[0mis_setter\u001b[0m\u001b[0;34m=\u001b[0m\u001b[0;32mTrue\u001b[0m\u001b[0;34m)\u001b[0m\u001b[0;34m\u001b[0m\u001b[0;34m\u001b[0m\u001b[0m\n\u001b[0m\u001b[1;32m    618\u001b[0m         \u001b[0;32mexcept\u001b[0m \u001b[0mTypeError\u001b[0m \u001b[0;32mas\u001b[0m \u001b[0me\u001b[0m\u001b[0;34m:\u001b[0m\u001b[0;34m\u001b[0m\u001b[0;34m\u001b[0m\u001b[0m\n\u001b[1;32m    619\u001b[0m \u001b[0;34m\u001b[0m\u001b[0m\n",
            "\u001b[0;32m/usr/local/lib/python3.6/dist-packages/pandas/core/indexing.py\u001b[0m in \u001b[0;36m_convert_to_indexer\u001b[0;34m(self, key, axis, is_setter)\u001b[0m\n\u001b[1;32m   1196\u001b[0m             \u001b[0;32melse\u001b[0m\u001b[0;34m:\u001b[0m\u001b[0;34m\u001b[0m\u001b[0;34m\u001b[0m\u001b[0m\n\u001b[1;32m   1197\u001b[0m                 \u001b[0;31m# When setting, missing keys are not allowed, even with .loc:\u001b[0m\u001b[0;34m\u001b[0m\u001b[0;34m\u001b[0m\u001b[0;34m\u001b[0m\u001b[0m\n\u001b[0;32m-> 1198\u001b[0;31m                 \u001b[0;32mreturn\u001b[0m \u001b[0mself\u001b[0m\u001b[0;34m.\u001b[0m\u001b[0m_get_listlike_indexer\u001b[0m\u001b[0;34m(\u001b[0m\u001b[0mkey\u001b[0m\u001b[0;34m,\u001b[0m \u001b[0maxis\u001b[0m\u001b[0;34m,\u001b[0m \u001b[0mraise_missing\u001b[0m\u001b[0;34m=\u001b[0m\u001b[0;32mTrue\u001b[0m\u001b[0;34m)\u001b[0m\u001b[0;34m[\u001b[0m\u001b[0;36m1\u001b[0m\u001b[0;34m]\u001b[0m\u001b[0;34m\u001b[0m\u001b[0;34m\u001b[0m\u001b[0m\n\u001b[0m\u001b[1;32m   1199\u001b[0m         \u001b[0;32melse\u001b[0m\u001b[0;34m:\u001b[0m\u001b[0;34m\u001b[0m\u001b[0;34m\u001b[0m\u001b[0m\n\u001b[1;32m   1200\u001b[0m             \u001b[0;32mtry\u001b[0m\u001b[0;34m:\u001b[0m\u001b[0;34m\u001b[0m\u001b[0;34m\u001b[0m\u001b[0m\n",
            "\u001b[0;32m/usr/local/lib/python3.6/dist-packages/pandas/core/indexing.py\u001b[0m in \u001b[0;36m_get_listlike_indexer\u001b[0;34m(self, key, axis, raise_missing)\u001b[0m\n\u001b[1;32m   1248\u001b[0m         \u001b[0;32mif\u001b[0m \u001b[0max\u001b[0m\u001b[0;34m.\u001b[0m\u001b[0mis_unique\u001b[0m \u001b[0;32mand\u001b[0m \u001b[0;32mnot\u001b[0m \u001b[0mgetattr\u001b[0m\u001b[0;34m(\u001b[0m\u001b[0max\u001b[0m\u001b[0;34m,\u001b[0m \u001b[0;34m\"is_overlapping\"\u001b[0m\u001b[0;34m,\u001b[0m \u001b[0;32mFalse\u001b[0m\u001b[0;34m)\u001b[0m\u001b[0;34m:\u001b[0m\u001b[0;34m\u001b[0m\u001b[0;34m\u001b[0m\u001b[0m\n\u001b[1;32m   1249\u001b[0m             \u001b[0mindexer\u001b[0m \u001b[0;34m=\u001b[0m \u001b[0max\u001b[0m\u001b[0;34m.\u001b[0m\u001b[0mget_indexer_for\u001b[0m\u001b[0;34m(\u001b[0m\u001b[0mkeyarr\u001b[0m\u001b[0;34m)\u001b[0m\u001b[0;34m\u001b[0m\u001b[0;34m\u001b[0m\u001b[0m\n\u001b[0;32m-> 1250\u001b[0;31m             \u001b[0mkeyarr\u001b[0m \u001b[0;34m=\u001b[0m \u001b[0max\u001b[0m\u001b[0;34m.\u001b[0m\u001b[0mreindex\u001b[0m\u001b[0;34m(\u001b[0m\u001b[0mkeyarr\u001b[0m\u001b[0;34m)\u001b[0m\u001b[0;34m[\u001b[0m\u001b[0;36m0\u001b[0m\u001b[0;34m]\u001b[0m\u001b[0;34m\u001b[0m\u001b[0;34m\u001b[0m\u001b[0m\n\u001b[0m\u001b[1;32m   1251\u001b[0m         \u001b[0;32melse\u001b[0m\u001b[0;34m:\u001b[0m\u001b[0;34m\u001b[0m\u001b[0;34m\u001b[0m\u001b[0m\n\u001b[1;32m   1252\u001b[0m             \u001b[0mkeyarr\u001b[0m\u001b[0;34m,\u001b[0m \u001b[0mindexer\u001b[0m\u001b[0;34m,\u001b[0m \u001b[0mnew_indexer\u001b[0m \u001b[0;34m=\u001b[0m \u001b[0max\u001b[0m\u001b[0;34m.\u001b[0m\u001b[0m_reindex_non_unique\u001b[0m\u001b[0;34m(\u001b[0m\u001b[0mkeyarr\u001b[0m\u001b[0;34m)\u001b[0m\u001b[0;34m\u001b[0m\u001b[0;34m\u001b[0m\u001b[0m\n",
            "\u001b[0;32m/usr/local/lib/python3.6/dist-packages/pandas/core/indexes/base.py\u001b[0m in \u001b[0;36mreindex\u001b[0;34m(self, target, method, level, limit, tolerance)\u001b[0m\n\u001b[1;32m   3318\u001b[0m             \u001b[0mtarget\u001b[0m \u001b[0;34m=\u001b[0m \u001b[0mself\u001b[0m\u001b[0;34m.\u001b[0m\u001b[0m_simple_new\u001b[0m\u001b[0;34m(\u001b[0m\u001b[0mvalues\u001b[0m\u001b[0;34m,\u001b[0m \u001b[0mname\u001b[0m\u001b[0;34m=\u001b[0m\u001b[0mself\u001b[0m\u001b[0;34m.\u001b[0m\u001b[0mname\u001b[0m\u001b[0;34m)\u001b[0m\u001b[0;34m\u001b[0m\u001b[0;34m\u001b[0m\u001b[0m\n\u001b[1;32m   3319\u001b[0m         \u001b[0;32melse\u001b[0m\u001b[0;34m:\u001b[0m\u001b[0;34m\u001b[0m\u001b[0;34m\u001b[0m\u001b[0m\n\u001b[0;32m-> 3320\u001b[0;31m             \u001b[0mtarget\u001b[0m \u001b[0;34m=\u001b[0m \u001b[0mensure_index\u001b[0m\u001b[0;34m(\u001b[0m\u001b[0mtarget\u001b[0m\u001b[0;34m)\u001b[0m\u001b[0;34m\u001b[0m\u001b[0;34m\u001b[0m\u001b[0m\n\u001b[0m\u001b[1;32m   3321\u001b[0m \u001b[0;34m\u001b[0m\u001b[0m\n\u001b[1;32m   3322\u001b[0m         \u001b[0;32mif\u001b[0m \u001b[0mlevel\u001b[0m \u001b[0;32mis\u001b[0m \u001b[0;32mnot\u001b[0m \u001b[0;32mNone\u001b[0m\u001b[0;34m:\u001b[0m\u001b[0;34m\u001b[0m\u001b[0;34m\u001b[0m\u001b[0m\n",
            "\u001b[0;32m/usr/local/lib/python3.6/dist-packages/pandas/core/indexes/base.py\u001b[0m in \u001b[0;36mensure_index\u001b[0;34m(index_like, copy)\u001b[0m\n\u001b[1;32m   5618\u001b[0m             \u001b[0mindex_like\u001b[0m \u001b[0;34m=\u001b[0m \u001b[0mcopy_func\u001b[0m\u001b[0;34m(\u001b[0m\u001b[0mindex_like\u001b[0m\u001b[0;34m)\u001b[0m\u001b[0;34m\u001b[0m\u001b[0;34m\u001b[0m\u001b[0m\n\u001b[1;32m   5619\u001b[0m \u001b[0;34m\u001b[0m\u001b[0m\n\u001b[0;32m-> 5620\u001b[0;31m     \u001b[0;32mreturn\u001b[0m \u001b[0mIndex\u001b[0m\u001b[0;34m(\u001b[0m\u001b[0mindex_like\u001b[0m\u001b[0;34m)\u001b[0m\u001b[0;34m\u001b[0m\u001b[0;34m\u001b[0m\u001b[0m\n\u001b[0m\u001b[1;32m   5621\u001b[0m \u001b[0;34m\u001b[0m\u001b[0m\n\u001b[1;32m   5622\u001b[0m \u001b[0;34m\u001b[0m\u001b[0m\n",
            "\u001b[0;32m/usr/local/lib/python3.6/dist-packages/pandas/core/indexes/base.py\u001b[0m in \u001b[0;36m__new__\u001b[0;34m(cls, data, dtype, copy, name, tupleize_cols, **kwargs)\u001b[0m\n\u001b[1;32m    326\u001b[0m \u001b[0;34m\u001b[0m\u001b[0m\n\u001b[1;32m    327\u001b[0m         \u001b[0;31m# interval\u001b[0m\u001b[0;34m\u001b[0m\u001b[0;34m\u001b[0m\u001b[0;34m\u001b[0m\u001b[0m\n\u001b[0;32m--> 328\u001b[0;31m         \u001b[0;32melif\u001b[0m \u001b[0mis_interval_dtype\u001b[0m\u001b[0;34m(\u001b[0m\u001b[0mdata_dtype\u001b[0m\u001b[0;34m)\u001b[0m \u001b[0;32mor\u001b[0m \u001b[0mis_interval_dtype\u001b[0m\u001b[0;34m(\u001b[0m\u001b[0mdtype\u001b[0m\u001b[0;34m)\u001b[0m\u001b[0;34m:\u001b[0m\u001b[0;34m\u001b[0m\u001b[0;34m\u001b[0m\u001b[0m\n\u001b[0m\u001b[1;32m    329\u001b[0m             \u001b[0;31m# Delay import for perf. https://github.com/pandas-dev/pandas/pull/31423\u001b[0m\u001b[0;34m\u001b[0m\u001b[0;34m\u001b[0m\u001b[0;34m\u001b[0m\u001b[0m\n\u001b[1;32m    330\u001b[0m             \u001b[0;32mfrom\u001b[0m \u001b[0mpandas\u001b[0m\u001b[0;34m.\u001b[0m\u001b[0mcore\u001b[0m\u001b[0;34m.\u001b[0m\u001b[0mindexes\u001b[0m\u001b[0;34m.\u001b[0m\u001b[0minterval\u001b[0m \u001b[0;32mimport\u001b[0m \u001b[0mIntervalIndex\u001b[0m\u001b[0;34m\u001b[0m\u001b[0;34m\u001b[0m\u001b[0m\n",
            "\u001b[0;32m/usr/local/lib/python3.6/dist-packages/pandas/core/dtypes/common.py\u001b[0m in \u001b[0;36mis_interval_dtype\u001b[0;34m(arr_or_dtype)\u001b[0m\n\u001b[1;32m    525\u001b[0m     \u001b[0;32mif\u001b[0m \u001b[0marr_or_dtype\u001b[0m \u001b[0;32mis\u001b[0m \u001b[0;32mNone\u001b[0m\u001b[0;34m:\u001b[0m\u001b[0;34m\u001b[0m\u001b[0;34m\u001b[0m\u001b[0m\n\u001b[1;32m    526\u001b[0m         \u001b[0;32mreturn\u001b[0m \u001b[0;32mFalse\u001b[0m\u001b[0;34m\u001b[0m\u001b[0;34m\u001b[0m\u001b[0m\n\u001b[0;32m--> 527\u001b[0;31m     \u001b[0;32mreturn\u001b[0m \u001b[0mIntervalDtype\u001b[0m\u001b[0;34m.\u001b[0m\u001b[0mis_dtype\u001b[0m\u001b[0;34m(\u001b[0m\u001b[0marr_or_dtype\u001b[0m\u001b[0;34m)\u001b[0m\u001b[0;34m\u001b[0m\u001b[0;34m\u001b[0m\u001b[0m\n\u001b[0m\u001b[1;32m    528\u001b[0m \u001b[0;34m\u001b[0m\u001b[0m\n\u001b[1;32m    529\u001b[0m \u001b[0;34m\u001b[0m\u001b[0m\n",
            "\u001b[0;32m/usr/local/lib/python3.6/dist-packages/pandas/core/dtypes/dtypes.py\u001b[0m in \u001b[0;36mis_dtype\u001b[0;34m(cls, dtype)\u001b[0m\n\u001b[1;32m   1134\u001b[0m             \u001b[0;32melse\u001b[0m\u001b[0;34m:\u001b[0m\u001b[0;34m\u001b[0m\u001b[0;34m\u001b[0m\u001b[0m\n\u001b[1;32m   1135\u001b[0m                 \u001b[0;32mreturn\u001b[0m \u001b[0;32mFalse\u001b[0m\u001b[0;34m\u001b[0m\u001b[0;34m\u001b[0m\u001b[0m\n\u001b[0;32m-> 1136\u001b[0;31m         \u001b[0;32mreturn\u001b[0m \u001b[0msuper\u001b[0m\u001b[0;34m(\u001b[0m\u001b[0;34m)\u001b[0m\u001b[0;34m.\u001b[0m\u001b[0mis_dtype\u001b[0m\u001b[0;34m(\u001b[0m\u001b[0mdtype\u001b[0m\u001b[0;34m)\u001b[0m\u001b[0;34m\u001b[0m\u001b[0;34m\u001b[0m\u001b[0m\n\u001b[0m\u001b[1;32m   1137\u001b[0m \u001b[0;34m\u001b[0m\u001b[0m\n\u001b[1;32m   1138\u001b[0m     def __from_arrow__(\n",
            "\u001b[0;32m/usr/local/lib/python3.6/dist-packages/pandas/core/dtypes/base.py\u001b[0m in \u001b[0;36mis_dtype\u001b[0;34m(cls, dtype)\u001b[0m\n\u001b[1;32m    280\u001b[0m         \u001b[0mdtype\u001b[0m \u001b[0;34m=\u001b[0m \u001b[0mgetattr\u001b[0m\u001b[0;34m(\u001b[0m\u001b[0mdtype\u001b[0m\u001b[0;34m,\u001b[0m \u001b[0;34m\"dtype\"\u001b[0m\u001b[0;34m,\u001b[0m \u001b[0mdtype\u001b[0m\u001b[0;34m)\u001b[0m\u001b[0;34m\u001b[0m\u001b[0;34m\u001b[0m\u001b[0m\n\u001b[1;32m    281\u001b[0m \u001b[0;34m\u001b[0m\u001b[0m\n\u001b[0;32m--> 282\u001b[0;31m         \u001b[0;32mif\u001b[0m \u001b[0misinstance\u001b[0m\u001b[0;34m(\u001b[0m\u001b[0mdtype\u001b[0m\u001b[0;34m,\u001b[0m \u001b[0;34m(\u001b[0m\u001b[0mABCSeries\u001b[0m\u001b[0;34m,\u001b[0m \u001b[0mABCIndexClass\u001b[0m\u001b[0;34m,\u001b[0m \u001b[0mABCDataFrame\u001b[0m\u001b[0;34m,\u001b[0m \u001b[0mnp\u001b[0m\u001b[0;34m.\u001b[0m\u001b[0mdtype\u001b[0m\u001b[0;34m)\u001b[0m\u001b[0;34m)\u001b[0m\u001b[0;34m:\u001b[0m\u001b[0;34m\u001b[0m\u001b[0;34m\u001b[0m\u001b[0m\n\u001b[0m\u001b[1;32m    283\u001b[0m             \u001b[0;31m# https://github.com/pandas-dev/pandas/issues/22960\u001b[0m\u001b[0;34m\u001b[0m\u001b[0;34m\u001b[0m\u001b[0;34m\u001b[0m\u001b[0m\n\u001b[1;32m    284\u001b[0m             \u001b[0;31m# avoid passing data to `construct_from_string`. This could\u001b[0m\u001b[0;34m\u001b[0m\u001b[0;34m\u001b[0m\u001b[0;34m\u001b[0m\u001b[0m\n",
            "\u001b[0;32m/usr/local/lib/python3.6/dist-packages/pandas/core/dtypes/generic.py\u001b[0m in \u001b[0;36m_check\u001b[0;34m(cls, inst)\u001b[0m\n\u001b[1;32m     10\u001b[0m     \u001b[0;34m@\u001b[0m\u001b[0mclassmethod\u001b[0m  \u001b[0;31m# type: ignore\u001b[0m\u001b[0;34m\u001b[0m\u001b[0;34m\u001b[0m\u001b[0m\n\u001b[1;32m     11\u001b[0m     \u001b[0;32mdef\u001b[0m \u001b[0m_check\u001b[0m\u001b[0;34m(\u001b[0m\u001b[0mcls\u001b[0m\u001b[0;34m,\u001b[0m \u001b[0minst\u001b[0m\u001b[0;34m)\u001b[0m \u001b[0;34m->\u001b[0m \u001b[0mbool\u001b[0m\u001b[0;34m:\u001b[0m\u001b[0;34m\u001b[0m\u001b[0;34m\u001b[0m\u001b[0m\n\u001b[0;32m---> 12\u001b[0;31m         \u001b[0;32mreturn\u001b[0m \u001b[0mgetattr\u001b[0m\u001b[0;34m(\u001b[0m\u001b[0minst\u001b[0m\u001b[0;34m,\u001b[0m \u001b[0mattr\u001b[0m\u001b[0;34m,\u001b[0m \u001b[0;34m\"_typ\"\u001b[0m\u001b[0;34m)\u001b[0m \u001b[0;32min\u001b[0m \u001b[0mcomp\u001b[0m\u001b[0;34m\u001b[0m\u001b[0;34m\u001b[0m\u001b[0m\n\u001b[0m\u001b[1;32m     13\u001b[0m \u001b[0;34m\u001b[0m\u001b[0m\n\u001b[1;32m     14\u001b[0m     \u001b[0mdct\u001b[0m \u001b[0;34m=\u001b[0m \u001b[0mdict\u001b[0m\u001b[0;34m(\u001b[0m\u001b[0m__instancecheck__\u001b[0m\u001b[0;34m=\u001b[0m\u001b[0m_check\u001b[0m\u001b[0;34m,\u001b[0m \u001b[0m__subclasscheck__\u001b[0m\u001b[0;34m=\u001b[0m\u001b[0m_check\u001b[0m\u001b[0;34m)\u001b[0m\u001b[0;34m\u001b[0m\u001b[0;34m\u001b[0m\u001b[0m\n",
            "\u001b[0;31mKeyboardInterrupt\u001b[0m: "
          ]
        }
      ]
    },
    {
      "cell_type": "code",
      "metadata": {
        "id": "IUFTmipoUzhp"
      },
      "source": [
        "dfs = {}\n",
        "new_path = path + \"formated/\"\n",
        "new_files = [\"donnees_2014\", \"donnees_2015\", \"donnees_2016\", \"donnees_2017\", \"donnees_2018\"]\n",
        "\n",
        "for f in new_files:\n",
        "    annee = int(f.split('_')[1])\n",
        "    df = pd.read_csv(new_path + f)\n",
        "    df = df.set_index(df.columns[0])\n",
        "    dfs[annee] = df"
      ],
      "execution_count": 7,
      "outputs": []
    },
    {
      "cell_type": "code",
      "metadata": {
        "id": "69O6H1yz-FTk"
      },
      "source": [
        "'''\n",
        "desc : print out a summary of data of a given dataframe\n",
        "       \n",
        "       compute the mean of CSI, missing values, the number of houseolds.\n",
        "df : a dataframe, to be summed up\n",
        "'''\n",
        "def summary(df):\n",
        "    print(\"NB ROWS : {}\".format(df.shape[0]))\n",
        "    print(\"COLUMNS : {}\".format(list(df.columns)))\n",
        "    print(\"Number of households : {}\\n\".format(df.MEN.unique().shape[0]))\n",
        "    # print(\"Number of NaN values :\")\n",
        "    # print(df.isna().sum()[col[\"data\"]], '\\n')\n",
        "\n",
        "    # print(\"Question 1 missing values : {}\".format(df.S62Q1_1.isna().sum()))\n",
        "    # print(\"Question 2 missing values : {}\".format(df.S62Q1_2.isna().sum()))\n",
        "    # print(\"Question 3 missing values : {}\".format(df.S62Q1_3.isna().sum()))\n",
        "    # print(\"Question 4 missing values : {}\".format(df.S62Q1_4.isna().sum()))\n",
        "    # print(\"Question 5 missing values : {}\".format(df.S62Q1_5.isna().sum()), \"\\n\")\n",
        "\n",
        "    print(\"Number of data by town :\")\n",
        "    for com in sorted(df.COM.unique()):\n",
        "        print(\"\\tTOWN {} : {}(number of rows)\".format(com, df[df.COM == com].shape[0]))\n",
        "\n",
        "    print()\n",
        "    print(df[col[\"data\"] + col[\"target\"]].describe().to_markdown())\n",
        "\n",
        "'''\n",
        "desc : display some plots useful to see what's in the dataframe,\n",
        "       such as CSI by town, or mean CSI by town ... (vraiment j'ai pas d'idée ...)\n",
        "df : a dataframe, to be summed up\n",
        "'''\n",
        "def plot_question_csi(df):\n",
        "    df = df.melt(id_vars=(col[\"metadata\"] + col[\"target\"]), var_name=\"QUESTION\", value_name=\"ANSWER\")\n",
        "\n",
        "    g = sns.FacetGrid(df, col=\"QUESTION\")\n",
        "    g.map(sns.boxplot, \"ANSWER\", \"CSI\")\n",
        "    g.add_legend()\n",
        "    return plt.show()\n"
      ],
      "execution_count": 8,
      "outputs": []
    },
    {
      "cell_type": "code",
      "metadata": {
        "colab": {
          "base_uri": "https://localhost:8080/",
          "height": 786
        },
        "id": "QcO5ah31LQD-",
        "outputId": "f6215e4d-decf-4930-a5f6-3c6cb12ac2b0"
      },
      "source": [
        "print(dfs.keys())\n",
        "annee = 2014\n",
        "summary(dfs[annee])\n",
        "plot_question_csi(dfs[annee])"
      ],
      "execution_count": 11,
      "outputs": [
        {
          "output_type": "stream",
          "text": [
            "dict_keys([2014, 2015, 2016, 2017, 2018])\n",
            "NB ROWS : 5198\n",
            "COLUMNS : ['REG', 'PROV', 'COM', 'VIL', 'MEN', 'YEAR', 'S62Q1_1', 'S62Q1_2', 'S62Q1_3', 'S62Q1_4', 'S62Q1_5', 'CSI']\n",
            "Number of households : 717\n",
            "\n",
            "Number of data by town :\n",
            "\tTOWN 1.0 : 829(number of rows)\n",
            "\tTOWN 2.0 : 740(number of rows)\n",
            "\tTOWN 3.0 : 776(number of rows)\n",
            "\tTOWN 4.0 : 659(number of rows)\n",
            "\tTOWN 5.0 : 570(number of rows)\n",
            "\tTOWN 6.0 : 536(number of rows)\n",
            "\tTOWN 7.0 : 416(number of rows)\n",
            "\tTOWN 8.0 : 207(number of rows)\n",
            "\tTOWN 9.0 : 202(number of rows)\n",
            "\tTOWN 10.0 : 131(number of rows)\n",
            "\tTOWN 11.0 : 36(number of rows)\n",
            "\tTOWN 12.0 : 48(number of rows)\n",
            "\tTOWN 13.0 : 36(number of rows)\n",
            "\tTOWN 15.0 : 12(number of rows)\n",
            "\n",
            "|       |    S62Q1_1 |     S62Q1_2 |     S62Q1_3 |     S62Q1_4 |     S62Q1_5 |        CSI |\n",
            "|:------|-----------:|------------:|------------:|------------:|------------:|-----------:|\n",
            "| count | 5173       | 5165        | 5164        | 5163        | 5162        | 5198       |\n",
            "| mean  |    1.06263 |    0.294482 |    0.998257 |    0.787914 |    0.944401 |    5.92016 |\n",
            "| std   |    1.88676 |    0.932573 |    1.93628  |    1.76313  |    1.94285  |    9.82212 |\n",
            "| min   |    0       |    0        |    0        |    0        |    0        |    0       |\n",
            "| 25%   |    0       |    0        |    0        |    0        |    0        |    0       |\n",
            "| 50%   |    0       |    0        |    0        |    0        |    0        |    0       |\n",
            "| 75%   |    2       |    0        |    1        |    0        |    1        |    8       |\n",
            "| max   |    7       |    7        |    7        |    7        |    7        |   56       |\n"
          ],
          "name": "stdout"
        },
        {
          "output_type": "stream",
          "text": [
            "/usr/local/lib/python3.6/dist-packages/seaborn/axisgrid.py:645: UserWarning: Using the boxplot function without specifying `order` is likely to produce an incorrect plot.\n",
            "  warnings.warn(warning)\n"
          ],
          "name": "stderr"
        },
        {
          "output_type": "display_data",
          "data": {
            "image/png": "[encoded data removed]",
            "text/plain": [
              "<Figure size 1088x216 with 5 Axes>"
            ]
          },
          "metadata": {
            "tags": [],
            "needs_background": "light"
          }
        }
      ]
    },
    {
      "cell_type": "code",
      "metadata": {
        "id": "VNOMRzGnlEH6",
        "outputId": "538aa40d-4207-4313-f821-9353a2ad701e",
        "colab": {
          "base_uri": "https://localhost:8080/",
          "height": 769
        }
      },
      "source": [
        "annee = 2015\n",
        "summary(dfs[annee])\n",
        "plot_question_csi(dfs[annee])"
      ],
      "execution_count": 12,
      "outputs": [
        {
          "output_type": "stream",
          "text": [
            "NB ROWS : 5157\n",
            "COLUMNS : ['REG', 'PROV', 'COM', 'VIL', 'MEN', 'YEAR', 'S62Q1_1', 'S62Q1_2', 'S62Q1_3', 'S62Q1_4', 'S62Q1_5', 'CSI']\n",
            "Number of households : 712\n",
            "\n",
            "Number of data by town :\n",
            "\tTOWN 1.0 : 825(number of rows)\n",
            "\tTOWN 2.0 : 732(number of rows)\n",
            "\tTOWN 3.0 : 769(number of rows)\n",
            "\tTOWN 4.0 : 653(number of rows)\n",
            "\tTOWN 5.0 : 571(number of rows)\n",
            "\tTOWN 6.0 : 520(number of rows)\n",
            "\tTOWN 7.0 : 410(number of rows)\n",
            "\tTOWN 8.0 : 205(number of rows)\n",
            "\tTOWN 9.0 : 206(number of rows)\n",
            "\tTOWN 10.0 : 130(number of rows)\n",
            "\tTOWN 11.0 : 40(number of rows)\n",
            "\tTOWN 12.0 : 48(number of rows)\n",
            "\tTOWN 13.0 : 36(number of rows)\n",
            "\tTOWN 15.0 : 12(number of rows)\n",
            "\n",
            "|       |     S62Q1_1 |     S62Q1_2 |     S62Q1_3 |     S62Q1_4 |     S62Q1_5 |        CSI |\n",
            "|:------|------------:|------------:|------------:|------------:|------------:|-----------:|\n",
            "| count | 5144        | 5074        | 5073        | 5067        | 5064        | 5157       |\n",
            "| mean  |    0.880832 |    0.215412 |    0.777252 |    0.561279 |    0.718602 |    4.42719 |\n",
            "| std   |    1.7574   |    0.813056 |    1.74262  |    1.52643  |    1.74924  |    8.76207 |\n",
            "| min   |    0        |    0        |    0        |    0        |    0        |    0       |\n",
            "| 25%   |    0        |    0        |    0        |    0        |    0        |    0       |\n",
            "| 50%   |    0        |    0        |    0        |    0        |    0        |    0       |\n",
            "| 75%   |    1        |    0        |    0        |    0        |    0        |    5       |\n",
            "| max   |    7        |    7        |    7        |    7        |    7        |   56       |\n"
          ],
          "name": "stdout"
        },
        {
          "output_type": "stream",
          "text": [
            "/usr/local/lib/python3.6/dist-packages/seaborn/axisgrid.py:645: UserWarning: Using the boxplot function without specifying `order` is likely to produce an incorrect plot.\n",
            "  warnings.warn(warning)\n"
          ],
          "name": "stderr"
        },
        {
          "output_type": "display_data",
          "data": {
            "image/png": "[encoded data removed]",
            "text/plain": [
              "<Figure size 1088x216 with 5 Axes>"
            ]
          },
          "metadata": {
            "tags": [],
            "needs_background": "light"
          }
        }
      ]
    },
    {
      "cell_type": "code",
      "metadata": {
        "id": "TIkjIyYwlERW",
        "outputId": "92cabee4-8f98-4690-854b-fd05b16a25b7",
        "colab": {
          "base_uri": "https://localhost:8080/",
          "height": 769
        }
      },
      "source": [
        "annee = 2016\n",
        "summary(dfs[annee])\n",
        "plot_question_csi(dfs[annee])"
      ],
      "execution_count": 13,
      "outputs": [
        {
          "output_type": "stream",
          "text": [
            "NB ROWS : 5233\n",
            "COLUMNS : ['REG', 'PROV', 'COM', 'VIL', 'MEN', 'YEAR', 'S62Q1_1', 'S62Q1_2', 'S62Q1_3', 'S62Q1_4', 'S62Q1_5', 'CSI']\n",
            "Number of households : 714\n",
            "\n",
            "Number of data by town :\n",
            "\tTOWN 1.0 : 828(number of rows)\n",
            "\tTOWN 2.0 : 740(number of rows)\n",
            "\tTOWN 3.0 : 777(number of rows)\n",
            "\tTOWN 4.0 : 666(number of rows)\n",
            "\tTOWN 5.0 : 579(number of rows)\n",
            "\tTOWN 6.0 : 519(number of rows)\n",
            "\tTOWN 7.0 : 427(number of rows)\n",
            "\tTOWN 8.0 : 221(number of rows)\n",
            "\tTOWN 9.0 : 207(number of rows)\n",
            "\tTOWN 10.0 : 132(number of rows)\n",
            "\tTOWN 11.0 : 40(number of rows)\n",
            "\tTOWN 12.0 : 48(number of rows)\n",
            "\tTOWN 13.0 : 37(number of rows)\n",
            "\tTOWN 15.0 : 12(number of rows)\n",
            "\n",
            "|       |     S62Q1_1 |     S62Q1_2 |     S62Q1_3 |     S62Q1_4 |    S62Q1_5 |        CSI |\n",
            "|:------|------------:|------------:|------------:|------------:|-----------:|-----------:|\n",
            "| count | 5181        | 5146        | 5145        | 5144        | 5141       | 5233       |\n",
            "| mean  |    0.736537 |    0.187913 |    0.643149 |    0.446734 |    0.56098 |    3.59966 |\n",
            "| std   |    1.62375  |    0.760963 |    1.61657  |    1.35204  |    1.54165 |    7.88323 |\n",
            "| min   |    0        |    0        |    0        |    0        |    0       |    0       |\n",
            "| 25%   |    0        |    0        |    0        |    0        |    0       |    0       |\n",
            "| 50%   |    0        |    0        |    0        |    0        |    0       |    0       |\n",
            "| 75%   |    1        |    0        |    0        |    0        |    0       |    3       |\n",
            "| max   |    7        |    7        |    7        |    7        |    7       |   56       |\n"
          ],
          "name": "stdout"
        },
        {
          "output_type": "stream",
          "text": [
            "/usr/local/lib/python3.6/dist-packages/seaborn/axisgrid.py:645: UserWarning: Using the boxplot function without specifying `order` is likely to produce an incorrect plot.\n",
            "  warnings.warn(warning)\n"
          ],
          "name": "stderr"
        },
        {
          "output_type": "display_data",
          "data": {
            "image/png": "[encoded data removed]",
            "text/plain": [
              "<Figure size 1088x216 with 5 Axes>"
            ]
          },
          "metadata": {
            "tags": [],
            "needs_background": "light"
          }
        }
      ]
    },
    {
      "cell_type": "code",
      "metadata": {
        "id": "nHVn51q0lEr-",
        "outputId": "f2a44115-e265-498a-80ea-ef8803ac48b3",
        "colab": {
          "base_uri": "https://localhost:8080/",
          "height": 803
        }
      },
      "source": [
        "annee = 2017\n",
        "summary(dfs[annee])\n",
        "plot_question_csi(dfs[annee])"
      ],
      "execution_count": 14,
      "outputs": [
        {
          "output_type": "stream",
          "text": [
            "NB ROWS : 5232\n",
            "COLUMNS : ['REG', 'PROV', 'COM', 'VIL', 'MEN', 'YEAR', 'S62Q1_1', 'S62Q1_2', 'S62Q1_3', 'S62Q1_4', 'S62Q1_5', 'CSI']\n",
            "Number of households : 711\n",
            "\n",
            "Number of data by town :\n",
            "\tTOWN 1.0 : 827(number of rows)\n",
            "\tTOWN 2.0 : 740(number of rows)\n",
            "\tTOWN 3.0 : 773(number of rows)\n",
            "\tTOWN 4.0 : 666(number of rows)\n",
            "\tTOWN 5.0 : 570(number of rows)\n",
            "\tTOWN 6.0 : 529(number of rows)\n",
            "\tTOWN 7.0 : 428(number of rows)\n",
            "\tTOWN 8.0 : 220(number of rows)\n",
            "\tTOWN 9.0 : 208(number of rows)\n",
            "\tTOWN 10.0 : 131(number of rows)\n",
            "\tTOWN 11.0 : 42(number of rows)\n",
            "\tTOWN 12.0 : 48(number of rows)\n",
            "\tTOWN 13.0 : 36(number of rows)\n",
            "\tTOWN 15.0 : 12(number of rows)\n",
            "\tTOWN 24.0 : 1(number of rows)\n",
            "\tTOWN 35.0 : 1(number of rows)\n",
            "\n",
            "|       |     S62Q1_1 |     S62Q1_2 |     S62Q1_3 |     S62Q1_4 |     S62Q1_5 |        CSI |\n",
            "|:------|------------:|------------:|------------:|------------:|------------:|-----------:|\n",
            "| count | 5185        | 5182        | 5184        | 5183        | 5181        | 5232       |\n",
            "| mean  |    0.980135 |    0.183906 |    0.728395 |    0.506656 |    0.704111 |    4.26032 |\n",
            "| std   |    1.84722  |    0.77424  |    1.6835   |    1.39273  |    1.73146  |    8.52609 |\n",
            "| min   |    0        |    0        |    0        |    0        |    0        |    0       |\n",
            "| 25%   |    0        |    0        |    0        |    0        |    0        |    0       |\n",
            "| 50%   |    0        |    0        |    0        |    0        |    0        |    0       |\n",
            "| 75%   |    1        |    0        |    0        |    0        |    0        |    5       |\n",
            "| max   |    7        |    7        |    7        |    7        |    7        |   56       |\n"
          ],
          "name": "stdout"
        },
        {
          "output_type": "stream",
          "text": [
            "/usr/local/lib/python3.6/dist-packages/seaborn/axisgrid.py:645: UserWarning: Using the boxplot function without specifying `order` is likely to produce an incorrect plot.\n",
            "  warnings.warn(warning)\n"
          ],
          "name": "stderr"
        },
        {
          "output_type": "display_data",
          "data": {
            "image/png": "[encoded data removed]",
            "text/plain": [
              "<Figure size 1088x216 with 5 Axes>"
            ]
          },
          "metadata": {
            "tags": [],
            "needs_background": "light"
          }
        }
      ]
    },
    {
      "cell_type": "code",
      "metadata": {
        "id": "pbC4FRwplEko",
        "outputId": "b09a00c8-57e9-4dcf-9a4d-e61f6f0e8f75",
        "colab": {
          "base_uri": "https://localhost:8080/",
          "height": 769
        }
      },
      "source": [
        "annee = 2018\n",
        "summary(dfs[annee])\n",
        "plot_question_csi(dfs[annee])"
      ],
      "execution_count": 15,
      "outputs": [
        {
          "output_type": "stream",
          "text": [
            "NB ROWS : 5165\n",
            "COLUMNS : ['REG', 'PROV', 'COM', 'VIL', 'MEN', 'YEAR', 'S62Q1_1', 'S62Q1_2', 'S62Q1_3', 'S62Q1_4', 'S62Q1_5', 'CSI']\n",
            "Number of households : 710\n",
            "\n",
            "Number of data by town :\n",
            "\tTOWN 1.0 : 807(number of rows)\n",
            "\tTOWN 2.0 : 725(number of rows)\n",
            "\tTOWN 3.0 : 776(number of rows)\n",
            "\tTOWN 4.0 : 653(number of rows)\n",
            "\tTOWN 5.0 : 569(number of rows)\n",
            "\tTOWN 6.0 : 524(number of rows)\n",
            "\tTOWN 7.0 : 426(number of rows)\n",
            "\tTOWN 8.0 : 216(number of rows)\n",
            "\tTOWN 9.0 : 200(number of rows)\n",
            "\tTOWN 10.0 : 132(number of rows)\n",
            "\tTOWN 11.0 : 41(number of rows)\n",
            "\tTOWN 12.0 : 48(number of rows)\n",
            "\tTOWN 13.0 : 36(number of rows)\n",
            "\tTOWN 15.0 : 12(number of rows)\n",
            "\n",
            "|       |    S62Q1_1 |     S62Q1_2 |     S62Q1_3 |    S62Q1_4 |    S62Q1_5 |        CSI |\n",
            "|:------|-----------:|------------:|------------:|-----------:|-----------:|-----------:|\n",
            "| count | 5157       | 5149        | 5147        | 5146       | 5145       | 5165       |\n",
            "| mean  |    1.05701 |    0.180618 |    0.870021 |    0.59658 |    0.76171 |    4.82439 |\n",
            "| std   |    1.90846 |    0.77098  |    1.90465  |    1.56843 |    1.83653 |    9.42856 |\n",
            "| min   |    0       |    0        |    0        |    0       |    0       |    0       |\n",
            "| 25%   |    0       |    0        |    0        |    0       |    0       |    0       |\n",
            "| 50%   |    0       |    0        |    0        |    0       |    0       |    0       |\n",
            "| 75%   |    2       |    0        |    0        |    0       |    0       |    5       |\n",
            "| max   |    7       |    7        |    7        |    7       |    7       |   56       |\n"
          ],
          "name": "stdout"
        },
        {
          "output_type": "stream",
          "text": [
            "/usr/local/lib/python3.6/dist-packages/seaborn/axisgrid.py:645: UserWarning: Using the boxplot function without specifying `order` is likely to produce an incorrect plot.\n",
            "  warnings.warn(warning)\n"
          ],
          "name": "stderr"
        },
        {
          "output_type": "display_data",
          "data": {
            "image/png": "[encoded data removed]",
            "text/plain": [
              "<Figure size 1088x216 with 5 Axes>"
            ]
          },
          "metadata": {
            "tags": [],
            "needs_background": "light"
          }
        }
      ]
    },
    {
      "cell_type": "code",
      "metadata": {
        "id": "uxLYAt3GlEOm"
      },
      "source": [
        ""
      ],
      "execution_count": null,
      "outputs": []
    },
    {
      "cell_type": "code",
      "metadata": {
        "id": "swhFqmZQlEAM"
      },
      "source": [
        ""
      ],
      "execution_count": null,
      "outputs": []
    },
    {
      "cell_type": "code",
      "metadata": {
        "id": "jaH3ebY5YvRH",
        "outputId": "e31b1f76-e93d-4e90-a9d8-335366cf4bdb",
        "colab": {
          "base_uri": "https://localhost:8080/",
          "height": 1000
        }
      },
      "source": [
        "for k in dfs:\n",
        "    # print(k)\n",
        "    df = dfs[k]\n",
        "    # plot_df = df.melt(id_vars=(col[\"metadata\"] + col[\"target\"]), var_name=\"QUESTION\", value_name=\"VALUE\")\n",
        "\n",
        "    # g = sns.FacetGrid(plot_df, col=\"QUESTION\")\n",
        "    # g.map(sns.boxplot, \"VALUE\", \"CSI\")\n",
        "    # g.add_legend()\n",
        "    # plt.show()\n",
        "    plot_question_csi(df)\n"
      ],
      "execution_count": 10,
      "outputs": [
        {
          "output_type": "stream",
          "text": [
            "/usr/local/lib/python3.6/dist-packages/seaborn/axisgrid.py:645: UserWarning: Using the boxplot function without specifying `order` is likely to produce an incorrect plot.\n",
            "  warnings.warn(warning)\n"
          ],
          "name": "stderr"
        },
        {
          "output_type": "display_data",
          "data": {
            "image/png": "[encoded data removed]",
            "text/plain": [
              "<Figure size 1088x216 with 5 Axes>"
            ]
          },
          "metadata": {
            "tags": [],
            "needs_background": "light"
          }
        },
        {
          "output_type": "stream",
          "text": [
            "/usr/local/lib/python3.6/dist-packages/seaborn/axisgrid.py:645: UserWarning: Using the boxplot function without specifying `order` is likely to produce an incorrect plot.\n",
            "  warnings.warn(warning)\n"
          ],
          "name": "stderr"
        },
        {
          "output_type": "display_data",
          "data": {
            "image/png": "[encoded data removed]",
            "text/plain": [
              "<Figure size 1088x216 with 5 Axes>"
            ]
          },
          "metadata": {
            "tags": [],
            "needs_background": "light"
          }
        },
        {
          "output_type": "stream",
          "text": [
            "/usr/local/lib/python3.6/dist-packages/seaborn/axisgrid.py:645: UserWarning: Using the boxplot function without specifying `order` is likely to produce an incorrect plot.\n",
            "  warnings.warn(warning)\n"
          ],
          "name": "stderr"
        },
        {
          "output_type": "display_data",
          "data": {
            "image/png": "[encoded data removed]",
            "text/plain": [
              "<Figure size 1088x216 with 5 Axes>"
            ]
          },
          "metadata": {
            "tags": [],
            "needs_background": "light"
          }
        },
        {
          "output_type": "stream",
          "text": [
            "/usr/local/lib/python3.6/dist-packages/seaborn/axisgrid.py:645: UserWarning: Using the boxplot function without specifying `order` is likely to produce an incorrect plot.\n",
            "  warnings.warn(warning)\n"
          ],
          "name": "stderr"
        },
        {
          "output_type": "display_data",
          "data": {
            "image/png": "[encoded data removed]",
            "text/plain": [
              "<Figure size 1088x216 with 5 Axes>"
            ]
          },
          "metadata": {
            "tags": [],
            "needs_background": "light"
          }
        },
        {
          "output_type": "stream",
          "text": [
            "/usr/local/lib/python3.6/dist-packages/seaborn/axisgrid.py:645: UserWarning: Using the boxplot function without specifying `order` is likely to produce an incorrect plot.\n",
            "  warnings.warn(warning)\n"
          ],
          "name": "stderr"
        },
        {
          "output_type": "display_data",
          "data": {
            "image/png": "[encoded data removed]",
            "text/plain": [
              "<Figure size 1088x216 with 5 Axes>"
            ]
          },
          "metadata": {
            "tags": [],
            "needs_background": "light"
          }
        }
      ]
    },
    {
      "cell_type": "markdown",
      "metadata": {
        "id": "fDpliaJ_pJ3c"
      },
      "source": [
        "# COMPARISON OF EVERY YEAR"
      ]
    },
    {
      "cell_type": "code",
      "metadata": {
        "id": "vP1QeJqWpNvv"
      },
      "source": [
        "# allez hop hop hop on plot"
      ],
      "execution_count": null,
      "outputs": []
    },
    {
      "cell_type": "code",
      "metadata": {
        "id": "YtPBewl9pNtR"
      },
      "source": [
        ""
      ],
      "execution_count": null,
      "outputs": []
    },
    {
      "cell_type": "markdown",
      "metadata": {
        "id": "SP4VqO3OW5IS"
      },
      "source": [
        "# CONCAT EVERY DATA FILE\n",
        "Some functions we'll use to concat those files, we then add a column refering to the year of the file."
      ]
    },
    {
      "cell_type": "code",
      "metadata": {
        "id": "KVq3LCXPWytl",
        "outputId": "ac1e7ae3-33fa-4394-fd35-5e7d2b7c65d1"
      },
      "source": [
        "raw_data = concat(dfs)\n",
        "\n",
        "# SAVES ALL DATA CONCATENED IN A CSV FILE\n",
        "raw_data.to_csv(path + 'donnees.csv')\n",
        "raw_data"
      ],
      "execution_count": null,
      "outputs": [
        {
          "output_type": "execute_result",
          "data": {
            "text/html": [
              "<div>\n",
              "<style scoped>\n",
              "    .dataframe tbody tr th:only-of-type {\n",
              "        vertical-align: middle;\n",
              "    }\n",
              "\n",
              "    .dataframe tbody tr th {\n",
              "        vertical-align: top;\n",
              "    }\n",
              "\n",
              "    .dataframe thead th {\n",
              "        text-align: right;\n",
              "    }\n",
              "</style>\n",
              "<table border=\"1\" class=\"dataframe\">\n",
              "  <thead>\n",
              "    <tr style=\"text-align: right;\">\n",
              "      <th></th>\n",
              "      <th>REG</th>\n",
              "      <th>PROV</th>\n",
              "      <th>COM</th>\n",
              "      <th>VIL</th>\n",
              "      <th>MEN</th>\n",
              "      <th>CENQ</th>\n",
              "      <th>NB_REPA</th>\n",
              "      <th>TYP_JR</th>\n",
              "      <th>CONS_CER1</th>\n",
              "      <th>CONS_CER2</th>\n",
              "      <th>...</th>\n",
              "      <th>Type_men</th>\n",
              "      <th>Classe_SDA</th>\n",
              "      <th>S62Q2</th>\n",
              "      <th>S62Q3_1</th>\n",
              "      <th>S62Q3_2</th>\n",
              "      <th>S62Q3_3</th>\n",
              "      <th>S62Q2_c</th>\n",
              "      <th>S62Q4_3_cor1</th>\n",
              "      <th>S62Q2_1</th>\n",
              "      <th>PrimaryLast3</th>\n",
              "    </tr>\n",
              "  </thead>\n",
              "  <tbody>\n",
              "    <tr>\n",
              "      <th>0</th>\n",
              "      <td>1.0</td>\n",
              "      <td>13.0</td>\n",
              "      <td>1.0</td>\n",
              "      <td>1.0</td>\n",
              "      <td>45.0</td>\n",
              "      <td>76.0</td>\n",
              "      <td>3.0</td>\n",
              "      <td>0.0</td>\n",
              "      <td>1.0</td>\n",
              "      <td>1.0</td>\n",
              "      <td>...</td>\n",
              "      <td>NaN</td>\n",
              "      <td>NaN</td>\n",
              "      <td>NaN</td>\n",
              "      <td>NaN</td>\n",
              "      <td>NaN</td>\n",
              "      <td>NaN</td>\n",
              "      <td>NaN</td>\n",
              "      <td>NaN</td>\n",
              "      <td>NaN</td>\n",
              "      <td>NaN</td>\n",
              "    </tr>\n",
              "    <tr>\n",
              "      <th>1</th>\n",
              "      <td>1.0</td>\n",
              "      <td>13.0</td>\n",
              "      <td>1.0</td>\n",
              "      <td>1.0</td>\n",
              "      <td>58.0</td>\n",
              "      <td>76.0</td>\n",
              "      <td>2.0</td>\n",
              "      <td>0.0</td>\n",
              "      <td>1.0</td>\n",
              "      <td>1.0</td>\n",
              "      <td>...</td>\n",
              "      <td>NaN</td>\n",
              "      <td>NaN</td>\n",
              "      <td>NaN</td>\n",
              "      <td>NaN</td>\n",
              "      <td>NaN</td>\n",
              "      <td>NaN</td>\n",
              "      <td>NaN</td>\n",
              "      <td>NaN</td>\n",
              "      <td>NaN</td>\n",
              "      <td>NaN</td>\n",
              "    </tr>\n",
              "    <tr>\n",
              "      <th>2</th>\n",
              "      <td>1.0</td>\n",
              "      <td>13.0</td>\n",
              "      <td>1.0</td>\n",
              "      <td>1.0</td>\n",
              "      <td>67.0</td>\n",
              "      <td>76.0</td>\n",
              "      <td>2.0</td>\n",
              "      <td>0.0</td>\n",
              "      <td>1.0</td>\n",
              "      <td>1.0</td>\n",
              "      <td>...</td>\n",
              "      <td>NaN</td>\n",
              "      <td>NaN</td>\n",
              "      <td>NaN</td>\n",
              "      <td>NaN</td>\n",
              "      <td>NaN</td>\n",
              "      <td>NaN</td>\n",
              "      <td>NaN</td>\n",
              "      <td>NaN</td>\n",
              "      <td>NaN</td>\n",
              "      <td>NaN</td>\n",
              "    </tr>\n",
              "    <tr>\n",
              "      <th>3</th>\n",
              "      <td>1.0</td>\n",
              "      <td>13.0</td>\n",
              "      <td>1.0</td>\n",
              "      <td>1.0</td>\n",
              "      <td>75.0</td>\n",
              "      <td>76.0</td>\n",
              "      <td>2.0</td>\n",
              "      <td>0.0</td>\n",
              "      <td>1.0</td>\n",
              "      <td>1.0</td>\n",
              "      <td>...</td>\n",
              "      <td>NaN</td>\n",
              "      <td>NaN</td>\n",
              "      <td>NaN</td>\n",
              "      <td>NaN</td>\n",
              "      <td>NaN</td>\n",
              "      <td>NaN</td>\n",
              "      <td>NaN</td>\n",
              "      <td>NaN</td>\n",
              "      <td>NaN</td>\n",
              "      <td>NaN</td>\n",
              "    </tr>\n",
              "    <tr>\n",
              "      <th>4</th>\n",
              "      <td>1.0</td>\n",
              "      <td>13.0</td>\n",
              "      <td>1.0</td>\n",
              "      <td>1.0</td>\n",
              "      <td>84.0</td>\n",
              "      <td>76.0</td>\n",
              "      <td>2.0</td>\n",
              "      <td>0.0</td>\n",
              "      <td>1.0</td>\n",
              "      <td>1.0</td>\n",
              "      <td>...</td>\n",
              "      <td>NaN</td>\n",
              "      <td>NaN</td>\n",
              "      <td>NaN</td>\n",
              "      <td>NaN</td>\n",
              "      <td>NaN</td>\n",
              "      <td>NaN</td>\n",
              "      <td>NaN</td>\n",
              "      <td>NaN</td>\n",
              "      <td>NaN</td>\n",
              "      <td>NaN</td>\n",
              "    </tr>\n",
              "    <tr>\n",
              "      <th>...</th>\n",
              "      <td>...</td>\n",
              "      <td>...</td>\n",
              "      <td>...</td>\n",
              "      <td>...</td>\n",
              "      <td>...</td>\n",
              "      <td>...</td>\n",
              "      <td>...</td>\n",
              "      <td>...</td>\n",
              "      <td>...</td>\n",
              "      <td>...</td>\n",
              "      <td>...</td>\n",
              "      <td>...</td>\n",
              "      <td>...</td>\n",
              "      <td>...</td>\n",
              "      <td>...</td>\n",
              "      <td>...</td>\n",
              "      <td>...</td>\n",
              "      <td>...</td>\n",
              "      <td>...</td>\n",
              "      <td>...</td>\n",
              "      <td>...</td>\n",
              "    </tr>\n",
              "    <tr>\n",
              "      <th>25980</th>\n",
              "      <td>13.0</td>\n",
              "      <td>41.0</td>\n",
              "      <td>5.0</td>\n",
              "      <td>14.0</td>\n",
              "      <td>NaN</td>\n",
              "      <td>NaN</td>\n",
              "      <td>2.0</td>\n",
              "      <td>0.0</td>\n",
              "      <td>1.0</td>\n",
              "      <td>0.0</td>\n",
              "      <td>...</td>\n",
              "      <td>0.0</td>\n",
              "      <td>1.0</td>\n",
              "      <td>3.0</td>\n",
              "      <td>2.0</td>\n",
              "      <td>4.0</td>\n",
              "      <td>5.0</td>\n",
              "      <td>3.0</td>\n",
              "      <td>10000.0</td>\n",
              "      <td>3.0</td>\n",
              "      <td>1.0</td>\n",
              "    </tr>\n",
              "    <tr>\n",
              "      <th>25981</th>\n",
              "      <td>13.0</td>\n",
              "      <td>41.0</td>\n",
              "      <td>5.0</td>\n",
              "      <td>14.0</td>\n",
              "      <td>NaN</td>\n",
              "      <td>NaN</td>\n",
              "      <td>2.0</td>\n",
              "      <td>0.0</td>\n",
              "      <td>1.0</td>\n",
              "      <td>0.0</td>\n",
              "      <td>...</td>\n",
              "      <td>0.0</td>\n",
              "      <td>2.0</td>\n",
              "      <td>3.0</td>\n",
              "      <td>2.0</td>\n",
              "      <td>4.0</td>\n",
              "      <td>5.0</td>\n",
              "      <td>3.0</td>\n",
              "      <td>15000.0</td>\n",
              "      <td>3.0</td>\n",
              "      <td>1.0</td>\n",
              "    </tr>\n",
              "    <tr>\n",
              "      <th>25982</th>\n",
              "      <td>13.0</td>\n",
              "      <td>41.0</td>\n",
              "      <td>5.0</td>\n",
              "      <td>14.0</td>\n",
              "      <td>NaN</td>\n",
              "      <td>NaN</td>\n",
              "      <td>3.0</td>\n",
              "      <td>0.0</td>\n",
              "      <td>1.0</td>\n",
              "      <td>0.0</td>\n",
              "      <td>...</td>\n",
              "      <td>0.0</td>\n",
              "      <td>2.0</td>\n",
              "      <td>3.0</td>\n",
              "      <td>3.0</td>\n",
              "      <td>4.0</td>\n",
              "      <td>2.0</td>\n",
              "      <td>3.0</td>\n",
              "      <td>60000.0</td>\n",
              "      <td>3.0</td>\n",
              "      <td>1.0</td>\n",
              "    </tr>\n",
              "    <tr>\n",
              "      <th>25983</th>\n",
              "      <td>13.0</td>\n",
              "      <td>41.0</td>\n",
              "      <td>5.0</td>\n",
              "      <td>14.0</td>\n",
              "      <td>NaN</td>\n",
              "      <td>NaN</td>\n",
              "      <td>1.0</td>\n",
              "      <td>0.0</td>\n",
              "      <td>1.0</td>\n",
              "      <td>0.0</td>\n",
              "      <td>...</td>\n",
              "      <td>0.0</td>\n",
              "      <td>2.0</td>\n",
              "      <td>3.0</td>\n",
              "      <td>2.0</td>\n",
              "      <td>4.0</td>\n",
              "      <td>5.0</td>\n",
              "      <td>3.0</td>\n",
              "      <td>10000.0</td>\n",
              "      <td>3.0</td>\n",
              "      <td>1.0</td>\n",
              "    </tr>\n",
              "    <tr>\n",
              "      <th>25984</th>\n",
              "      <td>13.0</td>\n",
              "      <td>41.0</td>\n",
              "      <td>5.0</td>\n",
              "      <td>14.0</td>\n",
              "      <td>NaN</td>\n",
              "      <td>NaN</td>\n",
              "      <td>2.0</td>\n",
              "      <td>0.0</td>\n",
              "      <td>1.0</td>\n",
              "      <td>0.0</td>\n",
              "      <td>...</td>\n",
              "      <td>0.0</td>\n",
              "      <td>1.0</td>\n",
              "      <td>3.0</td>\n",
              "      <td>23.0</td>\n",
              "      <td>4.0</td>\n",
              "      <td>5.0</td>\n",
              "      <td>3.0</td>\n",
              "      <td>10000.0</td>\n",
              "      <td>3.0</td>\n",
              "      <td>1.0</td>\n",
              "    </tr>\n",
              "  </tbody>\n",
              "</table>\n",
              "<p>25985 rows × 431 columns</p>\n",
              "</div>"
            ],
            "text/plain": [
              "        REG  PROV  COM   VIL   MEN  CENQ  NB_REPA  TYP_JR  CONS_CER1  \\\n",
              "0       1.0  13.0  1.0   1.0  45.0  76.0      3.0     0.0        1.0   \n",
              "1       1.0  13.0  1.0   1.0  58.0  76.0      2.0     0.0        1.0   \n",
              "2       1.0  13.0  1.0   1.0  67.0  76.0      2.0     0.0        1.0   \n",
              "3       1.0  13.0  1.0   1.0  75.0  76.0      2.0     0.0        1.0   \n",
              "4       1.0  13.0  1.0   1.0  84.0  76.0      2.0     0.0        1.0   \n",
              "...     ...   ...  ...   ...   ...   ...      ...     ...        ...   \n",
              "25980  13.0  41.0  5.0  14.0   NaN   NaN      2.0     0.0        1.0   \n",
              "25981  13.0  41.0  5.0  14.0   NaN   NaN      2.0     0.0        1.0   \n",
              "25982  13.0  41.0  5.0  14.0   NaN   NaN      3.0     0.0        1.0   \n",
              "25983  13.0  41.0  5.0  14.0   NaN   NaN      1.0     0.0        1.0   \n",
              "25984  13.0  41.0  5.0  14.0   NaN   NaN      2.0     0.0        1.0   \n",
              "\n",
              "       CONS_CER2  ...  Type_men  Classe_SDA  S62Q2  S62Q3_1  S62Q3_2  S62Q3_3  \\\n",
              "0            1.0  ...       NaN         NaN    NaN      NaN      NaN      NaN   \n",
              "1            1.0  ...       NaN         NaN    NaN      NaN      NaN      NaN   \n",
              "2            1.0  ...       NaN         NaN    NaN      NaN      NaN      NaN   \n",
              "3            1.0  ...       NaN         NaN    NaN      NaN      NaN      NaN   \n",
              "4            1.0  ...       NaN         NaN    NaN      NaN      NaN      NaN   \n",
              "...          ...  ...       ...         ...    ...      ...      ...      ...   \n",
              "25980        0.0  ...       0.0         1.0    3.0      2.0      4.0      5.0   \n",
              "25981        0.0  ...       0.0         2.0    3.0      2.0      4.0      5.0   \n",
              "25982        0.0  ...       0.0         2.0    3.0      3.0      4.0      2.0   \n",
              "25983        0.0  ...       0.0         2.0    3.0      2.0      4.0      5.0   \n",
              "25984        0.0  ...       0.0         1.0    3.0     23.0      4.0      5.0   \n",
              "\n",
              "       S62Q2_c  S62Q4_3_cor1  S62Q2_1  PrimaryLast3  \n",
              "0          NaN           NaN      NaN           NaN  \n",
              "1          NaN           NaN      NaN           NaN  \n",
              "2          NaN           NaN      NaN           NaN  \n",
              "3          NaN           NaN      NaN           NaN  \n",
              "4          NaN           NaN      NaN           NaN  \n",
              "...        ...           ...      ...           ...  \n",
              "25980      3.0       10000.0      3.0           1.0  \n",
              "25981      3.0       15000.0      3.0           1.0  \n",
              "25982      3.0       60000.0      3.0           1.0  \n",
              "25983      3.0       10000.0      3.0           1.0  \n",
              "25984      3.0       10000.0      3.0           1.0  \n",
              "\n",
              "[25985 rows x 431 columns]"
            ]
          },
          "metadata": {
            "tags": []
          },
          "execution_count": 53
        }
      ]
    },
    {
      "cell_type": "markdown",
      "metadata": {
        "id": "MfiuOeFrW_WB"
      },
      "source": [
        "# ANALYSE\n",
        "\n",
        "Certaines colonnes ont des noms différents et représentant la même métrique, d'autres ne nous intéresse tout simplement pas.\n",
        "On veut alors essayer de réduire le nombre de colonnes."
      ]
    },
    {
      "cell_type": "markdown",
      "metadata": {
        "id": "0VvLfnw3-FTk"
      },
      "source": [
        "__D'abord quelques infos à propos du jeu de données__"
      ]
    },
    {
      "cell_type": "code",
      "metadata": {
        "id": "8Tmnprfr-FTk",
        "outputId": "e0689042-0464-40bc-a7a2-ad8060df1a26"
      },
      "source": [
        "print(\"Total rows : {}\\n\".format(raw_data.shape[0]))\n",
        "\n",
        "print(\"Number of rows containing a NaN value in each columns\\n{}\".format(raw_data.isna().sum()))\n",
        "\n",
        "print(\"\\nNumbers of rows by year\")\n",
        "for (year) in (raw_data.YEAR.unique()):\n",
        "    print(\"\\t {} : {}\".format(year, raw_data[raw_data.YEAR == year].shape[0]))"
      ],
      "execution_count": null,
      "outputs": [
        {
          "output_type": "stream",
          "text": [
            "Total rows : 25985\n",
            "\n",
            "Number of rows containing a NaN value in each columns\n",
            "REG                 0\n",
            "PROV                0\n",
            "COM                 0\n",
            "VIL                 0\n",
            "MEN              5198\n",
            "                ...  \n",
            "S62Q3_3         24141\n",
            "S62Q2_c         20798\n",
            "S62Q4_3_cor1    23285\n",
            "S62Q2_1         20798\n",
            "PrimaryLast3    20787\n",
            "Length: 431, dtype: int64\n",
            "\n",
            "Numbers of rows by year\n",
            "\t 20182019 : 5165\n",
            "\t 20172018 : 5232\n",
            "\t 20162017 : 5233\n",
            "\t 20152016 : 5157\n",
            "\t 20142015 : 5198\n"
          ],
          "name": "stdout"
        }
      ]
    },
    {
      "cell_type": "markdown",
      "metadata": {
        "id": "cSMWOd68-FTk"
      },
      "source": [
        "Let's see if there is the same amount of data over the years :"
      ]
    },
    {
      "cell_type": "code",
      "metadata": {
        "id": "rM1MVLr7-FTl",
        "outputId": "d929797e-1d70-44ef-d9fb-0d4d3a39da9d"
      },
      "source": [
        "for year in raw_data.YEAR.unique():\n",
        "    print(\"YEAR {}/{} :\".format(year[:4], year[4:]))\n",
        "    print(\"\\tNumber of missing CSI rows : {}/{}\".format(raw_data[raw_data.YEAR == year].CSI.isna().sum(),\n",
        "                                                        raw_data[raw_data.YEAR == year].shape[0]))\n",
        "    print(\"\\tNumber of REG : {}\".format(raw_data[raw_data.YEAR == year].loc[:, \"REG\"].unique().shape[0]))\n",
        "    print(\"\\tNumber of PROV : {}\".format(raw_data[raw_data.YEAR == year].loc[:, \"PROV\"].unique().shape[0]))\n",
        "    print(\"\\tNumber of COM : {}\".format(raw_data[raw_data.YEAR == year].loc[:, \"COM\"].unique().shape[0]))\n",
        "    print(\"\\tNumber of VIL : {}\".format(raw_data[raw_data.YEAR == year].loc[:, \"VIL\"].unique().shape[0]))\n",
        "    "
      ],
      "execution_count": null,
      "outputs": [
        {
          "output_type": "stream",
          "text": [
            "YEAR 2018/2019 :\n",
            "\tNumber of missing CSI rows : 5165/5165\n",
            "\tNumber of REG : 13\n",
            "\tNumber of PROV : 45\n",
            "\tNumber of COM : 14\n",
            "\tNumber of VIL : 66\n",
            "YEAR 2017/2018 :\n",
            "\tNumber of missing CSI rows : 55/5232\n",
            "\tNumber of REG : 13\n",
            "\tNumber of PROV : 45\n",
            "\tNumber of COM : 16\n",
            "\tNumber of VIL : 66\n",
            "YEAR 2016/2017 :\n",
            "\tNumber of missing CSI rows : 102/5233\n",
            "\tNumber of REG : 13\n",
            "\tNumber of PROV : 45\n",
            "\tNumber of COM : 14\n",
            "\tNumber of VIL : 69\n",
            "YEAR 2015/2016 :\n",
            "\tNumber of missing CSI rows : 5157/5157\n",
            "\tNumber of REG : 13\n",
            "\tNumber of PROV : 45\n",
            "\tNumber of COM : 14\n",
            "\tNumber of VIL : 66\n",
            "YEAR 2014/2015 :\n",
            "\tNumber of missing CSI rows : 58/5198\n",
            "\tNumber of REG : 13\n",
            "\tNumber of PROV : 45\n",
            "\tNumber of COM : 14\n",
            "\tNumber of VIL : 67\n"
          ],
          "name": "stdout"
        }
      ]
    },
    {
      "cell_type": "markdown",
      "metadata": {
        "id": "-rp02fPP-FTn"
      },
      "source": [
        "__Now let's focus on columns that we're interested in :__"
      ]
    },
    {
      "cell_type": "code",
      "metadata": {
        "id": "iTvhxK_CYYGS",
        "outputId": "005eb8e1-f70f-4824-d486-07b1baea3f2b"
      },
      "source": [
        "for col in raw_data.columns:\n",
        "    print(col)"
      ],
      "execution_count": null,
      "outputs": [
        {
          "output_type": "stream",
          "text": [
            "REG\n",
            "PROV\n",
            "COM\n",
            "VIL\n",
            "MEN\n",
            "CENQ\n",
            "NB_REPA\n",
            "TYP_JR\n",
            "CONS_CER1\n",
            "CONS_CER2\n",
            "CONS_CER3\n",
            "CONS_CER4\n",
            "CONS_CER5\n",
            "CONS_CER6\n",
            "CONS_CER7\n",
            "NBR_CONS_CER\n",
            "PROV_CER\n",
            "CONS_RACTUB1\n",
            "CONS_RACTUB2\n",
            "CONS_RACTUB3\n",
            "CONS_RACTUB4\n",
            "CONS_RACTUB5\n",
            "CONS_RACTUB6\n",
            "CONS_RACTUB7\n",
            "NBR_CONS_RAC\n",
            "PROV_RACTUB\n",
            "CONS_LEGUMIN1\n",
            "CONS_LEGUMIN2\n",
            "CONS_LEGUMIN3\n",
            "CONS_LEGUMIN4\n",
            "CONS_LEGUMIN5\n",
            "CONS_LEGUMIN6\n",
            "CONS_LEGUMIN7\n",
            "NBR_CONS_LEG\n",
            "PROV_LEGUMIN\n",
            "CONS_OLEA1\n",
            "CONS_OLEA2\n",
            "CONS_OLEA3\n",
            "CONS_OLEA4\n",
            "CONS_OLEA5\n",
            "CONS_OLEA6\n",
            "CONS_OLEA7\n",
            "NBR_CONS_OLEA\n",
            "PROV_OLEA\n",
            "CONS_LEGUM1\n",
            "CONS_LEGUM2\n",
            "CONS_LEGUM3\n",
            "CONS_LEGUM4\n",
            "CONS_LEGUM5\n",
            "CONS_LEGUM6\n",
            "CONS_LEGUM7\n",
            "NBR_CONS_LEG_VITA\n",
            "PROV_LEGUM\n",
            "CONS_FEUILLE1\n",
            "CONS_FEUILLE2\n",
            "CONS_FEUILLE3\n",
            "CONS_FEUILLE4\n",
            "CONS_FEUILLE5\n",
            "CONS_FEUILLE6\n",
            "CONS_FEUILLE7\n",
            "NBR_CONS_FEUIL\n",
            "PROV_FEUILLE\n",
            "CONS_FRUIT1\n",
            "CONS_FRUIT2\n",
            "CONS_FRUIT3\n",
            "CONS_FRUIT4\n",
            "CONS_FRUIT5\n",
            "CONS_FRUIT6\n",
            "CONS_FRUIT7\n",
            "NBR_CONS_FR_VITA\n",
            "PROV_FRUIT\n",
            "CONS_AUTLEGUM1\n",
            "CONS_AUTLEGUM2\n",
            "CONS_AUTLEGUM3\n",
            "CONS_AUTLEGUM4\n",
            "CONS_AUTLEGUM5\n",
            "CONS_AUTLEGUM6\n",
            "CONS_AUTLEGUM7\n",
            "NBR_CONS_AUTLEG\n",
            "PROV_AUTLEGUM\n",
            "CONS_AUTRFRU1\n",
            "CONS_AUTRFRU2\n",
            "CONS_AUTRFRU3\n",
            "CONS_AUTRFRU4\n",
            "CONS_AUTRFRU5\n",
            "CONS_AUTRFRU6\n",
            "CONS_AUTRFRU7\n",
            "NBR_CONS_AUTFRUI\n",
            "PROV_AUTRFRU\n",
            "CONS_LAIT1\n",
            "CONS_LAIT2\n",
            "CONS_LAIT3\n",
            "CONS_LAIT4\n",
            "CONS_LAIT5\n",
            "CONS_LAIT6\n",
            "CONS_LAIT7\n",
            "NBR_CONS_LAIT\n",
            "PROV_LAIT\n",
            "CONS_VIANDE1\n",
            "CONS_VIANDE2\n",
            "CONS_VIANDE3\n",
            "CONS_VIANDE4\n",
            "CONS_VIANDE5\n",
            "CONS_VIANDE6\n",
            "CONS_VIANDE7\n",
            "NBR_CONS_VIAND\n",
            "PROV_VIANDE\n",
            "CONS_FOIE1\n",
            "CONS_FOIE2\n",
            "CONS_FOIE3\n",
            "CONS_FOIE4\n",
            "CONS_FOIE5\n",
            "CONS_FOIE6\n",
            "CONS_FOIE7\n",
            "NBR_CONS_FOI\n",
            "PROV_FOIE\n",
            "CONS_POISSON1\n",
            "CONS_POISSON2\n",
            "CONS_POISSON3\n",
            "CONS_POISSON4\n",
            "CONS_POISSON5\n",
            "CONS_POISSON6\n",
            "CONS_POISSON7\n",
            "NBR_CONS_POIS\n",
            "PROV_POISSON\n",
            "CONS_OEUF1\n",
            "CONS_OEUF2\n",
            "CONS_OEUF3\n",
            "CONS_OEUF4\n",
            "CONS_OEUF5\n",
            "CONS_OEUF6\n",
            "CONS_OEUF7\n",
            "NBR_CONS_OEUF\n",
            "PROV_OEUF\n",
            "CONS_HUILE1\n",
            "CONS_HUILE2\n",
            "CONS_HUILE3\n",
            "CONS_HUILE4\n",
            "CONS_HUILE5\n",
            "CONS_HUILE6\n",
            "CONS_HUILE7\n",
            "NBR_CONS_HUILE\n",
            "PROV_HUILE\n",
            "CONS_SUCRE1\n",
            "CONS_SUCRE2\n",
            "CONS_SUCRE3\n",
            "CONS_SUCRE4\n",
            "CONS_SUCRE5\n",
            "CONS_SUCRE6\n",
            "CONS_SUCRE7\n",
            "NBR_CONS_SUCR\n",
            "PROV_SUCR\n",
            "CONS_BOISS1\n",
            "CONS_BOISS2\n",
            "CONS_BOISS3\n",
            "CONS_BOISS4\n",
            "CONS_BOISS5\n",
            "CONS_BOISS6\n",
            "CONS_BOISS7\n",
            "NBR_CONS_BOIS\n",
            "PROV_BOISS\n",
            "CONS_CONDIMENT1\n",
            "CONS_CONDIMENT2\n",
            "CONS_CONDIMENT3\n",
            "CONS_CONDIMENT4\n",
            "CONS_CONDIMENT5\n",
            "CONS_CONDIMENT6\n",
            "CONS_CONDIMENT7\n",
            "NBR_CONS_COND\n",
            "PROV_CONDIMENT\n",
            "S62Q1_1\n",
            "S62Q1_2\n",
            "S62Q1_3\n",
            "S62Q1_4\n",
            "S62Q1_5\n",
            "S62Q21_1\n",
            "S62Q21_2\n",
            "S62Q22_1\n",
            "S62Q22_2\n",
            "S62Q23_1\n",
            "S62Q23_2\n",
            "S62Q24_1\n",
            "S62Q24_2\n",
            "S62Q25_1\n",
            "S62Q25_2\n",
            "S62Q26_1\n",
            "S62Q26_2\n",
            "S62Q27_1\n",
            "S62Q27_2\n",
            "S62Q28_1\n",
            "S62Q28_2\n",
            "S62Q29_1\n",
            "S62Q29_2\n",
            "S62Q210_1\n",
            "S62Q210_2\n",
            "S62Q3\n",
            "S62Q4_1\n",
            "S62Q5_1\n",
            "S62Q4_2\n",
            "S62Q5_2\n",
            "S62Q4_3\n",
            "S62Q5_3\n",
            "S63Q1_A\n",
            "S63Q1_B\n",
            "S63Q1_C\n",
            "S63Q1_D\n",
            "S63Q1_E\n",
            "S63Q1_F\n",
            "S63Q1_G\n",
            "S63Q1_H\n",
            "S63Q1_I\n",
            "S63Q1_J\n",
            "S63Q1_K\n",
            "S63Q1_L\n",
            "S63Q1_M\n",
            "S63Q2_A\n",
            "S63Q2_B\n",
            "S63Q2_C\n",
            "S63Q2_D\n",
            "S63Q3_A\n",
            "S63Q3_B\n",
            "S63Q3_C\n",
            "S63Q3_D\n",
            "S63Q3_E\n",
            "S63Q3_F\n",
            "S63Q3_G\n",
            "S63Q3_H\n",
            "S63Q3_I\n",
            "S63Q3_J\n",
            "S63Q3_K\n",
            "strate_def\n",
            "Coefftot_1819_realloue\n",
            "PrimaryLast\n",
            "YEAR\n",
            "NBR_CONS_HUIL\n",
            "repas_erroné\n",
            "NB_REPA_COR\n",
            "NB_REPA_COR_1\n",
            "NB_REPA_def\n",
            "CER_TOT\n",
            "RACTUB_TOT\n",
            "LEGUMIN_TOT\n",
            "OLEA_TOT\n",
            "LEGUM_TOT\n",
            "FEUILLE_TOT\n",
            "FRUIT_TOT\n",
            "AUTLEGUM_TOT\n",
            "AUTRFRU_TOT\n",
            "LAIT_TOT\n",
            "VIANDE_TOT\n",
            "FOIE_TOT\n",
            "POISSON_TOT\n",
            "OEUF_TOT\n",
            "HUILE_TOT\n",
            "SUCRE_TOT\n",
            "BOISS_TOT\n",
            "CONDIMENT_TOT\n",
            "CER_ACQ1\n",
            "TUB_ACQ1\n",
            "LEGUMIN1\n",
            "ACQ_OLEAGINEU1\n",
            "ACQ_LEGUM1\n",
            "ACQ_FEUILLE1\n",
            "ACQ_FRUIT1\n",
            "ACQ_AUTRES_LEGUME1\n",
            "ACQ_AUTRES_FRUIT1\n",
            "ACQ_LAIT1\n",
            "ACQ_VIANDE1\n",
            "ACQ_FOIE1\n",
            "ACQ_POISSON1\n",
            "ACQ_OEUF1\n",
            "ACQ_HUILE1\n",
            "ACQ_SUCRE1\n",
            "ACQ_BOISSON1\n",
            "ACQ_CONDIMENT1\n",
            "CER_ACQ2\n",
            "TUB_ACQ2\n",
            "LEGUMIN2\n",
            "ACQ_OLEAGINEU2\n",
            "ACQ_LEGUM2\n",
            "ACQ_FEUILLE2\n",
            "ACQ_FRUIT2\n",
            "ACQ_AUTRES_LEGUME2\n",
            "ACQ_AUTRES_FRUIT2\n",
            "ACQ_LAIT2\n",
            "ACQ_VIANDE2\n",
            "ACQ_FOIE2\n",
            "ACQ_POISSON2\n",
            "ACQ_OEUF2\n",
            "ACQ_HUILE2\n",
            "ACQ_SUCRE2\n",
            "ACQ_BOISSON2\n",
            "ACQ_CONDIMENT2\n",
            "Nbre_sources\n",
            "inch2_sources\n",
            "S62Q3_cor\n",
            "S62Q4_1_cor\n",
            "S62Q4_1_def\n",
            "S62Q4_2_cor\n",
            "S62Q4_2_def\n",
            "S62Q4_3_cor\n",
            "S62Q4_3_def\n",
            "S62Q5_1_cor\n",
            "S62Q5_1_def\n",
            "S62Q5_2_cor\n",
            "S62Q5_2_def\n",
            "S62Q5_3_cor\n",
            "S62Q5_3_def\n",
            "Inco_source_revenu\n",
            "cer_tuberJ1\n",
            "cer_tuberJ2\n",
            "cer_tuberJ3\n",
            "cer_tuberJ4\n",
            "cer_tuberJ5\n",
            "cer_tuberJ6\n",
            "cer_tuberJ7\n",
            "Nbre_cer_tub\n",
            "Legumin_oleaJ1\n",
            "Legumin_oleaJ2\n",
            "Legumin_oleaJ3\n",
            "Legumin_oleaJ4\n",
            "Legumin_oleaJ5\n",
            "Legumin_oleaJ6\n",
            "Legumin_oleaJ7\n",
            "nbr_legumi_olea\n",
            "legumes1\n",
            "legumes2\n",
            "legumes3\n",
            "legumes4\n",
            "legumes5\n",
            "legumes6\n",
            "legumes7\n",
            "nbr_legume\n",
            "FruitJ1\n",
            "FruitJ2\n",
            "FruitJ3\n",
            "FruitJ4\n",
            "FruitJ5\n",
            "FruitJ6\n",
            "FruitJ7\n",
            "nbr_fruit\n",
            "ViandesJ1\n",
            "ViandesJ2\n",
            "ViandesJ3\n",
            "ViandesJ4\n",
            "ViandesJ5\n",
            "ViandesJ6\n",
            "ViandesJ7\n",
            "nbr_viande\n",
            "Nbre_lait\n",
            "Nbre_sucre\n",
            "nbr_huile\n",
            "SCA\n",
            "Groupe_SCA1\n",
            "score\n",
            "Groupe_SDA\n",
            "SDA_moyen\n",
            "Stratégie1\n",
            "Stratégie2\n",
            "Stratégie3\n",
            "Stratégie4\n",
            "Stratégie5\n",
            "CSI\n",
            "Strategie\n",
            "Stress\n",
            "Crise\n",
            "Urgence\n",
            "Strateg_def\n",
            "revenu_tot\n",
            "Dep_alim\n",
            "Dep_non_alim_ess\n",
            "Dep_non_alim_soc\n",
            "Dep_alim_1\n",
            "Dep_non_alim_ess_1\n",
            "Dep_tot\n",
            "Part_dep_ali\n",
            "Type_CH\n",
            "classe_dep\n",
            "strag_moyen\n",
            "Class_SCA_def\n",
            "secur_alim\n",
            "secur_alim_fin\n",
            "Stress_\n",
            "Crise_\n",
            "Urgence_\n",
            "Strategies\n",
            "coeftot_men_1718\n",
            "coeftot\n",
            "taille_2017_max\n",
            "SCA_1\n",
            "SCA_1_1\n",
            "Groupe_SCA1_1\n",
            "PROV02\n",
            "PROV37\n",
            "PrimaryLast1\n",
            "N_BREAK\n",
            "S62Q24_1_COR\n",
            "S62Q4_1_COR\n",
            "source_revenu\n",
            "Dep_non_alim\n",
            "Dep_non_alim1\n",
            "Dep_non_alim_1\n",
            "village1\n",
            "strate_def_mean\n",
            "coeff_corrige_region_mean\n",
            "coeff_corrige_region_mean_1\n",
            "coeff_corrige_region_mean_1_1\n",
            "coeff_corrige_region_mean_1_1_1\n",
            "TOTMBRES_max\n",
            "TOTMBRES_max_1\n",
            "TOTMBRES_max_1_1\n",
            "TOTMBRES_max_def\n",
            "LOC\n",
            "TYP_JR_COR\n",
            "N_FICH\n",
            "CODMEN\n",
            "Coeftot_1415_cor_med_mean\n",
            "Groupe_SCA\n",
            "classe_part\n",
            "PrimaryLast2\n",
            "taille_men_mean\n",
            "Type_men\n",
            "Classe_SDA\n",
            "S62Q2\n",
            "S62Q3_1\n",
            "S62Q3_2\n",
            "S62Q3_3\n",
            "S62Q2_c\n",
            "S62Q4_3_cor1\n",
            "S62Q2_1\n",
            "PrimaryLast3\n"
          ],
          "name": "stdout"
        }
      ]
    },
    {
      "cell_type": "code",
      "metadata": {
        "id": "ClsxclTTWytm"
      },
      "source": [
        "# All those columns, are answers to different questions ask to compute a CSI score.\n",
        "# don't know the difference between S62 and S63,\n",
        "# some rows answer only to S62 questions, some answers to all S62 and S63 questions\n",
        "\n",
        "S62_Q1 = [\"S62Q1_1\",\"S62Q1_2\",\"S62Q1_3\",\"S62Q1_4\",\"S62Q1_5\"]\n",
        "S62_Q2 = [\"S62Q21_1\",\"S62Q21_2\",\"S62Q22_1\",\"S62Q22_2\",\"S62Q23_1\",\"S62Q23_2\",\"S62Q24_1\",\"S62Q24_2\",\"S62Q25_1\",\"S62Q25_2\",\"S62Q26_1\",\"S62Q26_2\",\"S62Q27_1\",\"S62Q27_2\",\"S62Q28_1\",\"S62Q28_2\",\"S62Q29_1\",\"S62Q29_2\",\"S62Q210_1\",\"S62Q210_2\"]\n",
        "S62_Q3 = [\"S62Q3\"]\n",
        "S62_Q4 = [\"S62Q4_1\",\"S62Q5_1\",\"S62Q4_2\",\"S62Q5_2\",\"S62Q4_3\"]\n",
        "S62_Q5 = [\"S62Q5_3\",\"S62Q2\",\"S62Q3_1\",\"S62Q3_2\",\"S62Q3_3\"]\n",
        "S62_COR_DEF = [\"S62Q2_c\",\"S62Q4_3_cor1\",\"S62Q2_1\",\"S62Q3_cor\",\"S62Q4_1_cor\",\"S62Q4_1_def\",\"S62Q4_2_cor\",\"S62Q4_2_def\",\"S62Q4_3_cor\",\"S62Q4_3_def\",\"S62Q5_1_cor\",\"S62Q5_1_def\",\"S62Q5_2_cor\",\"S62Q5_2_def\",\"S62Q5_3_cor\",\"S62Q5_3_def\", \"S62Q24_1_COR\",\"S62Q4_1_COR\"]\n",
        "S62 = S62_Q1 + S62_Q2 + S62_Q3 + S62_Q4 + S62_Q5 #+ S62_COR_DEF\n",
        "\n",
        "S63_Q1 = [\"S63Q1_A\",\"S63Q1_B\",\"S63Q1_C\",\"S63Q1_D\",\"S63Q1_E\",\"S63Q1_F\",\"S63Q1_G\",\"S63Q1_H\",\"S63Q1_I\",\"S63Q1_J\",\"S63Q1_K\",\"S63Q1_L\",\"S63Q1_M\"]\n",
        "S63_Q2 = [\"S63Q2_A\",\"S63Q2_B\",\"S63Q2_C\",\"S63Q2_D\"]\n",
        "S63_Q3 = [\"S63Q3_A\",\"S63Q3_B\",\"S63Q3_C\",\"S63Q3_D\",\"S63Q3_E\",\"S63Q3_F\",\"S63Q3_G\",\"S63Q3_H\",\"S63Q3_I\",\"S63Q3_J\",\"S63Q3_K\"]\n",
        "S63 = S63_Q1 + S63_Q2 + S63_Q3\n",
        "\n",
        "STRATEGIE = [\"Stratégie1\",\"Stratégie2\",\"Stratégie3\",\"Stratégie4\",\"Stratégie5\"]\n",
        "\n",
        "# \"CSI\",\"YEAR\" : those are also useful,\n",
        "# the CSI column will surely be our target column, while S63 and S62 arrays will be our variables\n",
        "# \"REG\", \"PROV\", \"COM\", \"VIL\" could also be considered, but not so sure about that yet\n",
        "\n",
        "COL_TO_KEEP = [\"REG\", \"COM\", \"PROV\", \"VIL\", \"MEN\", \"YEAR\"]\n",
        "COL_TO_KEEP += S62_Q1\n"
      ],
      "execution_count": null,
      "outputs": []
    },
    {
      "cell_type": "markdown",
      "metadata": {
        "id": "2f9R9-m_Wytm",
        "outputId": "f50e19b3-c727-4350-92fb-671318af1000"
      },
      "source": [
        "__Some info about the S62 and S63 columns and some other columns__\n",
        "\n",
        "We'll add some plots when we'll know what does the columns represent"
      ]
    },
    {
      "cell_type": "code",
      "metadata": {
        "id": "eQ351oQX-FTn",
        "outputId": "e711138e-449f-4f5b-f848-4cd2f0a5c42a"
      },
      "source": [
        "# Number of NaN values in each column of S62 type\n",
        "raw_data.loc[:, S62].isna().sum()"
      ],
      "execution_count": null,
      "outputs": [
        {
          "output_type": "execute_result",
          "data": {
            "text/plain": [
              "S62Q1_1           145\n",
              "S62Q1_2           269\n",
              "S62Q1_3           272\n",
              "S62Q1_4           282\n",
              "S62Q1_5           292\n",
              "S62Q21_1         5336\n",
              "S62Q21_2         5724\n",
              "S62Q22_1         5351\n",
              "S62Q22_2         6913\n",
              "S62Q23_1         5355\n",
              "S62Q23_2         5884\n",
              "S62Q24_1         5356\n",
              "S62Q24_2         8960\n",
              "S62Q25_1         5372\n",
              "S62Q25_2         7200\n",
              "S62Q26_1         5365\n",
              "S62Q26_2         5595\n",
              "S62Q27_1         5352\n",
              "S62Q27_2         5645\n",
              "S62Q28_1         5354\n",
              "S62Q28_2         7778\n",
              "S62Q29_1         5363\n",
              "S62Q29_2         5755\n",
              "S62Q210_1        5367\n",
              "S62Q210_2        7833\n",
              "S62Q3            5386\n",
              "S62Q4_1           430\n",
              "S62Q5_1          5411\n",
              "S62Q4_2          6897\n",
              "S62Q5_2         10241\n",
              "S62Q4_3         17399\n",
              "S62Q5_3         18419\n",
              "S62Q2           20876\n",
              "S62Q3_1         20961\n",
              "S62Q3_2         22354\n",
              "S62Q3_3         24141\n",
              "S62Q2_c         20798\n",
              "S62Q4_3_cor1    23285\n",
              "S62Q2_1         20798\n",
              "S62Q3_cor       15615\n",
              "S62Q4_1_cor     15760\n",
              "S62Q4_1_def     15698\n",
              "S62Q4_2_cor     14321\n",
              "S62Q4_2_def     18369\n",
              "S62Q4_3_cor     23006\n",
              "S62Q4_3_def     23006\n",
              "S62Q5_1_cor     15653\n",
              "S62Q5_1_def     15653\n",
              "S62Q5_2_cor     18157\n",
              "S62Q5_2_def     18128\n",
              "S62Q5_3_cor     22369\n",
              "S62Q5_3_def     22351\n",
              "S62Q24_1_COR    20806\n",
              "S62Q4_1_COR     20862\n",
              "dtype: int64"
            ]
          },
          "metadata": {
            "tags": []
          },
          "execution_count": 46
        }
      ]
    },
    {
      "cell_type": "code",
      "metadata": {
        "id": "lUuVZaUI-FTn",
        "outputId": "d94a7064-b0dc-4e8c-9598-dcb30941b627"
      },
      "source": [
        "# Number of NaN values in each column of S63 type\n",
        "raw_data.loc[:, S63].isna().sum()"
      ],
      "execution_count": null,
      "outputs": [
        {
          "output_type": "execute_result",
          "data": {
            "text/plain": [
              "S63Q1_A    162\n",
              "S63Q1_B    140\n",
              "S63Q1_C    189\n",
              "S63Q1_D    160\n",
              "S63Q1_E    187\n",
              "S63Q1_F    176\n",
              "S63Q1_G    136\n",
              "S63Q1_H    130\n",
              "S63Q1_I    145\n",
              "S63Q1_J    181\n",
              "S63Q1_K    130\n",
              "S63Q1_L    128\n",
              "S63Q1_M    500\n",
              "S63Q2_A    233\n",
              "S63Q2_B    177\n",
              "S63Q2_C    168\n",
              "S63Q2_D    171\n",
              "S63Q3_A    124\n",
              "S63Q3_B    188\n",
              "S63Q3_C    150\n",
              "S63Q3_D    170\n",
              "S63Q3_E    221\n",
              "S63Q3_F    201\n",
              "S63Q3_G    165\n",
              "S63Q3_H    204\n",
              "S63Q3_I    228\n",
              "S63Q3_J    232\n",
              "S63Q3_K    309\n",
              "dtype: int64"
            ]
          },
          "metadata": {
            "tags": []
          },
          "execution_count": 47
        }
      ]
    },
    {
      "cell_type": "code",
      "metadata": {
        "id": "Y2Q4Do7l-FTn",
        "outputId": "47574bfe-56f7-41bf-8f22-a67872a57fd3"
      },
      "source": [
        "# Number of NaN values in CSI column\n",
        "raw_data.loc[:, \"CSI\"].isna().sum()"
      ],
      "execution_count": null,
      "outputs": [
        {
          "output_type": "execute_result",
          "data": {
            "text/plain": [
              "10537"
            ]
          },
          "metadata": {
            "tags": []
          },
          "execution_count": 30
        }
      ]
    },
    {
      "cell_type": "markdown",
      "metadata": {
        "id": "nCu26U1k-FTn"
      },
      "source": [
        "You can notice that half the data is not mesured, some rows could be filled by calculating the CSI with the help of all S62 and S63 columns. "
      ]
    },
    {
      "cell_type": "markdown",
      "metadata": {
        "id": "DZF5I0LG-FTn"
      },
      "source": [
        "# FEATURE ENGINEERING\n",
        "----\n",
        "We'll see if there is any transformation needed in the data, we could also complete some rows by computing the CSI score."
      ]
    },
    {
      "cell_type": "code",
      "metadata": {
        "id": "FPvVDSyj-FTn"
      },
      "source": [
        ""
      ],
      "execution_count": null,
      "outputs": []
    },
    {
      "cell_type": "code",
      "metadata": {
        "id": "qp7ozrtX-FTn"
      },
      "source": [
        ""
      ],
      "execution_count": null,
      "outputs": []
    },
    {
      "cell_type": "markdown",
      "metadata": {
        "id": "nyphCBX_-FTn"
      },
      "source": [
        "# MODELING"
      ]
    },
    {
      "cell_type": "code",
      "metadata": {
        "id": "6O3jL9EwYTgW"
      },
      "source": [
        ""
      ],
      "execution_count": null,
      "outputs": []
    }
  ]
}