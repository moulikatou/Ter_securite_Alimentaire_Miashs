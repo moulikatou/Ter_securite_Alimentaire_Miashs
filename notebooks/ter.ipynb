{
  "nbformat": 4,
  "nbformat_minor": 0,
  "metadata": {
    "colab": {
      "name": "ter.ipynb",
      "provenance": [],
      "collapsed_sections": [],
      "toc_visible": true,
      "include_colab_link": true
    },
    "kernelspec": {
      "display_name": "Python 3",
      "language": "python",
      "name": "python3"
    },
    "language_info": {
      "codemirror_mode": {
        "name": "ipython",
        "version": 3
      },
      "file_extension": ".py",
      "mimetype": "text/x-python",
      "name": "python",
      "nbconvert_exporter": "python",
      "pygments_lexer": "ipython3",
      "version": "3.7.1"
    }
  },
  "cells": [
    {
      "cell_type": "markdown",
      "metadata": {
        "id": "view-in-github",
        "colab_type": "text"
      },
      "source": [
        "<a href=\"https://colab.research.google.com/github/moulikatou/Ter_securite_Alimentaire_Miashs/blob/vmelancon/notebooks/ter.ipynb\" target=\"_parent\"><img src=\"https://colab.research.google.com/assets/colab-badge.svg\" alt=\"Open In Colab\"/></a>"
      ]
    },
    {
      "cell_type": "markdown",
      "metadata": {
        "id": "epm2BZg-Wz1B"
      },
      "source": [
        "# IMPORTS & GLOBAL VARIABLES\n"
      ]
    },
    {
      "cell_type": "code",
      "metadata": {
        "id": "CwGr86iZWytl",
        "colab": {
          "base_uri": "https://localhost:8080/"
        },
        "outputId": "9bd3dadb-6cd1-4eec-d26e-dc4b9cd22f27"
      },
      "source": [
        "!pip install pyreadstat\n",
        "\n",
        "import os\n",
        "import pandas as pd\n",
        "import numpy as np\n",
        "import pyreadstat as pt\n",
        "\n",
        "import matplotlib.pyplot as plt\n",
        "import seaborn as sns\n",
        "\n",
        "path = \"/content/drive/MyDrive/COLAB_STUFF/donnees/\" # \"../TER_M1_MIASHS/donnees/\""
      ],
      "execution_count": 61,
      "outputs": [
        {
          "output_type": "stream",
          "text": [
            "Requirement already satisfied: pyreadstat in /usr/local/lib/python3.6/dist-packages (1.0.5)\n",
            "Requirement already satisfied: pandas>0.24.0 in /usr/local/lib/python3.6/dist-packages (from pyreadstat) (1.1.4)\n",
            "Requirement already satisfied: python-dateutil>=2.7.3 in /usr/local/lib/python3.6/dist-packages (from pandas>0.24.0->pyreadstat) (2.8.1)\n",
            "Requirement already satisfied: numpy>=1.15.4 in /usr/local/lib/python3.6/dist-packages (from pandas>0.24.0->pyreadstat) (1.18.5)\n",
            "Requirement already satisfied: pytz>=2017.2 in /usr/local/lib/python3.6/dist-packages (from pandas>0.24.0->pyreadstat) (2018.9)\n",
            "Requirement already satisfied: six>=1.5 in /usr/local/lib/python3.6/dist-packages (from python-dateutil>=2.7.3->pandas>0.24.0->pyreadstat) (1.15.0)\n"
          ],
          "name": "stdout"
        }
      ]
    },
    {
      "cell_type": "markdown",
      "metadata": {
        "id": "pB2spE05377p"
      },
      "source": [
        "La cellule suivante permet de vous connecter a votre google drive, vous pourrez ainsi lire et sauver des fichiers dans ce même drive."
      ]
    },
    {
      "cell_type": "code",
      "metadata": {
        "colab": {
          "base_uri": "https://localhost:8080/"
        },
        "id": "ocP0FvU4HzgH",
        "outputId": "b48b0916-828a-4b36-f34e-3b88285273af"
      },
      "source": [
        "from google.colab import drive\n",
        "drive.mount('/content/drive', force_remount=True)"
      ],
      "execution_count": 4,
      "outputs": [
        {
          "output_type": "stream",
          "text": [
            "Mounted at /content/drive\n"
          ],
          "name": "stdout"
        }
      ]
    },
    {
      "cell_type": "markdown",
      "metadata": {
        "id": "Jsoib29k-FTi"
      },
      "source": [
        "A __read function__ to convert a .SAV file into a pandas.DataFrame, and a __concat function__ for later to merge all data"
      ]
    },
    {
      "cell_type": "code",
      "metadata": {
        "id": "9mM5jryrWytl"
      },
      "source": [
        "'''\n",
        "desc : from a filename 'fichier' (with an \".sav\" extension) returns a DataFrame\n",
        "return : DataFrame\n",
        "'''\n",
        "def lire(fichier):\n",
        "    df, meta = pt.read_sav(fichier)\n",
        "    return df\n",
        "\n",
        "'''\n",
        "desc : save a dataframe as a CSV file\n",
        "df : a dataframe to be saved\n",
        "filename : a string, the path where the file should be saved\n",
        "'''\n",
        "def sauver(df, filename):\n",
        "    return df.to_csv(filename)\n",
        "\n",
        "'''\n",
        "desc : concat multiple dataframe, joining the same columns and adding the ones that are different\n",
        "dfs : a list of DataFrame\n",
        "return : the concatenation of dfs\n",
        "'''\n",
        "def concat(dfs):\n",
        "    res = dfs[0]\n",
        "    for i in range(1, len(dfs)):\n",
        "        res = res.merge(dfs[i], how=\"outer\")\n",
        "    return res\n",
        "\n",
        "'''\n",
        "desc : compute a csi score\n",
        "X : a dataframe, answers to all five questions {\"a\":[0-7], \"b\":[0-7], \"c\":[0-7], \"d\":[0-7], \"e\":[0-7]}\n",
        "    to compute the CSI score\n",
        "return : a float, the computed CSI score\n",
        "'''\n",
        "def reduced_csi_score(X):\n",
        "    csi = pd.DataFrame(columns=[\"answers\", \"weight\", \"weighted_score\"])\n",
        "    csi.answers = X\n",
        "    csi.weight = [1,2,1,3,1] # les poids de chaque questions\n",
        "\n",
        "    csi.weighted_score = csi.answers * csi.weight # le score pondéré pour chaque question\n",
        "    # csi.score = csi.weighted_score.sum() # la somme des scores pondérés est le reduced CSI (cf. d-CSI dans la biblio)\n",
        "    return csi.weighted_score.sum()"
      ],
      "execution_count": 54,
      "outputs": []
    },
    {
      "cell_type": "markdown",
      "metadata": {
        "id": "DIHI2k6z-FTi"
      },
      "source": [
        "# FILE BY FILE"
      ]
    },
    {
      "cell_type": "code",
      "metadata": {
        "id": "qivmD2EZ-FTi"
      },
      "source": [
        "files = [\"Base_SA_globale_20182019.sav\", \"cahier6_final_Prev_20172018.sav\", \"Cahier6_def_Prev_20162017.sav\", \"Cahier6_Prev_20152016.sav\", \"Cahier6_Prev_20142015.sav\"]"
      ],
      "execution_count": 55,
      "outputs": []
    },
    {
      "cell_type": "code",
      "metadata": {
        "id": "Gd1ks2j6-FTi"
      },
      "source": [
        "col = {\n",
        "    \"metadata\" : [\"REG\", \"PROV\", \"COM\", \"VIL\", \"MEN\", \"YEAR\"],\n",
        "    \"data\" : [\"Q1\",\"Q2\",\"Q3\",\"Q4\",\"Q5\"],\n",
        "    \"target\" : [\"CSI\"]\n",
        "}\n",
        "col_to_keep = col[\"metadata\"] + col[\"data\"] + col[\"target\"]"
      ],
      "execution_count": 56,
      "outputs": []
    },
    {
      "cell_type": "code",
      "metadata": {
        "id": "UdNeqdRM7urA"
      },
      "source": [
        "dfs = {}\n",
        "new_path = path + \"formated/\"\n",
        "new_files = []"
      ],
      "execution_count": 57,
      "outputs": []
    },
    {
      "cell_type": "code",
      "metadata": {
        "id": "Iuz4JyVN-FTi",
        "colab": {
          "base_uri": "https://localhost:8080/"
        },
        "outputId": "af99f42e-9b27-4b42-b1e1-1d1c997b3a4c"
      },
      "source": [
        "for f in files:\n",
        "    df = lire(path + f)\n",
        "    \n",
        "    annee = f.split('.')[0].split('_')\n",
        "    annee = int(annee[len(annee)-1][:4])\n",
        "    df[\"YEAR\"] = annee\n",
        "\n",
        "    try:\n",
        "        df[\"MEN\"] = df.loc[:, \"CODMEN\"]\n",
        "    except Exception as e:\n",
        "        pass\n",
        "\n",
        "    df[col[\"metadata\"]] = df[col[\"metadata\"]].astype(int) # convert all columns about location as int\n",
        "    for i, column in enumerate([\"S62Q1_1\", \"S62Q1_2\", \"S62Q1_3\", \"S62Q1_4\", \"S62Q1_5\"]): # rename questions columns\n",
        "        df = df.rename(columns={column : col[\"data\"][i]})\n",
        "\n",
        "\n",
        "    df[col[\"target\"]] = np.nan\n",
        "    # pour chaque MEN (donc chaque ligne) du dataframe on calcule le CSI réduit\n",
        "    # (cf. la fonction \"reduced_csi_score(X)\")\n",
        "    for i in range(df.shape[0]):\n",
        "        d = df.iloc[i]\n",
        "        d[col[\"target\"]] = reduced_csi_score(d[col[\"data\"]])\n",
        "        df.iloc[i] = d\n",
        "\n",
        "    df = df.loc[:, col_to_keep]\n",
        "\n",
        "    filename = \"donnees_\" + str(annee) + \".csv\"\n",
        "    new_files.append(filename)\n",
        "    sauver(df, new_path + filename)"
      ],
      "execution_count": 59,
      "outputs": [
        {
          "output_type": "stream",
          "text": [
            "/usr/local/lib/python3.6/dist-packages/ipykernel_launcher.py:23: SettingWithCopyWarning: \n",
            "A value is trying to be set on a copy of a slice from a DataFrame\n",
            "\n",
            "See the caveats in the documentation: https://pandas.pydata.org/pandas-docs/stable/user_guide/indexing.html#returning-a-view-versus-a-copy\n",
            "/usr/local/lib/python3.6/dist-packages/pandas/core/indexing.py:670: SettingWithCopyWarning: \n",
            "A value is trying to be set on a copy of a slice from a DataFrame\n",
            "\n",
            "See the caveats in the documentation: https://pandas.pydata.org/pandas-docs/stable/user_guide/indexing.html#returning-a-view-versus-a-copy\n",
            "  iloc._setitem_with_indexer(indexer, value)\n",
            "/usr/local/lib/python3.6/dist-packages/pandas/core/series.py:1063: SettingWithCopyWarning: \n",
            "A value is trying to be set on a copy of a slice from a DataFrame\n",
            "\n",
            "See the caveats in the documentation: https://pandas.pydata.org/pandas-docs/stable/user_guide/indexing.html#returning-a-view-versus-a-copy\n",
            "  self.loc[key] = value\n"
          ],
          "name": "stderr"
        }
      ]
    },
    {
      "cell_type": "code",
      "metadata": {
        "id": "IUFTmipoUzhp"
      },
      "source": [
        "# dfs = {}\n",
        "# new_path = path + \"formated/\"\n",
        "# new_files = [\"donnees_2014.csv\", \"donnees_2015.csv\", \"donnees_2016.csv\", \"donnees_2017.csv\", \"donnees_2018.csv\"]\n",
        "\n",
        "for _,_,files in os.walk(new_path):\n",
        "    for f in files:\n",
        "        annee = int(f.split('.')[0].split('_')[1])\n",
        "        df = pd.read_csv(new_path + f)\n",
        "        df = df.set_index(df.columns[0])\n",
        "        df[col[\"metadata\"]] = df[col[\"metadata\"]].astype(int)\n",
        "        dfs[annee] = df"
      ],
      "execution_count": 88,
      "outputs": []
    },
    {
      "cell_type": "code",
      "metadata": {
        "id": "69O6H1yz-FTk"
      },
      "source": [
        "'''\n",
        "desc : print out a summary of data of a given dataframe\n",
        "       \n",
        "       compute the mean of CSI, missing values, the number of houseolds.\n",
        "df : a dataframe, to be summed up\n",
        "'''\n",
        "def summary(df):\n",
        "    print(\"NB ROWS : {}\".format(df.shape[0]))\n",
        "    print(\"COLUMNS : {}\\n\".format(list(df.columns)))\n",
        "\n",
        "    print(\"{} HOUSEHOLDS\".format(df.MEN.unique().shape[0]))\n",
        "    print(\"{} VILLAGE\".format(df.VIL.unique().shape[0]))\n",
        "    print(\"{} COMMUNE\".format(df.COM.unique().shape[0]))\n",
        "    print(\"{} PROVINCE\".format(df.PROV.unique().shape[0]))\n",
        "    print(\"{} REGION\".format(df.REG.unique().shape[0]))\n",
        "\n",
        "    print()\n",
        "    print(df[col[\"data\"] + col[\"target\"]].describe().to_markdown())\n",
        "\n",
        "'''\n",
        "desc : display some plots useful to see what's in the dataframe,\n",
        "       such as CSI by town, or mean CSI by town ... (vraiment j'ai pas d'idée ...)\n",
        "df : a dataframe, to be summed up\n",
        "'''\n",
        "def plot_question_csi(df):\n",
        "    df = df.melt(id_vars=(col[\"metadata\"] + col[\"target\"]), var_name=\"QUESTION\", value_name=\"ANSWER\")\n",
        "\n",
        "    g = sns.FacetGrid(df, col=\"QUESTION\")\n",
        "    g.map(sns.boxplot, \"ANSWER\", \"CSI\")\n",
        "    return plt.show()\n"
      ],
      "execution_count": 89,
      "outputs": []
    },
    {
      "cell_type": "code",
      "metadata": {
        "colab": {
          "base_uri": "https://localhost:8080/"
        },
        "id": "QcO5ah31LQD-",
        "outputId": "a4523b3c-6019-450d-d67b-58c9e7cfb114"
      },
      "source": [
        "# print(dfs.keys())\n",
        "annee = 2014\n",
        "summary(dfs[annee])\n",
        "# plot_question_csi(dfs[annee])"
      ],
      "execution_count": 90,
      "outputs": [
        {
          "output_type": "stream",
          "text": [
            "NB ROWS : 5198\n",
            "COLUMNS : ['REG', 'PROV', 'COM', 'VIL', 'MEN', 'YEAR', 'Q1', 'Q2', 'Q3', 'Q4', 'Q5', 'CSI']\n",
            "\n",
            "717 HOUSEHOLDS\n",
            "67 VILLAGE\n",
            "14 COMMUNE\n",
            "45 PROVINCE\n",
            "13 REGION\n",
            "\n",
            "|       |         Q1 |          Q2 |          Q3 |          Q4 |          Q5 |        CSI |\n",
            "|:------|-----------:|------------:|------------:|------------:|------------:|-----------:|\n",
            "| count | 5173       | 5165        | 5164        | 5163        | 5162        | 5198       |\n",
            "| mean  |    1.06263 |    0.294482 |    0.998257 |    0.787914 |    0.944401 |    5.92016 |\n",
            "| std   |    1.88676 |    0.932573 |    1.93628  |    1.76313  |    1.94285  |    9.82212 |\n",
            "| min   |    0       |    0        |    0        |    0        |    0        |    0       |\n",
            "| 25%   |    0       |    0        |    0        |    0        |    0        |    0       |\n",
            "| 50%   |    0       |    0        |    0        |    0        |    0        |    0       |\n",
            "| 75%   |    2       |    0        |    1        |    0        |    1        |    8       |\n",
            "| max   |    7       |    7        |    7        |    7        |    7        |   56       |\n"
          ],
          "name": "stdout"
        }
      ]
    },
    {
      "cell_type": "code",
      "metadata": {
        "id": "VNOMRzGnlEH6"
      },
      "source": [
        "# annee = 2015\n",
        "# summary(dfs[annee])\n",
        "# plot_question_csi(dfs[annee])"
      ],
      "execution_count": 91,
      "outputs": []
    },
    {
      "cell_type": "code",
      "metadata": {
        "id": "TIkjIyYwlERW"
      },
      "source": [
        "# annee = 2016\n",
        "# summary(dfs[annee])\n",
        "# plot_question_csi(dfs[annee])"
      ],
      "execution_count": 92,
      "outputs": []
    },
    {
      "cell_type": "code",
      "metadata": {
        "id": "nHVn51q0lEr-"
      },
      "source": [
        "# annee = 2017\n",
        "# summary(dfs[annee])\n",
        "# plot_question_csi(dfs[annee])"
      ],
      "execution_count": 93,
      "outputs": []
    },
    {
      "cell_type": "code",
      "metadata": {
        "id": "pbC4FRwplEko"
      },
      "source": [
        "# annee = 2018\n",
        "# summary(dfs[annee])\n",
        "# plot_question_csi(dfs[annee])"
      ],
      "execution_count": 94,
      "outputs": []
    },
    {
      "cell_type": "code",
      "metadata": {
        "colab": {
          "base_uri": "https://localhost:8080/",
          "height": 1000
        },
        "id": "jaH3ebY5YvRH",
        "outputId": "d425f293-361e-415e-ec01-e4e8bd2ac8eb"
      },
      "source": [
        "for k in dfs:\n",
        "    df = dfs[k]\n",
        "    plot_question_csi(df)"
      ],
      "execution_count": 95,
      "outputs": [
        {
          "output_type": "stream",
          "text": [
            "/usr/local/lib/python3.6/dist-packages/seaborn/axisgrid.py:645: UserWarning: Using the boxplot function without specifying `order` is likely to produce an incorrect plot.\n",
            "  warnings.warn(warning)\n"
          ],
          "name": "stderr"
        },
        {
          "output_type": "display_data",
          "data": {
            "image/png": "[encoded data removed]",
            "text/plain": [
              "<Figure size 1080x216 with 5 Axes>"
            ]
          },
          "metadata": {
            "tags": [],
            "needs_background": "light"
          }
        },
        {
          "output_type": "stream",
          "text": [
            "/usr/local/lib/python3.6/dist-packages/seaborn/axisgrid.py:645: UserWarning: Using the boxplot function without specifying `order` is likely to produce an incorrect plot.\n",
            "  warnings.warn(warning)\n"
          ],
          "name": "stderr"
        },
        {
          "output_type": "display_data",
          "data": {
            "image/png": "[encoded data removed]",
            "text/plain": [
              "<Figure size 1080x216 with 5 Axes>"
            ]
          },
          "metadata": {
            "tags": [],
            "needs_background": "light"
          }
        },
        {
          "output_type": "stream",
          "text": [
            "/usr/local/lib/python3.6/dist-packages/seaborn/axisgrid.py:645: UserWarning: Using the boxplot function without specifying `order` is likely to produce an incorrect plot.\n",
            "  warnings.warn(warning)\n"
          ],
          "name": "stderr"
        },
        {
          "output_type": "display_data",
          "data": {
            "image/png": "[encoded data removed]",
            "text/plain": [
              "<Figure size 1080x216 with 5 Axes>"
            ]
          },
          "metadata": {
            "tags": [],
            "needs_background": "light"
          }
        },
        {
          "output_type": "stream",
          "text": [
            "/usr/local/lib/python3.6/dist-packages/seaborn/axisgrid.py:645: UserWarning: Using the boxplot function without specifying `order` is likely to produce an incorrect plot.\n",
            "  warnings.warn(warning)\n"
          ],
          "name": "stderr"
        },
        {
          "output_type": "display_data",
          "data": {
            "image/png": "[encoded data removed]",
            "text/plain": [
              "<Figure size 1080x216 with 5 Axes>"
            ]
          },
          "metadata": {
            "tags": [],
            "needs_background": "light"
          }
        },
        {
          "output_type": "stream",
          "text": [
            "/usr/local/lib/python3.6/dist-packages/seaborn/axisgrid.py:645: UserWarning: Using the boxplot function without specifying `order` is likely to produce an incorrect plot.\n",
            "  warnings.warn(warning)\n"
          ],
          "name": "stderr"
        },
        {
          "output_type": "display_data",
          "data": {
            "image/png": "[encoded data removed]",
            "text/plain": [
              "<Figure size 1080x216 with 5 Axes>"
            ]
          },
          "metadata": {
            "tags": [],
            "needs_background": "light"
          }
        }
      ]
    },
    {
      "cell_type": "markdown",
      "metadata": {
        "id": "SP4VqO3OW5IS"
      },
      "source": [
        "# CONCAT EVERY DATA FILE\n",
        "Some functions we'll use to concat those files, we then add a column refering to the year of the file."
      ]
    },
    {
      "cell_type": "code",
      "metadata": {
        "id": "KVq3LCXPWytl",
        "colab": {
          "base_uri": "https://localhost:8080/",
          "height": 419
        },
        "outputId": "cf2253d6-ff69-4a6c-ef19-87250ab3caa6"
      },
      "source": [
        "dfs_list = [dfs[2014], dfs[2015], dfs[2016], dfs[2017], dfs[2018]]\n",
        "raw_data = concat(dfs_list)\n",
        "\n",
        "# SAVES ALL DATA CONCATENED IN A CSV FILE\n",
        "raw_data.to_csv(path + 'donnees.csv')\n",
        "\n",
        "raw_data = raw_data[raw_data.CSI != 0.0]\n",
        "raw_data"
      ],
      "execution_count": 96,
      "outputs": [
        {
          "output_type": "execute_result",
          "data": {
            "text/html": [
              "<div>\n",
              "<style scoped>\n",
              "    .dataframe tbody tr th:only-of-type {\n",
              "        vertical-align: middle;\n",
              "    }\n",
              "\n",
              "    .dataframe tbody tr th {\n",
              "        vertical-align: top;\n",
              "    }\n",
              "\n",
              "    .dataframe thead th {\n",
              "        text-align: right;\n",
              "    }\n",
              "</style>\n",
              "<table border=\"1\" class=\"dataframe\">\n",
              "  <thead>\n",
              "    <tr style=\"text-align: right;\">\n",
              "      <th></th>\n",
              "      <th>REG</th>\n",
              "      <th>PROV</th>\n",
              "      <th>COM</th>\n",
              "      <th>VIL</th>\n",
              "      <th>MEN</th>\n",
              "      <th>YEAR</th>\n",
              "      <th>Q1</th>\n",
              "      <th>Q2</th>\n",
              "      <th>Q3</th>\n",
              "      <th>Q4</th>\n",
              "      <th>Q5</th>\n",
              "      <th>CSI</th>\n",
              "    </tr>\n",
              "  </thead>\n",
              "  <tbody>\n",
              "    <tr>\n",
              "      <th>20</th>\n",
              "      <td>1</td>\n",
              "      <td>13</td>\n",
              "      <td>1</td>\n",
              "      <td>21</td>\n",
              "      <td>26</td>\n",
              "      <td>2014</td>\n",
              "      <td>0.0</td>\n",
              "      <td>1.0</td>\n",
              "      <td>0.0</td>\n",
              "      <td>0.0</td>\n",
              "      <td>0.0</td>\n",
              "      <td>2.0</td>\n",
              "    </tr>\n",
              "    <tr>\n",
              "      <th>21</th>\n",
              "      <td>1</td>\n",
              "      <td>13</td>\n",
              "      <td>1</td>\n",
              "      <td>21</td>\n",
              "      <td>45</td>\n",
              "      <td>2014</td>\n",
              "      <td>0.0</td>\n",
              "      <td>0.0</td>\n",
              "      <td>0.0</td>\n",
              "      <td>1.0</td>\n",
              "      <td>5.0</td>\n",
              "      <td>8.0</td>\n",
              "    </tr>\n",
              "    <tr>\n",
              "      <th>22</th>\n",
              "      <td>1</td>\n",
              "      <td>13</td>\n",
              "      <td>1</td>\n",
              "      <td>21</td>\n",
              "      <td>57</td>\n",
              "      <td>2014</td>\n",
              "      <td>0.0</td>\n",
              "      <td>0.0</td>\n",
              "      <td>2.0</td>\n",
              "      <td>0.0</td>\n",
              "      <td>0.0</td>\n",
              "      <td>2.0</td>\n",
              "    </tr>\n",
              "    <tr>\n",
              "      <th>27</th>\n",
              "      <td>1</td>\n",
              "      <td>13</td>\n",
              "      <td>1</td>\n",
              "      <td>25</td>\n",
              "      <td>181</td>\n",
              "      <td>2014</td>\n",
              "      <td>0.0</td>\n",
              "      <td>0.0</td>\n",
              "      <td>3.0</td>\n",
              "      <td>0.0</td>\n",
              "      <td>3.0</td>\n",
              "      <td>6.0</td>\n",
              "    </tr>\n",
              "    <tr>\n",
              "      <th>31</th>\n",
              "      <td>1</td>\n",
              "      <td>13</td>\n",
              "      <td>1</td>\n",
              "      <td>28</td>\n",
              "      <td>37</td>\n",
              "      <td>2014</td>\n",
              "      <td>1.0</td>\n",
              "      <td>0.0</td>\n",
              "      <td>1.0</td>\n",
              "      <td>0.0</td>\n",
              "      <td>1.0</td>\n",
              "      <td>3.0</td>\n",
              "    </tr>\n",
              "    <tr>\n",
              "      <th>...</th>\n",
              "      <td>...</td>\n",
              "      <td>...</td>\n",
              "      <td>...</td>\n",
              "      <td>...</td>\n",
              "      <td>...</td>\n",
              "      <td>...</td>\n",
              "      <td>...</td>\n",
              "      <td>...</td>\n",
              "      <td>...</td>\n",
              "      <td>...</td>\n",
              "      <td>...</td>\n",
              "      <td>...</td>\n",
              "    </tr>\n",
              "    <tr>\n",
              "      <th>25980</th>\n",
              "      <td>13</td>\n",
              "      <td>41</td>\n",
              "      <td>5</td>\n",
              "      <td>14</td>\n",
              "      <td>39</td>\n",
              "      <td>2018</td>\n",
              "      <td>2.0</td>\n",
              "      <td>0.0</td>\n",
              "      <td>1.0</td>\n",
              "      <td>1.0</td>\n",
              "      <td>1.0</td>\n",
              "      <td>7.0</td>\n",
              "    </tr>\n",
              "    <tr>\n",
              "      <th>25981</th>\n",
              "      <td>13</td>\n",
              "      <td>41</td>\n",
              "      <td>5</td>\n",
              "      <td>14</td>\n",
              "      <td>43</td>\n",
              "      <td>2018</td>\n",
              "      <td>2.0</td>\n",
              "      <td>0.0</td>\n",
              "      <td>1.0</td>\n",
              "      <td>1.0</td>\n",
              "      <td>1.0</td>\n",
              "      <td>7.0</td>\n",
              "    </tr>\n",
              "    <tr>\n",
              "      <th>25982</th>\n",
              "      <td>13</td>\n",
              "      <td>41</td>\n",
              "      <td>5</td>\n",
              "      <td>14</td>\n",
              "      <td>53</td>\n",
              "      <td>2018</td>\n",
              "      <td>1.0</td>\n",
              "      <td>0.0</td>\n",
              "      <td>0.0</td>\n",
              "      <td>1.0</td>\n",
              "      <td>0.0</td>\n",
              "      <td>4.0</td>\n",
              "    </tr>\n",
              "    <tr>\n",
              "      <th>25983</th>\n",
              "      <td>13</td>\n",
              "      <td>41</td>\n",
              "      <td>5</td>\n",
              "      <td>14</td>\n",
              "      <td>68</td>\n",
              "      <td>2018</td>\n",
              "      <td>2.0</td>\n",
              "      <td>0.0</td>\n",
              "      <td>2.0</td>\n",
              "      <td>1.0</td>\n",
              "      <td>0.0</td>\n",
              "      <td>7.0</td>\n",
              "    </tr>\n",
              "    <tr>\n",
              "      <th>25984</th>\n",
              "      <td>13</td>\n",
              "      <td>41</td>\n",
              "      <td>5</td>\n",
              "      <td>14</td>\n",
              "      <td>75</td>\n",
              "      <td>2018</td>\n",
              "      <td>2.0</td>\n",
              "      <td>0.0</td>\n",
              "      <td>2.0</td>\n",
              "      <td>2.0</td>\n",
              "      <td>1.0</td>\n",
              "      <td>11.0</td>\n",
              "    </tr>\n",
              "  </tbody>\n",
              "</table>\n",
              "<p>10625 rows × 12 columns</p>\n",
              "</div>"
            ],
            "text/plain": [
              "       REG  PROV  COM  VIL  MEN  YEAR   Q1   Q2   Q3   Q4   Q5   CSI\n",
              "20       1    13    1   21   26  2014  0.0  1.0  0.0  0.0  0.0   2.0\n",
              "21       1    13    1   21   45  2014  0.0  0.0  0.0  1.0  5.0   8.0\n",
              "22       1    13    1   21   57  2014  0.0  0.0  2.0  0.0  0.0   2.0\n",
              "27       1    13    1   25  181  2014  0.0  0.0  3.0  0.0  3.0   6.0\n",
              "31       1    13    1   28   37  2014  1.0  0.0  1.0  0.0  1.0   3.0\n",
              "...    ...   ...  ...  ...  ...   ...  ...  ...  ...  ...  ...   ...\n",
              "25980   13    41    5   14   39  2018  2.0  0.0  1.0  1.0  1.0   7.0\n",
              "25981   13    41    5   14   43  2018  2.0  0.0  1.0  1.0  1.0   7.0\n",
              "25982   13    41    5   14   53  2018  1.0  0.0  0.0  1.0  0.0   4.0\n",
              "25983   13    41    5   14   68  2018  2.0  0.0  2.0  1.0  0.0   7.0\n",
              "25984   13    41    5   14   75  2018  2.0  0.0  2.0  2.0  1.0  11.0\n",
              "\n",
              "[10625 rows x 12 columns]"
            ]
          },
          "metadata": {
            "tags": []
          },
          "execution_count": 96
        }
      ]
    },
    {
      "cell_type": "code",
      "metadata": {
        "colab": {
          "base_uri": "https://localhost:8080/"
        },
        "id": "Vv5oe5U8r2og",
        "outputId": "9518e735-bcbe-4d00-d76f-1cd79b7f7bfb"
      },
      "source": [
        "print(\"NB DE COM : {}\".format(raw_data.COM.unique().shape[0]))\n",
        "print(\"NB DE PROV : {}\".format(raw_data.PROV.unique().shape[0]))\n",
        "print(\"NB DE REG : {}\".format(raw_data.REG.unique().shape[0]))\n",
        "\n",
        "print(raw_data[col[\"data\"] + col[\"target\"]].describe().to_markdown())"
      ],
      "execution_count": 97,
      "outputs": [
        {
          "output_type": "stream",
          "text": [
            "NB DE COM : 16\n",
            "NB DE PROV : 45\n",
            "NB DE REG : 13\n",
            "|       |          Q1 |           Q2 |          Q3 |          Q4 |          Q5 |        CSI |\n",
            "|:------|------------:|-------------:|------------:|------------:|------------:|-----------:|\n",
            "| count | 10606       | 10608        | 10606       | 10598       | 10598       | 10625      |\n",
            "| mean  |     2.29842 |     0.515083 |     1.94805 |     1.40649 |     1.78949 |    11.2611 |\n",
            "| std   |     2.20963 |     1.20429  |     2.34458 |     2.12795 |     2.38981 |    10.9788 |\n",
            "| min   |     0       |     0        |     0       |     0       |     0       |     1      |\n",
            "| 25%   |     0       |     0        |     0       |     0       |     0       |     3      |\n",
            "| 50%   |     2       |     0        |     1       |     0       |     1       |     7      |\n",
            "| 75%   |     3       |     0        |     3       |     2       |     3       |    15      |\n",
            "| max   |     7       |     7        |     7       |     7       |     7       |    56      |\n"
          ],
          "name": "stdout"
        }
      ]
    },
    {
      "cell_type": "code",
      "metadata": {
        "colab": {
          "base_uri": "https://localhost:8080/"
        },
        "id": "UrNyrbcir2dY",
        "outputId": "a8061013-4745-43a4-9e04-46a14de2095a"
      },
      "source": [
        "plot_data = raw_data.melt(id_vars=(col[\"metadata\"] + col[\"target\"]), var_name=\"QUESTION\", value_name=\"ANSWER\")\n",
        "plot_data.YEAR.unique()"
      ],
      "execution_count": 98,
      "outputs": [
        {
          "output_type": "execute_result",
          "data": {
            "text/plain": [
              "array([2014, 2015, 2016, 2017, 2018])"
            ]
          },
          "metadata": {
            "tags": []
          },
          "execution_count": 98
        }
      ]
    },
    {
      "cell_type": "code",
      "metadata": {
        "colab": {
          "base_uri": "https://localhost:8080/",
          "height": 279
        },
        "id": "A-GLYwFuTE7j",
        "outputId": "eaca4be3-c4fe-4ec8-9058-2caf8630e4ba"
      },
      "source": [
        "g = sns.FacetGrid(plot_data, col=\"QUESTION\")\n",
        "g.map(sns.boxplot, \"ANSWER\", \"CSI\")\n",
        "plt.show()"
      ],
      "execution_count": 110,
      "outputs": [
        {
          "output_type": "stream",
          "text": [
            "/usr/local/lib/python3.6/dist-packages/seaborn/axisgrid.py:645: UserWarning: Using the boxplot function without specifying `order` is likely to produce an incorrect plot.\n",
            "  warnings.warn(warning)\n"
          ],
          "name": "stderr"
        },
        {
          "output_type": "display_data",
          "data": {
            "image/png": "[encoded data removed]",
            "text/plain": [
              "<Figure size 1080x216 with 5 Axes>"
            ]
          },
          "metadata": {
            "tags": [],
            "needs_background": "light"
          }
        }
      ]
    },
    {
      "cell_type": "code",
      "metadata": {
        "colab": {
          "base_uri": "https://localhost:8080/",
          "height": 802
        },
        "id": "raQQjlq7TE5d",
        "outputId": "037de863-e7c1-4051-caea-8cf7103536bc"
      },
      "source": [
        "geo_col = \"COM\"\n",
        "plt.figure(figsize=(30,20))\n",
        "for i, geo in enumerate(plot_data[geo_col].unique()):\n",
        "    df = plot_data[plot_data[geo_col] == geo]\n",
        "\n",
        "    data = []\n",
        "    for j, year in enumerate(plot_data.YEAR.unique()):\n",
        "        data.append(df[df.YEAR == year].CSI)\n",
        "\n",
        "    plt.subplot(4, 4, i+1)\n",
        "    plt.title(geo_col + \" = \" + str(com).upper())\n",
        "    sns.boxplot(x=df.YEAR, y=df.CSI)"
      ],
      "execution_count": 119,
      "outputs": [
        {
          "output_type": "display_data",
          "data": {
            "image/png": "[encoded data removed]",
            "text/plain": [
              "<Figure size 2160x1440 with 16 Axes>"
            ]
          },
          "metadata": {
            "tags": [],
            "needs_background": "light"
          }
        }
      ]
    },
    {
      "cell_type": "code",
      "metadata": {
        "id": "fSviILDHTE2_"
      },
      "source": [
        "# g = sns.FacetGrid(plot_data, col=\"COM\", col_wrap=4)\n",
        "# g.map(sns.boxplot, \"ANSWER\", \"CSI\")# hue=\"YEAR\")\n",
        "# plt.show()"
      ],
      "execution_count": null,
      "outputs": []
    },
    {
      "cell_type": "code",
      "metadata": {
        "id": "950Kc3JxTEfd"
      },
      "source": [
        ""
      ],
      "execution_count": null,
      "outputs": []
    },
    {
      "cell_type": "code",
      "metadata": {
        "id": "8Hl9RqfSTEdP"
      },
      "source": [
        ""
      ],
      "execution_count": null,
      "outputs": []
    },
    {
      "cell_type": "code",
      "metadata": {
        "id": "4JujGdlkTEa7"
      },
      "source": [
        ""
      ],
      "execution_count": null,
      "outputs": []
    },
    {
      "cell_type": "code",
      "metadata": {
        "id": "jrohL8r-z2pE"
      },
      "source": [
        "# data_clean = pd.DataFrame()\n",
        "\n",
        "# data_clean[col[\"metadata\"]] = raw_data[col[\"metadata\"]]\n",
        "# data_clean[col[\"target\"]] = raw_data[col[\"target\"]]\n",
        "\n",
        "# data_clean[\"\"]\n",
        "# for c in col[\"data\"]:\n",
        "#     mask = (raw_data[c] == 0)\n",
        "#     data_clean[c] = raw_data[mask]"
      ],
      "execution_count": 120,
      "outputs": []
    },
    {
      "cell_type": "code",
      "metadata": {
        "id": "ASbFnxa4z2mL"
      },
      "source": [
        ""
      ],
      "execution_count": null,
      "outputs": []
    },
    {
      "cell_type": "markdown",
      "metadata": {
        "id": "MfiuOeFrW_WB"
      },
      "source": [
        "# ANALYSE\n",
        "\n",
        "Certaines colonnes ont des noms différents et représentant la même métrique, d'autres ne nous intéresse tout simplement pas.\n",
        "On veut alors essayer de réduire le nombre de colonnes."
      ]
    },
    {
      "cell_type": "markdown",
      "metadata": {
        "id": "0VvLfnw3-FTk"
      },
      "source": [
        "__D'abord quelques infos à propos du jeu de données__"
      ]
    },
    {
      "cell_type": "code",
      "metadata": {
        "id": "8Tmnprfr-FTk"
      },
      "source": [
        "# print(\"Total rows : {}\\n\".format(raw_data.shape[0]))\n",
        "\n",
        "# print(\"Number of rows containing a NaN value in each columns\\n{}\".format(raw_data.isna().sum()))\n",
        "\n",
        "# print(\"\\nNumbers of rows by year\")\n",
        "# for (year) in (raw_data.YEAR.unique()):\n",
        "#     print(\"\\t {} : {}\".format(year, raw_data[raw_data.YEAR == year].shape[0]))"
      ],
      "execution_count": null,
      "outputs": []
    },
    {
      "cell_type": "markdown",
      "metadata": {
        "id": "cSMWOd68-FTk"
      },
      "source": [
        "Let's see if there is the same amount of data over the years :"
      ]
    },
    {
      "cell_type": "code",
      "metadata": {
        "id": "rM1MVLr7-FTl"
      },
      "source": [
        "# for year in raw_data.YEAR.unique():\n",
        "#     print(\"YEAR {}/{} :\".format(year[:4], year[4:]))\n",
        "#     print(\"\\tNumber of missing CSI rows : {}/{}\".format(raw_data[raw_data.YEAR == year].CSI.isna().sum(),\n",
        "#                                                         raw_data[raw_data.YEAR == year].shape[0]))\n",
        "#     print(\"\\tNumber of REG : {}\".format(raw_data[raw_data.YEAR == year].loc[:, \"REG\"].unique().shape[0]))\n",
        "#     print(\"\\tNumber of PROV : {}\".format(raw_data[raw_data.YEAR == year].loc[:, \"PROV\"].unique().shape[0]))\n",
        "#     print(\"\\tNumber of COM : {}\".format(raw_data[raw_data.YEAR == year].loc[:, \"COM\"].unique().shape[0]))\n",
        "#     print(\"\\tNumber of VIL : {}\".format(raw_data[raw_data.YEAR == year].loc[:, \"VIL\"].unique().shape[0]))\n",
        "    "
      ],
      "execution_count": null,
      "outputs": []
    },
    {
      "cell_type": "markdown",
      "metadata": {
        "id": "-rp02fPP-FTn"
      },
      "source": [
        "__Now let's focus on columns that we're interested in :__"
      ]
    },
    {
      "cell_type": "code",
      "metadata": {
        "id": "iTvhxK_CYYGS"
      },
      "source": [
        "# for col in raw_data.columns:\n",
        "#     print(col)"
      ],
      "execution_count": null,
      "outputs": []
    },
    {
      "cell_type": "code",
      "metadata": {
        "id": "ClsxclTTWytm"
      },
      "source": [
        "# All those columns, are answers to different questions ask to compute a CSI score.\n",
        "# don't know the difference between S62 and S63,\n",
        "# some rows answer only to S62 questions, some answers to all S62 and S63 questions\n",
        "\n",
        "S62_Q1 = [\"S62Q1_1\",\"S62Q1_2\",\"S62Q1_3\",\"S62Q1_4\",\"S62Q1_5\"]\n",
        "S62_Q2 = [\"S62Q21_1\",\"S62Q21_2\",\"S62Q22_1\",\"S62Q22_2\",\"S62Q23_1\",\"S62Q23_2\",\"S62Q24_1\",\"S62Q24_2\",\"S62Q25_1\",\"S62Q25_2\",\"S62Q26_1\",\"S62Q26_2\",\"S62Q27_1\",\"S62Q27_2\",\"S62Q28_1\",\"S62Q28_2\",\"S62Q29_1\",\"S62Q29_2\",\"S62Q210_1\",\"S62Q210_2\"]\n",
        "S62_Q3 = [\"S62Q3\"]\n",
        "S62_Q4 = [\"S62Q4_1\",\"S62Q5_1\",\"S62Q4_2\",\"S62Q5_2\",\"S62Q4_3\"]\n",
        "S62_Q5 = [\"S62Q5_3\",\"S62Q2\",\"S62Q3_1\",\"S62Q3_2\",\"S62Q3_3\"]\n",
        "S62_COR_DEF = [\"S62Q2_c\",\"S62Q4_3_cor1\",\"S62Q2_1\",\"S62Q3_cor\",\"S62Q4_1_cor\",\"S62Q4_1_def\",\"S62Q4_2_cor\",\"S62Q4_2_def\",\"S62Q4_3_cor\",\"S62Q4_3_def\",\"S62Q5_1_cor\",\"S62Q5_1_def\",\"S62Q5_2_cor\",\"S62Q5_2_def\",\"S62Q5_3_cor\",\"S62Q5_3_def\", \"S62Q24_1_COR\",\"S62Q4_1_COR\"]\n",
        "S62 = S62_Q1 + S62_Q2 + S62_Q3 + S62_Q4 + S62_Q5 #+ S62_COR_DEF\n",
        "\n",
        "S63_Q1 = [\"S63Q1_A\",\"S63Q1_B\",\"S63Q1_C\",\"S63Q1_D\",\"S63Q1_E\",\"S63Q1_F\",\"S63Q1_G\",\"S63Q1_H\",\"S63Q1_I\",\"S63Q1_J\",\"S63Q1_K\",\"S63Q1_L\",\"S63Q1_M\"]\n",
        "S63_Q2 = [\"S63Q2_A\",\"S63Q2_B\",\"S63Q2_C\",\"S63Q2_D\"]\n",
        "S63_Q3 = [\"S63Q3_A\",\"S63Q3_B\",\"S63Q3_C\",\"S63Q3_D\",\"S63Q3_E\",\"S63Q3_F\",\"S63Q3_G\",\"S63Q3_H\",\"S63Q3_I\",\"S63Q3_J\",\"S63Q3_K\"]\n",
        "S63 = S63_Q1 + S63_Q2 + S63_Q3\n",
        "\n",
        "STRATEGIE = [\"Stratégie1\",\"Stratégie2\",\"Stratégie3\",\"Stratégie4\",\"Stratégie5\"]\n",
        "\n",
        "# \"CSI\",\"YEAR\" : those are also useful,\n",
        "# the CSI column will surely be our target column, while S63 and S62 arrays will be our variables\n",
        "# \"REG\", \"PROV\", \"COM\", \"VIL\" could also be considered, but not so sure about that yet\n",
        "\n",
        "COL_TO_KEEP = [\"REG\", \"COM\", \"PROV\", \"VIL\", \"MEN\", \"YEAR\"]\n",
        "COL_TO_KEEP += S62_Q1\n"
      ],
      "execution_count": null,
      "outputs": []
    },
    {
      "cell_type": "markdown",
      "metadata": {
        "id": "2f9R9-m_Wytm",
        "outputId": "f50e19b3-c727-4350-92fb-671318af1000"
      },
      "source": [
        "__Some info about the S62 and S63 columns and some other columns__\n",
        "\n",
        "We'll add some plots when we'll know what does the columns represent"
      ]
    },
    {
      "cell_type": "code",
      "metadata": {
        "id": "eQ351oQX-FTn"
      },
      "source": [
        "# Number of NaN values in each column of S62 type\n",
        "# raw_data.loc[:, S62].isna().sum()"
      ],
      "execution_count": null,
      "outputs": []
    },
    {
      "cell_type": "code",
      "metadata": {
        "id": "lUuVZaUI-FTn"
      },
      "source": [
        "# Number of NaN values in each column of S63 type\n",
        "# raw_data.loc[:, S63].isna().sum()"
      ],
      "execution_count": null,
      "outputs": []
    },
    {
      "cell_type": "code",
      "metadata": {
        "id": "Y2Q4Do7l-FTn",
        "colab": {
          "base_uri": "https://localhost:8080/"
        },
        "outputId": "41a38fef-efc0-40bc-ed07-25efbac35c77"
      },
      "source": [
        "# Number of NaN values in CSI column\n",
        "raw_data.loc[:, \"CSI\"].isna().sum()"
      ],
      "execution_count": 121,
      "outputs": [
        {
          "output_type": "execute_result",
          "data": {
            "text/plain": [
              "0"
            ]
          },
          "metadata": {
            "tags": []
          },
          "execution_count": 121
        }
      ]
    },
    {
      "cell_type": "markdown",
      "metadata": {
        "id": "nCu26U1k-FTn"
      },
      "source": [
        "You can notice that half the data is not mesured, some rows could be filled by calculating the CSI with the help of all S62 and S63 columns. "
      ]
    },
    {
      "cell_type": "markdown",
      "metadata": {
        "id": "DZF5I0LG-FTn"
      },
      "source": [
        "# FEATURE ENGINEERING\n",
        "----\n",
        "We'll see if there is any transformation needed in the data, we could also complete some rows by computing the CSI score."
      ]
    },
    {
      "cell_type": "code",
      "metadata": {
        "id": "FPvVDSyj-FTn"
      },
      "source": [
        ""
      ],
      "execution_count": null,
      "outputs": []
    },
    {
      "cell_type": "code",
      "metadata": {
        "id": "qp7ozrtX-FTn"
      },
      "source": [
        ""
      ],
      "execution_count": null,
      "outputs": []
    },
    {
      "cell_type": "markdown",
      "metadata": {
        "id": "nyphCBX_-FTn"
      },
      "source": [
        "# MODELING"
      ]
    },
    {
      "cell_type": "code",
      "metadata": {
        "id": "6O3jL9EwYTgW"
      },
      "source": [
        ""
      ],
      "execution_count": null,
      "outputs": []
    }
  ]
}