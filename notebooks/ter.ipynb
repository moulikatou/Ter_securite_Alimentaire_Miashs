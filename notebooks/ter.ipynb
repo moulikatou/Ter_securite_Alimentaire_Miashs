{
  "nbformat": 4,
  "nbformat_minor": 0,
  "metadata": {
    "colab": {
      "name": "ter.ipynb",
      "provenance": [],
      "collapsed_sections": [],
      "toc_visible": true,
      "include_colab_link": true
    },
    "kernelspec": {
      "display_name": "Python 3",
      "language": "python",
      "name": "python3"
    },
    "language_info": {
      "codemirror_mode": {
        "name": "ipython",
        "version": 3
      },
      "file_extension": ".py",
      "mimetype": "text/x-python",
      "name": "python",
      "nbconvert_exporter": "python",
      "pygments_lexer": "ipython3",
      "version": "3.7.1"
    }
  },
  "cells": [
    {
      "cell_type": "markdown",
      "metadata": {
        "id": "view-in-github",
        "colab_type": "text"
      },
      "source": [
        "<a href=\"https://colab.research.google.com/github/moulikatou/Ter_securite_Alimentaire_Miashs/blob/vmelancon/notebooks/ter.ipynb\" target=\"_parent\"><img src=\"https://colab.research.google.com/assets/colab-badge.svg\" alt=\"Open In Colab\"/></a>"
      ]
    },
    {
      "cell_type": "markdown",
      "metadata": {
        "id": "epm2BZg-Wz1B"
      },
      "source": [
        "# IMPORTS & GLOBAL VARIABLES\n"
      ]
    },
    {
      "cell_type": "code",
      "metadata": {
        "id": "CwGr86iZWytl",
        "colab": {
          "base_uri": "https://localhost:8080/"
        },
        "outputId": "4596798d-60bd-4e71-a3d5-7cba973c362f"
      },
      "source": [
        "!pip install pyreadstat\n",
        "import pandas as pd\n",
        "import numpy as np\n",
        "import pyreadstat as pt\n",
        "\n",
        "import matplotlib.pyplot as plt\n",
        "import seaborn as sns\n",
        "\n",
        "path = \"/content/drive/MyDrive/COLAB_STUFF/donnees/\" # \"../TER_M1_MIASHS/donnees/\""
      ],
      "execution_count": 1,
      "outputs": [
        {
          "output_type": "stream",
          "text": [
            "Requirement already satisfied: pyreadstat in /usr/local/lib/python3.6/dist-packages (1.0.5)\n",
            "Requirement already satisfied: pandas>0.24.0 in /usr/local/lib/python3.6/dist-packages (from pyreadstat) (1.1.4)\n",
            "Requirement already satisfied: pytz>=2017.2 in /usr/local/lib/python3.6/dist-packages (from pandas>0.24.0->pyreadstat) (2018.9)\n",
            "Requirement already satisfied: python-dateutil>=2.7.3 in /usr/local/lib/python3.6/dist-packages (from pandas>0.24.0->pyreadstat) (2.8.1)\n",
            "Requirement already satisfied: numpy>=1.15.4 in /usr/local/lib/python3.6/dist-packages (from pandas>0.24.0->pyreadstat) (1.18.5)\n",
            "Requirement already satisfied: six>=1.5 in /usr/local/lib/python3.6/dist-packages (from python-dateutil>=2.7.3->pandas>0.24.0->pyreadstat) (1.15.0)\n"
          ],
          "name": "stdout"
        }
      ]
    },
    {
      "cell_type": "code",
      "metadata": {
        "colab": {
          "base_uri": "https://localhost:8080/"
        },
        "id": "ocP0FvU4HzgH",
        "outputId": "9f71e5e1-13a1-437c-ff1a-089b5b267b1b"
      },
      "source": [
        "from google.colab import drive\n",
        "drive.mount('/content/drive', force_remount=True)"
      ],
      "execution_count": 2,
      "outputs": [
        {
          "output_type": "stream",
          "text": [
            "Mounted at /content/drive\n"
          ],
          "name": "stdout"
        }
      ]
    },
    {
      "cell_type": "markdown",
      "metadata": {
        "id": "Jsoib29k-FTi"
      },
      "source": [
        "A __read function__ to convert a .SAV file into a pandas.DataFrame, and a __concat function__ for later to merge all data"
      ]
    },
    {
      "cell_type": "code",
      "metadata": {
        "id": "9mM5jryrWytl"
      },
      "source": [
        "'''\n",
        "desc : from a filename 'fichier' (with an \".sav\" extension) returns a DataFrame\n",
        "return : DataFrame\n",
        "'''\n",
        "def lire(fichier):\n",
        "    df, meta = pt.read_sav(fichier)\n",
        "    return df\n",
        "\n",
        "'''\n",
        "desc : save a dataframe as a CSV file\n",
        "df : a dataframe to be saved\n",
        "filename : a string, the path where the file should be saved\n",
        "'''\n",
        "def sauver(df, filename):\n",
        "    return df.to_csv(filename)\n",
        "\n",
        "'''\n",
        "desc : concat multiple dataframe, joining the same columns and adding the ones that are different\n",
        "dfs : a list of DataFrame\n",
        "return : the concatenation of dfs\n",
        "'''\n",
        "def concat(dfs):\n",
        "    res = dfs[0]\n",
        "    for i in range(1, len(dfs)):\n",
        "        res = res.merge(dfs[i], how=\"outer\")\n",
        "    return res\n",
        "\n",
        "'''\n",
        "desc : compute a csi score\n",
        "X : a dataframe, answers to all five questions {\"a\":[0-7], \"b\":[0-7], \"c\":[0-7], \"d\":[0-7], \"e\":[0-7]}\n",
        "    to compute the CSI score\n",
        "return : a float, the computed CSI score\n",
        "'''\n",
        "def reduced_csi_score(X):\n",
        "    csi = pd.DataFrame(columns=[\"answers\", \"weight\", \"weighted_score\"])\n",
        "    csi.answers = X\n",
        "    csi.weight = [1,2,1,3,1]\n",
        "\n",
        "    csi.weighted_score = csi.answers * csi.weight\n",
        "    csi.score = csi.weighted_score.sum()\n",
        "    return csi"
      ],
      "execution_count": 3,
      "outputs": []
    },
    {
      "cell_type": "markdown",
      "metadata": {
        "id": "DIHI2k6z-FTi"
      },
      "source": [
        "# FILE BY FILE"
      ]
    },
    {
      "cell_type": "code",
      "metadata": {
        "id": "qivmD2EZ-FTi"
      },
      "source": [
        "files = [\"Base_SA_globale_20182019.sav\", \"cahier6_final_Prev_20172018.sav\", \"Cahier6_def_Prev_20162017.sav\", \"Cahier6_Prev_20152016.sav\", \"Cahier6_Prev_20142015.sav\"]"
      ],
      "execution_count": 4,
      "outputs": []
    },
    {
      "cell_type": "code",
      "metadata": {
        "id": "Gd1ks2j6-FTi"
      },
      "source": [
        "col = {\n",
        "    \"metadata\" : [\"REG\", \"PROV\", \"COM\", \"VIL\", \"MEN\", \"YEAR\"],\n",
        "    \"data\" : [\"S62Q1_1\",\"S62Q1_2\",\"S62Q1_3\",\"S62Q1_4\",\"S62Q1_5\"],\n",
        "    \"target\" : [\"CSI\"]\n",
        "}\n",
        "col_to_keep = col[\"metadata\"] + col[\"data\"] + col[\"target\"]"
      ],
      "execution_count": 85,
      "outputs": []
    },
    {
      "cell_type": "code",
      "metadata": {
        "id": "Iuz4JyVN-FTi"
      },
      "source": [
        "dfs = {}\n",
        "new_path = path + \"formated/\"\n",
        "new_files = []\n",
        "for f in files:\n",
        "    df = lire(path + f)\n",
        "    \n",
        "    annee = f.split('.')[0].split('_')\n",
        "    annee = int(annee[len(annee)-1][:4])\n",
        "    df[\"YEAR\"] = annee\n",
        "    df[col[\"target\"]] = np.nan\n",
        "\n",
        "    try:\n",
        "        df[\"MEN\"] = df.loc[:, \"CODMEN\"]\n",
        "    except Exception as e:\n",
        "        pass\n",
        "\n",
        "    for i in range(df.shape[0]):\n",
        "        d = df.iloc[i]\n",
        "        CSI = reduced_csi_score(d[col[\"data\"]])\n",
        "        d[col[\"target\"]] = CSI.score\n",
        "        df.iloc[i] = d\n",
        "\n",
        "    df = df.loc[:, col_to_keep]\n",
        "\n",
        "    filename = \"donnees_\" + str(annee)\n",
        "    new_files.append(filename)\n",
        "\n",
        "    sauver(df, path + filename)\n",
        "    dfs[annee] = df"
      ],
      "execution_count": 17,
      "outputs": []
    },
    {
      "cell_type": "code",
      "metadata": {
        "id": "IUFTmipoUzhp"
      },
      "source": [
        "dfs = {}\n",
        "new_path = path + \"formated/\"\n",
        "new_files = [\"donnees_2014\", \"donnees_2015\", \"donnees_2016\", \"donnees_2017\", \"donnees_2018\"]\n",
        "\n",
        "for f in new_files:\n",
        "    annee = int(f.split('_')[1])\n",
        "    df = pd.read_csv(new_path + f)\n",
        "    df = df.set_index(df.columns[0])\n",
        "    df[col[\"metadata\"]] = df[col[\"metadata\"]].astype(int)\n",
        "    dfs[annee] = df"
      ],
      "execution_count": 86,
      "outputs": []
    },
    {
      "cell_type": "code",
      "metadata": {
        "id": "69O6H1yz-FTk"
      },
      "source": [
        "'''\n",
        "desc : print out a summary of data of a given dataframe\n",
        "       \n",
        "       compute the mean of CSI, missing values, the number of houseolds.\n",
        "df : a dataframe, to be summed up\n",
        "'''\n",
        "def summary(df):\n",
        "    print(\"NB ROWS : {}\".format(df.shape[0]))\n",
        "    print(\"COLUMNS : {}\".format(list(df.columns)))\n",
        "    print(\"Number of households : {}\\n\".format(df.MEN.unique().shape[0]))\n",
        "    # print(\"Number of NaN values :\")\n",
        "    # print(df.isna().sum()[col[\"data\"]], '\\n')\n",
        "\n",
        "    # print(\"Question 1 missing values : {}\".format(df.S62Q1_1.isna().sum()))\n",
        "    # print(\"Question 2 missing values : {}\".format(df.S62Q1_2.isna().sum()))\n",
        "    # print(\"Question 3 missing values : {}\".format(df.S62Q1_3.isna().sum()))\n",
        "    # print(\"Question 4 missing values : {}\".format(df.S62Q1_4.isna().sum()))\n",
        "    # print(\"Question 5 missing values : {}\".format(df.S62Q1_5.isna().sum()), \"\\n\")\n",
        "\n",
        "    print(\"Number of data by town :\")\n",
        "    for com in sorted(df.COM.unique()):\n",
        "        print(\"\\tTOWN {} : {}(number of rows)\".format(com, df[df.COM == com].shape[0]))\n",
        "\n",
        "    print()\n",
        "    print(df[col[\"data\"] + col[\"target\"]].describe().to_markdown())\n",
        "\n",
        "'''\n",
        "desc : display some plots useful to see what's in the dataframe,\n",
        "       such as CSI by town, or mean CSI by town ... (vraiment j'ai pas d'idée ...)\n",
        "df : a dataframe, to be summed up\n",
        "'''\n",
        "def plot_question_csi(df):\n",
        "    df = df.melt(id_vars=(col[\"metadata\"] + col[\"target\"]), var_name=\"QUESTION\", value_name=\"ANSWER\")\n",
        "\n",
        "    g = sns.FacetGrid(df, col=\"QUESTION\")\n",
        "    g.map(sns.boxplot, \"ANSWER\", \"CSI\")\n",
        "    g.add_legend()\n",
        "    return plt.show()\n"
      ],
      "execution_count": 20,
      "outputs": []
    },
    {
      "cell_type": "code",
      "metadata": {
        "colab": {
          "base_uri": "https://localhost:8080/"
        },
        "id": "QcO5ah31LQD-",
        "outputId": "c7d1f5ec-327d-49bd-94ef-9f2459c6b85a"
      },
      "source": [
        "print(dfs.keys())\n",
        "annee = 2014\n",
        "summary(dfs[annee])\n",
        "# plot_question_csi(dfs[annee])"
      ],
      "execution_count": 97,
      "outputs": [
        {
          "output_type": "stream",
          "text": [
            "dict_keys([2014, 2015, 2016, 2017, 2018])\n",
            "NB ROWS : 5198\n",
            "COLUMNS : ['REG', 'PROV', 'COM', 'VIL', 'MEN', 'YEAR', 'S62Q1_1', 'S62Q1_2', 'S62Q1_3', 'S62Q1_4', 'S62Q1_5', 'CSI']\n",
            "Number of households : 717\n",
            "\n",
            "Number of data by town :\n",
            "\tTOWN 1 : 829(number of rows)\n",
            "\tTOWN 2 : 740(number of rows)\n",
            "\tTOWN 3 : 776(number of rows)\n",
            "\tTOWN 4 : 659(number of rows)\n",
            "\tTOWN 5 : 570(number of rows)\n",
            "\tTOWN 6 : 536(number of rows)\n",
            "\tTOWN 7 : 416(number of rows)\n",
            "\tTOWN 8 : 207(number of rows)\n",
            "\tTOWN 9 : 202(number of rows)\n",
            "\tTOWN 10 : 131(number of rows)\n",
            "\tTOWN 11 : 36(number of rows)\n",
            "\tTOWN 12 : 48(number of rows)\n",
            "\tTOWN 13 : 36(number of rows)\n",
            "\tTOWN 15 : 12(number of rows)\n",
            "\n",
            "|       |    S62Q1_1 |     S62Q1_2 |     S62Q1_3 |     S62Q1_4 |     S62Q1_5 |        CSI |\n",
            "|:------|-----------:|------------:|------------:|------------:|------------:|-----------:|\n",
            "| count | 5173       | 5165        | 5164        | 5163        | 5162        | 5198       |\n",
            "| mean  |    1.06263 |    0.294482 |    0.998257 |    0.787914 |    0.944401 |    5.92016 |\n",
            "| std   |    1.88676 |    0.932573 |    1.93628  |    1.76313  |    1.94285  |    9.82212 |\n",
            "| min   |    0       |    0        |    0        |    0        |    0        |    0       |\n",
            "| 25%   |    0       |    0        |    0        |    0        |    0        |    0       |\n",
            "| 50%   |    0       |    0        |    0        |    0        |    0        |    0       |\n",
            "| 75%   |    2       |    0        |    1        |    0        |    1        |    8       |\n",
            "| max   |    7       |    7        |    7        |    7        |    7        |   56       |\n"
          ],
          "name": "stdout"
        }
      ]
    },
    {
      "cell_type": "code",
      "metadata": {
        "colab": {
          "base_uri": "https://localhost:8080/"
        },
        "id": "VNOMRzGnlEH6",
        "outputId": "8d93232c-d811-48a2-f747-cbd3d0735116"
      },
      "source": [
        "annee = 2015\n",
        "summary(dfs[annee])\n",
        "# plot_question_csi(dfs[annee])"
      ],
      "execution_count": 98,
      "outputs": [
        {
          "output_type": "stream",
          "text": [
            "NB ROWS : 5157\n",
            "COLUMNS : ['REG', 'PROV', 'COM', 'VIL', 'MEN', 'YEAR', 'S62Q1_1', 'S62Q1_2', 'S62Q1_3', 'S62Q1_4', 'S62Q1_5', 'CSI']\n",
            "Number of households : 712\n",
            "\n",
            "Number of data by town :\n",
            "\tTOWN 1 : 825(number of rows)\n",
            "\tTOWN 2 : 732(number of rows)\n",
            "\tTOWN 3 : 769(number of rows)\n",
            "\tTOWN 4 : 653(number of rows)\n",
            "\tTOWN 5 : 571(number of rows)\n",
            "\tTOWN 6 : 520(number of rows)\n",
            "\tTOWN 7 : 410(number of rows)\n",
            "\tTOWN 8 : 205(number of rows)\n",
            "\tTOWN 9 : 206(number of rows)\n",
            "\tTOWN 10 : 130(number of rows)\n",
            "\tTOWN 11 : 40(number of rows)\n",
            "\tTOWN 12 : 48(number of rows)\n",
            "\tTOWN 13 : 36(number of rows)\n",
            "\tTOWN 15 : 12(number of rows)\n",
            "\n",
            "|       |     S62Q1_1 |     S62Q1_2 |     S62Q1_3 |     S62Q1_4 |     S62Q1_5 |        CSI |\n",
            "|:------|------------:|------------:|------------:|------------:|------------:|-----------:|\n",
            "| count | 5144        | 5074        | 5073        | 5067        | 5064        | 5157       |\n",
            "| mean  |    0.880832 |    0.215412 |    0.777252 |    0.561279 |    0.718602 |    4.42719 |\n",
            "| std   |    1.7574   |    0.813056 |    1.74262  |    1.52643  |    1.74924  |    8.76207 |\n",
            "| min   |    0        |    0        |    0        |    0        |    0        |    0       |\n",
            "| 25%   |    0        |    0        |    0        |    0        |    0        |    0       |\n",
            "| 50%   |    0        |    0        |    0        |    0        |    0        |    0       |\n",
            "| 75%   |    1        |    0        |    0        |    0        |    0        |    5       |\n",
            "| max   |    7        |    7        |    7        |    7        |    7        |   56       |\n"
          ],
          "name": "stdout"
        }
      ]
    },
    {
      "cell_type": "code",
      "metadata": {
        "id": "TIkjIyYwlERW"
      },
      "source": [
        "# annee = 2016\n",
        "# summary(dfs[annee])\n",
        "# plot_question_csi(dfs[annee])"
      ],
      "execution_count": 23,
      "outputs": []
    },
    {
      "cell_type": "code",
      "metadata": {
        "id": "nHVn51q0lEr-"
      },
      "source": [
        "# annee = 2017\n",
        "# summary(dfs[annee])\n",
        "# plot_question_csi(dfs[annee])"
      ],
      "execution_count": 24,
      "outputs": []
    },
    {
      "cell_type": "code",
      "metadata": {
        "id": "pbC4FRwplEko"
      },
      "source": [
        "# annee = 2018\n",
        "# summary(dfs[annee])\n",
        "# plot_question_csi(dfs[annee])"
      ],
      "execution_count": 25,
      "outputs": []
    },
    {
      "cell_type": "code",
      "metadata": {
        "colab": {
          "base_uri": "https://localhost:8080/",
          "height": 1000
        },
        "id": "jaH3ebY5YvRH",
        "outputId": "e19fe6c2-8f48-4d39-a883-ea74c8d356ee"
      },
      "source": [
        "for k in dfs:\n",
        "    # print(k)\n",
        "    df = dfs[k]\n",
        "    print(df[col[\"data\"] + col[\"target\"]].describe().to_markdown())\n",
        "    plot_question_csi(df)\n"
      ],
      "execution_count": 26,
      "outputs": [
        {
          "output_type": "stream",
          "text": [
            "|       |    S62Q1_1 |     S62Q1_2 |     S62Q1_3 |     S62Q1_4 |     S62Q1_5 |        CSI |\n",
            "|:------|-----------:|------------:|------------:|------------:|------------:|-----------:|\n",
            "| count | 5173       | 5165        | 5164        | 5163        | 5162        | 5198       |\n",
            "| mean  |    1.06263 |    0.294482 |    0.998257 |    0.787914 |    0.944401 |    5.92016 |\n",
            "| std   |    1.88676 |    0.932573 |    1.93628  |    1.76313  |    1.94285  |    9.82212 |\n",
            "| min   |    0       |    0        |    0        |    0        |    0        |    0       |\n",
            "| 25%   |    0       |    0        |    0        |    0        |    0        |    0       |\n",
            "| 50%   |    0       |    0        |    0        |    0        |    0        |    0       |\n",
            "| 75%   |    2       |    0        |    1        |    0        |    1        |    8       |\n",
            "| max   |    7       |    7        |    7        |    7        |    7        |   56       |\n"
          ],
          "name": "stdout"
        },
        {
          "output_type": "stream",
          "text": [
            "/usr/local/lib/python3.6/dist-packages/seaborn/axisgrid.py:645: UserWarning: Using the boxplot function without specifying `order` is likely to produce an incorrect plot.\n",
            "  warnings.warn(warning)\n"
          ],
          "name": "stderr"
        },
        {
          "output_type": "display_data",
          "data": {
            "image/png": "[encoded data removed]",
            "text/plain": [
              "<Figure size 1088x216 with 5 Axes>"
            ]
          },
          "metadata": {
            "tags": [],
            "needs_background": "light"
          }
        },
        {
          "output_type": "stream",
          "text": [
            "|       |     S62Q1_1 |     S62Q1_2 |     S62Q1_3 |     S62Q1_4 |     S62Q1_5 |        CSI |\n",
            "|:------|------------:|------------:|------------:|------------:|------------:|-----------:|\n",
            "| count | 5144        | 5074        | 5073        | 5067        | 5064        | 5157       |\n",
            "| mean  |    0.880832 |    0.215412 |    0.777252 |    0.561279 |    0.718602 |    4.42719 |\n",
            "| std   |    1.7574   |    0.813056 |    1.74262  |    1.52643  |    1.74924  |    8.76207 |\n",
            "| min   |    0        |    0        |    0        |    0        |    0        |    0       |\n",
            "| 25%   |    0        |    0        |    0        |    0        |    0        |    0       |\n",
            "| 50%   |    0        |    0        |    0        |    0        |    0        |    0       |\n",
            "| 75%   |    1        |    0        |    0        |    0        |    0        |    5       |\n",
            "| max   |    7        |    7        |    7        |    7        |    7        |   56       |\n"
          ],
          "name": "stdout"
        },
        {
          "output_type": "stream",
          "text": [
            "/usr/local/lib/python3.6/dist-packages/seaborn/axisgrid.py:645: UserWarning: Using the boxplot function without specifying `order` is likely to produce an incorrect plot.\n",
            "  warnings.warn(warning)\n"
          ],
          "name": "stderr"
        },
        {
          "output_type": "display_data",
          "data": {
            "image/png": "[encoded data removed]",
            "text/plain": [
              "<Figure size 1088x216 with 5 Axes>"
            ]
          },
          "metadata": {
            "tags": [],
            "needs_background": "light"
          }
        },
        {
          "output_type": "stream",
          "text": [
            "|       |     S62Q1_1 |     S62Q1_2 |     S62Q1_3 |     S62Q1_4 |    S62Q1_5 |        CSI |\n",
            "|:------|------------:|------------:|------------:|------------:|-----------:|-----------:|\n",
            "| count | 5181        | 5146        | 5145        | 5144        | 5141       | 5233       |\n",
            "| mean  |    0.736537 |    0.187913 |    0.643149 |    0.446734 |    0.56098 |    3.59966 |\n",
            "| std   |    1.62375  |    0.760963 |    1.61657  |    1.35204  |    1.54165 |    7.88323 |\n",
            "| min   |    0        |    0        |    0        |    0        |    0       |    0       |\n",
            "| 25%   |    0        |    0        |    0        |    0        |    0       |    0       |\n",
            "| 50%   |    0        |    0        |    0        |    0        |    0       |    0       |\n",
            "| 75%   |    1        |    0        |    0        |    0        |    0       |    3       |\n",
            "| max   |    7        |    7        |    7        |    7        |    7       |   56       |\n"
          ],
          "name": "stdout"
        },
        {
          "output_type": "stream",
          "text": [
            "/usr/local/lib/python3.6/dist-packages/seaborn/axisgrid.py:645: UserWarning: Using the boxplot function without specifying `order` is likely to produce an incorrect plot.\n",
            "  warnings.warn(warning)\n"
          ],
          "name": "stderr"
        },
        {
          "output_type": "display_data",
          "data": {
            "image/png": "[encoded data removed]",
            "text/plain": [
              "<Figure size 1088x216 with 5 Axes>"
            ]
          },
          "metadata": {
            "tags": [],
            "needs_background": "light"
          }
        },
        {
          "output_type": "stream",
          "text": [
            "|       |     S62Q1_1 |     S62Q1_2 |     S62Q1_3 |     S62Q1_4 |     S62Q1_5 |        CSI |\n",
            "|:------|------------:|------------:|------------:|------------:|------------:|-----------:|\n",
            "| count | 5185        | 5182        | 5184        | 5183        | 5181        | 5232       |\n",
            "| mean  |    0.980135 |    0.183906 |    0.728395 |    0.506656 |    0.704111 |    4.26032 |\n",
            "| std   |    1.84722  |    0.77424  |    1.6835   |    1.39273  |    1.73146  |    8.52609 |\n",
            "| min   |    0        |    0        |    0        |    0        |    0        |    0       |\n",
            "| 25%   |    0        |    0        |    0        |    0        |    0        |    0       |\n",
            "| 50%   |    0        |    0        |    0        |    0        |    0        |    0       |\n",
            "| 75%   |    1        |    0        |    0        |    0        |    0        |    5       |\n",
            "| max   |    7        |    7        |    7        |    7        |    7        |   56       |\n"
          ],
          "name": "stdout"
        },
        {
          "output_type": "stream",
          "text": [
            "/usr/local/lib/python3.6/dist-packages/seaborn/axisgrid.py:645: UserWarning: Using the boxplot function without specifying `order` is likely to produce an incorrect plot.\n",
            "  warnings.warn(warning)\n"
          ],
          "name": "stderr"
        },
        {
          "output_type": "display_data",
          "data": {
            "image/png": "[encoded data removed]",
            "text/plain": [
              "<Figure size 1088x216 with 5 Axes>"
            ]
          },
          "metadata": {
            "tags": [],
            "needs_background": "light"
          }
        },
        {
          "output_type": "stream",
          "text": [
            "|       |    S62Q1_1 |     S62Q1_2 |     S62Q1_3 |    S62Q1_4 |    S62Q1_5 |        CSI |\n",
            "|:------|-----------:|------------:|------------:|-----------:|-----------:|-----------:|\n",
            "| count | 5157       | 5149        | 5147        | 5146       | 5145       | 5165       |\n",
            "| mean  |    1.05701 |    0.180618 |    0.870021 |    0.59658 |    0.76171 |    4.82439 |\n",
            "| std   |    1.90846 |    0.77098  |    1.90465  |    1.56843 |    1.83653 |    9.42856 |\n",
            "| min   |    0       |    0        |    0        |    0       |    0       |    0       |\n",
            "| 25%   |    0       |    0        |    0        |    0       |    0       |    0       |\n",
            "| 50%   |    0       |    0        |    0        |    0       |    0       |    0       |\n",
            "| 75%   |    2       |    0        |    0        |    0       |    0       |    5       |\n",
            "| max   |    7       |    7        |    7        |    7       |    7       |   56       |\n"
          ],
          "name": "stdout"
        },
        {
          "output_type": "stream",
          "text": [
            "/usr/local/lib/python3.6/dist-packages/seaborn/axisgrid.py:645: UserWarning: Using the boxplot function without specifying `order` is likely to produce an incorrect plot.\n",
            "  warnings.warn(warning)\n"
          ],
          "name": "stderr"
        },
        {
          "output_type": "display_data",
          "data": {
            "image/png": "[encoded data removed]",
            "text/plain": [
              "<Figure size 1088x216 with 5 Axes>"
            ]
          },
          "metadata": {
            "tags": [],
            "needs_background": "light"
          }
        }
      ]
    },
    {
      "cell_type": "markdown",
      "metadata": {
        "id": "fDpliaJ_pJ3c"
      },
      "source": [
        "# COMPARISON OF EVERY YEAR"
      ]
    },
    {
      "cell_type": "code",
      "metadata": {
        "id": "vP1QeJqWpNvv"
      },
      "source": [
        "# allez hop hop hop on plot"
      ],
      "execution_count": null,
      "outputs": []
    },
    {
      "cell_type": "code",
      "metadata": {
        "id": "YtPBewl9pNtR"
      },
      "source": [
        ""
      ],
      "execution_count": null,
      "outputs": []
    },
    {
      "cell_type": "markdown",
      "metadata": {
        "id": "SP4VqO3OW5IS"
      },
      "source": [
        "# CONCAT EVERY DATA FILE\n",
        "Some functions we'll use to concat those files, we then add a column refering to the year of the file."
      ]
    },
    {
      "cell_type": "code",
      "metadata": {
        "id": "KVq3LCXPWytl",
        "colab": {
          "base_uri": "https://localhost:8080/",
          "height": 419
        },
        "outputId": "17f32707-c776-494c-bcf8-ecd594829a47"
      },
      "source": [
        "dfs_list = [dfs[2014], dfs[2015], dfs[2016], dfs[2017], dfs[2018]]\n",
        "raw_data = concat(dfs_list)\n",
        "\n",
        "# SAVES ALL DATA CONCATENED IN A CSV FILE\n",
        "raw_data.to_csv(path + 'donnees.csv')\n",
        "# raw_data[col[\"metadata\"]] = raw_data[col[\"metadata\"]].astype(int)\n",
        "mask = (raw_data[col[\"data\"]])\n",
        "raw_data"
      ],
      "execution_count": 87,
      "outputs": [
        {
          "output_type": "execute_result",
          "data": {
            "text/html": [
              "<div>\n",
              "<style scoped>\n",
              "    .dataframe tbody tr th:only-of-type {\n",
              "        vertical-align: middle;\n",
              "    }\n",
              "\n",
              "    .dataframe tbody tr th {\n",
              "        vertical-align: top;\n",
              "    }\n",
              "\n",
              "    .dataframe thead th {\n",
              "        text-align: right;\n",
              "    }\n",
              "</style>\n",
              "<table border=\"1\" class=\"dataframe\">\n",
              "  <thead>\n",
              "    <tr style=\"text-align: right;\">\n",
              "      <th></th>\n",
              "      <th>REG</th>\n",
              "      <th>PROV</th>\n",
              "      <th>COM</th>\n",
              "      <th>VIL</th>\n",
              "      <th>MEN</th>\n",
              "      <th>YEAR</th>\n",
              "      <th>S62Q1_1</th>\n",
              "      <th>S62Q1_2</th>\n",
              "      <th>S62Q1_3</th>\n",
              "      <th>S62Q1_4</th>\n",
              "      <th>S62Q1_5</th>\n",
              "      <th>CSI</th>\n",
              "    </tr>\n",
              "  </thead>\n",
              "  <tbody>\n",
              "    <tr>\n",
              "      <th>0</th>\n",
              "      <td>1</td>\n",
              "      <td>13</td>\n",
              "      <td>1</td>\n",
              "      <td>1</td>\n",
              "      <td>45</td>\n",
              "      <td>2014</td>\n",
              "      <td>0.0</td>\n",
              "      <td>0.0</td>\n",
              "      <td>0.0</td>\n",
              "      <td>0.0</td>\n",
              "      <td>0.0</td>\n",
              "      <td>0.0</td>\n",
              "    </tr>\n",
              "    <tr>\n",
              "      <th>1</th>\n",
              "      <td>1</td>\n",
              "      <td>13</td>\n",
              "      <td>1</td>\n",
              "      <td>1</td>\n",
              "      <td>57</td>\n",
              "      <td>2014</td>\n",
              "      <td>0.0</td>\n",
              "      <td>0.0</td>\n",
              "      <td>0.0</td>\n",
              "      <td>0.0</td>\n",
              "      <td>0.0</td>\n",
              "      <td>0.0</td>\n",
              "    </tr>\n",
              "    <tr>\n",
              "      <th>2</th>\n",
              "      <td>1</td>\n",
              "      <td>13</td>\n",
              "      <td>1</td>\n",
              "      <td>1</td>\n",
              "      <td>58</td>\n",
              "      <td>2014</td>\n",
              "      <td>0.0</td>\n",
              "      <td>0.0</td>\n",
              "      <td>0.0</td>\n",
              "      <td>0.0</td>\n",
              "      <td>0.0</td>\n",
              "      <td>0.0</td>\n",
              "    </tr>\n",
              "    <tr>\n",
              "      <th>3</th>\n",
              "      <td>1</td>\n",
              "      <td>13</td>\n",
              "      <td>1</td>\n",
              "      <td>1</td>\n",
              "      <td>67</td>\n",
              "      <td>2014</td>\n",
              "      <td>0.0</td>\n",
              "      <td>0.0</td>\n",
              "      <td>0.0</td>\n",
              "      <td>0.0</td>\n",
              "      <td>0.0</td>\n",
              "      <td>0.0</td>\n",
              "    </tr>\n",
              "    <tr>\n",
              "      <th>4</th>\n",
              "      <td>1</td>\n",
              "      <td>13</td>\n",
              "      <td>1</td>\n",
              "      <td>1</td>\n",
              "      <td>84</td>\n",
              "      <td>2014</td>\n",
              "      <td>0.0</td>\n",
              "      <td>0.0</td>\n",
              "      <td>0.0</td>\n",
              "      <td>0.0</td>\n",
              "      <td>0.0</td>\n",
              "      <td>0.0</td>\n",
              "    </tr>\n",
              "    <tr>\n",
              "      <th>...</th>\n",
              "      <td>...</td>\n",
              "      <td>...</td>\n",
              "      <td>...</td>\n",
              "      <td>...</td>\n",
              "      <td>...</td>\n",
              "      <td>...</td>\n",
              "      <td>...</td>\n",
              "      <td>...</td>\n",
              "      <td>...</td>\n",
              "      <td>...</td>\n",
              "      <td>...</td>\n",
              "      <td>...</td>\n",
              "    </tr>\n",
              "    <tr>\n",
              "      <th>25980</th>\n",
              "      <td>13</td>\n",
              "      <td>41</td>\n",
              "      <td>5</td>\n",
              "      <td>14</td>\n",
              "      <td>39</td>\n",
              "      <td>2018</td>\n",
              "      <td>2.0</td>\n",
              "      <td>0.0</td>\n",
              "      <td>1.0</td>\n",
              "      <td>1.0</td>\n",
              "      <td>1.0</td>\n",
              "      <td>7.0</td>\n",
              "    </tr>\n",
              "    <tr>\n",
              "      <th>25981</th>\n",
              "      <td>13</td>\n",
              "      <td>41</td>\n",
              "      <td>5</td>\n",
              "      <td>14</td>\n",
              "      <td>43</td>\n",
              "      <td>2018</td>\n",
              "      <td>2.0</td>\n",
              "      <td>0.0</td>\n",
              "      <td>1.0</td>\n",
              "      <td>1.0</td>\n",
              "      <td>1.0</td>\n",
              "      <td>7.0</td>\n",
              "    </tr>\n",
              "    <tr>\n",
              "      <th>25982</th>\n",
              "      <td>13</td>\n",
              "      <td>41</td>\n",
              "      <td>5</td>\n",
              "      <td>14</td>\n",
              "      <td>53</td>\n",
              "      <td>2018</td>\n",
              "      <td>1.0</td>\n",
              "      <td>0.0</td>\n",
              "      <td>0.0</td>\n",
              "      <td>1.0</td>\n",
              "      <td>0.0</td>\n",
              "      <td>4.0</td>\n",
              "    </tr>\n",
              "    <tr>\n",
              "      <th>25983</th>\n",
              "      <td>13</td>\n",
              "      <td>41</td>\n",
              "      <td>5</td>\n",
              "      <td>14</td>\n",
              "      <td>68</td>\n",
              "      <td>2018</td>\n",
              "      <td>2.0</td>\n",
              "      <td>0.0</td>\n",
              "      <td>2.0</td>\n",
              "      <td>1.0</td>\n",
              "      <td>0.0</td>\n",
              "      <td>7.0</td>\n",
              "    </tr>\n",
              "    <tr>\n",
              "      <th>25984</th>\n",
              "      <td>13</td>\n",
              "      <td>41</td>\n",
              "      <td>5</td>\n",
              "      <td>14</td>\n",
              "      <td>75</td>\n",
              "      <td>2018</td>\n",
              "      <td>2.0</td>\n",
              "      <td>0.0</td>\n",
              "      <td>2.0</td>\n",
              "      <td>2.0</td>\n",
              "      <td>1.0</td>\n",
              "      <td>11.0</td>\n",
              "    </tr>\n",
              "  </tbody>\n",
              "</table>\n",
              "<p>25985 rows × 12 columns</p>\n",
              "</div>"
            ],
            "text/plain": [
              "       REG  PROV  COM  VIL  MEN  ...  S62Q1_2  S62Q1_3  S62Q1_4  S62Q1_5   CSI\n",
              "0        1    13    1    1   45  ...      0.0      0.0      0.0      0.0   0.0\n",
              "1        1    13    1    1   57  ...      0.0      0.0      0.0      0.0   0.0\n",
              "2        1    13    1    1   58  ...      0.0      0.0      0.0      0.0   0.0\n",
              "3        1    13    1    1   67  ...      0.0      0.0      0.0      0.0   0.0\n",
              "4        1    13    1    1   84  ...      0.0      0.0      0.0      0.0   0.0\n",
              "...    ...   ...  ...  ...  ...  ...      ...      ...      ...      ...   ...\n",
              "25980   13    41    5   14   39  ...      0.0      1.0      1.0      1.0   7.0\n",
              "25981   13    41    5   14   43  ...      0.0      1.0      1.0      1.0   7.0\n",
              "25982   13    41    5   14   53  ...      0.0      0.0      1.0      0.0   4.0\n",
              "25983   13    41    5   14   68  ...      0.0      2.0      1.0      0.0   7.0\n",
              "25984   13    41    5   14   75  ...      0.0      2.0      2.0      1.0  11.0\n",
              "\n",
              "[25985 rows x 12 columns]"
            ]
          },
          "metadata": {
            "tags": []
          },
          "execution_count": 87
        }
      ]
    },
    {
      "cell_type": "code",
      "metadata": {
        "colab": {
          "base_uri": "https://localhost:8080/"
        },
        "id": "Vv5oe5U8r2og",
        "outputId": "667ae09f-5e79-4d09-baf3-70facc8148c5"
      },
      "source": [
        "print(\"NB DE COM : {}\".format(raw_data.COM.unique().shape[0]))\n",
        "print(\"NB DE PROV : {}\".format(raw_data.PROV.unique().shape[0]))\n",
        "print(\"NB DE REG : {}\".format(raw_data.REG.unique().shape[0]))\n",
        "\n",
        "print(raw_data[col[\"data\"] + col[\"target\"]].describe().to_markdown())"
      ],
      "execution_count": 88,
      "outputs": [
        {
          "output_type": "stream",
          "text": [
            "NB DE COM : 16\n",
            "NB DE PROV : 45\n",
            "NB DE REG : 13\n",
            "|       |      S62Q1_1 |      S62Q1_2 |      S62Q1_3 |      S62Q1_4 |      S62Q1_5 |         CSI |\n",
            "|:------|-------------:|-------------:|-------------:|-------------:|-------------:|------------:|\n",
            "| count | 25840        | 25716        | 25713        | 25703        | 25693        | 25985       |\n",
            "| mean  |     0.943382 |     0.212475 |     0.803524 |     0.579932 |     0.738139 |     4.60454 |\n",
            "| std   |     1.8117   |     0.813961 |     1.78521  |     1.53178  |     1.76967  |     8.94059 |\n",
            "| min   |     0        |     0        |     0        |     0        |     0        |     0       |\n",
            "| 25%   |     0        |     0        |     0        |     0        |     0        |     0       |\n",
            "| 50%   |     0        |     0        |     0        |     0        |     0        |     0       |\n",
            "| 75%   |     1        |     0        |     0        |     0        |     0        |     5       |\n",
            "| max   |     7        |     7        |     7        |     7        |     7        |    56       |\n"
          ],
          "name": "stdout"
        }
      ]
    },
    {
      "cell_type": "code",
      "metadata": {
        "colab": {
          "base_uri": "https://localhost:8080/",
          "height": 1000
        },
        "id": "UrNyrbcir2dY",
        "outputId": "eecb1011-ba33-4e34-de03-bed85a1f8494"
      },
      "source": [
        "plot_data = raw_data.melt(id_vars=(col[\"metadata\"] + col[\"target\"]), var_name=\"QUESTION\", value_name=\"ANSWER\")\n",
        "\n",
        "g = sns.FacetGrid(plot_data, col=\"QUESTION\")\n",
        "g.map(sns.histplot, \"YEAR\", \"CSI\")# hue=\"QUESTION\")\n",
        "plt.show()\n",
        "\n",
        "g = sns.FacetGrid(plot_data, col=\"YEAR\")\n",
        "g.map(sns.boxplot, \"ANSWER\", \"CSI\")# hue=\"QUESTION\")\n",
        "plt.show()\n",
        "\n",
        "g = sns.FacetGrid(plot_data, col=\"COM\", col_wrap=4)\n",
        "g.map(sns.boxplot, \"ANSWER\", \"CSI\")# hue=\"YEAR\")\n",
        "plt.show()\n",
        "# plot_data[\"SUM\"] = \n"
      ],
      "execution_count": 99,
      "outputs": [
        {
          "output_type": "display_data",
          "data": {
            "image/png": "[encoded data removed]",
            "text/plain": [
              "<Figure size 1080x216 with 5 Axes>"
            ]
          },
          "metadata": {
            "tags": [],
            "needs_background": "light"
          }
        },
        {
          "output_type": "stream",
          "text": [
            "/usr/local/lib/python3.6/dist-packages/seaborn/axisgrid.py:645: UserWarning: Using the boxplot function without specifying `order` is likely to produce an incorrect plot.\n",
            "  warnings.warn(warning)\n"
          ],
          "name": "stderr"
        },
        {
          "output_type": "display_data",
          "data": {
            "image/png": "[encoded data removed]",
            "text/plain": [
              "<Figure size 1080x216 with 5 Axes>"
            ]
          },
          "metadata": {
            "tags": [],
            "needs_background": "light"
          }
        },
        {
          "output_type": "stream",
          "text": [
            "/usr/local/lib/python3.6/dist-packages/seaborn/axisgrid.py:645: UserWarning: Using the boxplot function without specifying `order` is likely to produce an incorrect plot.\n",
            "  warnings.warn(warning)\n"
          ],
          "name": "stderr"
        },
        {
          "output_type": "display_data",
          "data": {
            "image/png": "[encoded data removed]",
            "text/plain": [
              "<Figure size 864x864 with 16 Axes>"
            ]
          },
          "metadata": {
            "tags": [],
            "needs_background": "light"
          }
        }
      ]
    },
    {
      "cell_type": "code",
      "metadata": {
        "colab": {
          "base_uri": "https://localhost:8080/",
          "height": 647
        },
        "id": "jrohL8r-z2pE",
        "outputId": "7c991fb4-19ed-4a36-ec3e-37d0c810a679"
      },
      "source": [
        "data_clean = pd.DataFrame()\n",
        "\n",
        "data_clean[col[\"metadata\"]] = raw_data[col[\"metadata\"]]\n",
        "data_clean[col[\"target\"]] = raw_data[col[\"target\"]]\n",
        "\n",
        "data_clean[\"\"]\n",
        "for c in col[\"data\"]:\n",
        "    mask = (raw_data[c] == 0)\n",
        "    data_clean[c] = raw_data[mask]"
      ],
      "execution_count": 95,
      "outputs": [
        {
          "output_type": "error",
          "ename": "ValueError",
          "evalue": "ignored",
          "traceback": [
            "\u001b[0;31m---------------------------------------------------------------------------\u001b[0m",
            "\u001b[0;31mKeyError\u001b[0m                                  Traceback (most recent call last)",
            "\u001b[0;32m/usr/local/lib/python3.6/dist-packages/pandas/core/indexes/base.py\u001b[0m in \u001b[0;36mget_loc\u001b[0;34m(self, key, method, tolerance)\u001b[0m\n\u001b[1;32m   2894\u001b[0m             \u001b[0;32mtry\u001b[0m\u001b[0;34m:\u001b[0m\u001b[0;34m\u001b[0m\u001b[0;34m\u001b[0m\u001b[0m\n\u001b[0;32m-> 2895\u001b[0;31m                 \u001b[0;32mreturn\u001b[0m \u001b[0mself\u001b[0m\u001b[0;34m.\u001b[0m\u001b[0m_engine\u001b[0m\u001b[0;34m.\u001b[0m\u001b[0mget_loc\u001b[0m\u001b[0;34m(\u001b[0m\u001b[0mcasted_key\u001b[0m\u001b[0;34m)\u001b[0m\u001b[0;34m\u001b[0m\u001b[0;34m\u001b[0m\u001b[0m\n\u001b[0m\u001b[1;32m   2896\u001b[0m             \u001b[0;32mexcept\u001b[0m \u001b[0mKeyError\u001b[0m \u001b[0;32mas\u001b[0m \u001b[0merr\u001b[0m\u001b[0;34m:\u001b[0m\u001b[0;34m\u001b[0m\u001b[0;34m\u001b[0m\u001b[0m\n",
            "\u001b[0;32mpandas/_libs/index.pyx\u001b[0m in \u001b[0;36mpandas._libs.index.IndexEngine.get_loc\u001b[0;34m()\u001b[0m\n",
            "\u001b[0;32mpandas/_libs/index.pyx\u001b[0m in \u001b[0;36mpandas._libs.index.IndexEngine.get_loc\u001b[0;34m()\u001b[0m\n",
            "\u001b[0;32mpandas/_libs/hashtable_class_helper.pxi\u001b[0m in \u001b[0;36mpandas._libs.hashtable.PyObjectHashTable.get_item\u001b[0;34m()\u001b[0m\n",
            "\u001b[0;32mpandas/_libs/hashtable_class_helper.pxi\u001b[0m in \u001b[0;36mpandas._libs.hashtable.PyObjectHashTable.get_item\u001b[0;34m()\u001b[0m\n",
            "\u001b[0;31mKeyError\u001b[0m: 'S62Q1_1'",
            "\nThe above exception was the direct cause of the following exception:\n",
            "\u001b[0;31mKeyError\u001b[0m                                  Traceback (most recent call last)",
            "\u001b[0;32m/usr/local/lib/python3.6/dist-packages/pandas/core/generic.py\u001b[0m in \u001b[0;36m_set_item\u001b[0;34m(self, key, value)\u001b[0m\n\u001b[1;32m   3573\u001b[0m         \u001b[0;32mtry\u001b[0m\u001b[0;34m:\u001b[0m\u001b[0;34m\u001b[0m\u001b[0;34m\u001b[0m\u001b[0m\n\u001b[0;32m-> 3574\u001b[0;31m             \u001b[0mloc\u001b[0m \u001b[0;34m=\u001b[0m \u001b[0mself\u001b[0m\u001b[0;34m.\u001b[0m\u001b[0m_info_axis\u001b[0m\u001b[0;34m.\u001b[0m\u001b[0mget_loc\u001b[0m\u001b[0;34m(\u001b[0m\u001b[0mkey\u001b[0m\u001b[0;34m)\u001b[0m\u001b[0;34m\u001b[0m\u001b[0;34m\u001b[0m\u001b[0m\n\u001b[0m\u001b[1;32m   3575\u001b[0m         \u001b[0;32mexcept\u001b[0m \u001b[0mKeyError\u001b[0m\u001b[0;34m:\u001b[0m\u001b[0;34m\u001b[0m\u001b[0;34m\u001b[0m\u001b[0m\n",
            "\u001b[0;32m/usr/local/lib/python3.6/dist-packages/pandas/core/indexes/base.py\u001b[0m in \u001b[0;36mget_loc\u001b[0;34m(self, key, method, tolerance)\u001b[0m\n\u001b[1;32m   2896\u001b[0m             \u001b[0;32mexcept\u001b[0m \u001b[0mKeyError\u001b[0m \u001b[0;32mas\u001b[0m \u001b[0merr\u001b[0m\u001b[0;34m:\u001b[0m\u001b[0;34m\u001b[0m\u001b[0;34m\u001b[0m\u001b[0m\n\u001b[0;32m-> 2897\u001b[0;31m                 \u001b[0;32mraise\u001b[0m \u001b[0mKeyError\u001b[0m\u001b[0;34m(\u001b[0m\u001b[0mkey\u001b[0m\u001b[0;34m)\u001b[0m \u001b[0;32mfrom\u001b[0m \u001b[0merr\u001b[0m\u001b[0;34m\u001b[0m\u001b[0;34m\u001b[0m\u001b[0m\n\u001b[0m\u001b[1;32m   2898\u001b[0m \u001b[0;34m\u001b[0m\u001b[0m\n",
            "\u001b[0;31mKeyError\u001b[0m: 'S62Q1_1'",
            "\nDuring handling of the above exception, another exception occurred:\n",
            "\u001b[0;31mValueError\u001b[0m                                Traceback (most recent call last)",
            "\u001b[0;32m<ipython-input-95-233173e4b2c8>\u001b[0m in \u001b[0;36m<module>\u001b[0;34m()\u001b[0m\n\u001b[1;32m      5\u001b[0m \u001b[0;32mfor\u001b[0m \u001b[0mc\u001b[0m \u001b[0;32min\u001b[0m \u001b[0mcol\u001b[0m\u001b[0;34m[\u001b[0m\u001b[0;34m\"data\"\u001b[0m\u001b[0;34m]\u001b[0m\u001b[0;34m:\u001b[0m\u001b[0;34m\u001b[0m\u001b[0;34m\u001b[0m\u001b[0m\n\u001b[1;32m      6\u001b[0m     \u001b[0mmask\u001b[0m \u001b[0;34m=\u001b[0m \u001b[0;34m(\u001b[0m\u001b[0mraw_data\u001b[0m\u001b[0;34m[\u001b[0m\u001b[0mc\u001b[0m\u001b[0;34m]\u001b[0m \u001b[0;34m==\u001b[0m \u001b[0;36m0\u001b[0m\u001b[0;34m)\u001b[0m\u001b[0;34m\u001b[0m\u001b[0;34m\u001b[0m\u001b[0m\n\u001b[0;32m----> 7\u001b[0;31m     \u001b[0mdata_clean\u001b[0m\u001b[0;34m[\u001b[0m\u001b[0mc\u001b[0m\u001b[0;34m]\u001b[0m \u001b[0;34m=\u001b[0m \u001b[0mraw_data\u001b[0m\u001b[0;34m[\u001b[0m\u001b[0mmask\u001b[0m\u001b[0;34m]\u001b[0m\u001b[0;34m\u001b[0m\u001b[0;34m\u001b[0m\u001b[0m\n\u001b[0m",
            "\u001b[0;32m/usr/local/lib/python3.6/dist-packages/pandas/core/frame.py\u001b[0m in \u001b[0;36m__setitem__\u001b[0;34m(self, key, value)\u001b[0m\n\u001b[1;32m   3042\u001b[0m         \u001b[0;32melse\u001b[0m\u001b[0;34m:\u001b[0m\u001b[0;34m\u001b[0m\u001b[0;34m\u001b[0m\u001b[0m\n\u001b[1;32m   3043\u001b[0m             \u001b[0;31m# set column\u001b[0m\u001b[0;34m\u001b[0m\u001b[0;34m\u001b[0m\u001b[0;34m\u001b[0m\u001b[0m\n\u001b[0;32m-> 3044\u001b[0;31m             \u001b[0mself\u001b[0m\u001b[0;34m.\u001b[0m\u001b[0m_set_item\u001b[0m\u001b[0;34m(\u001b[0m\u001b[0mkey\u001b[0m\u001b[0;34m,\u001b[0m \u001b[0mvalue\u001b[0m\u001b[0;34m)\u001b[0m\u001b[0;34m\u001b[0m\u001b[0;34m\u001b[0m\u001b[0m\n\u001b[0m\u001b[1;32m   3045\u001b[0m \u001b[0;34m\u001b[0m\u001b[0m\n\u001b[1;32m   3046\u001b[0m     \u001b[0;32mdef\u001b[0m \u001b[0m_setitem_slice\u001b[0m\u001b[0;34m(\u001b[0m\u001b[0mself\u001b[0m\u001b[0;34m,\u001b[0m \u001b[0mkey\u001b[0m\u001b[0;34m:\u001b[0m \u001b[0mslice\u001b[0m\u001b[0;34m,\u001b[0m \u001b[0mvalue\u001b[0m\u001b[0;34m)\u001b[0m\u001b[0;34m:\u001b[0m\u001b[0;34m\u001b[0m\u001b[0;34m\u001b[0m\u001b[0m\n",
            "\u001b[0;32m/usr/local/lib/python3.6/dist-packages/pandas/core/frame.py\u001b[0m in \u001b[0;36m_set_item\u001b[0;34m(self, key, value)\u001b[0m\n\u001b[1;32m   3119\u001b[0m         \u001b[0mself\u001b[0m\u001b[0;34m.\u001b[0m\u001b[0m_ensure_valid_index\u001b[0m\u001b[0;34m(\u001b[0m\u001b[0mvalue\u001b[0m\u001b[0;34m)\u001b[0m\u001b[0;34m\u001b[0m\u001b[0;34m\u001b[0m\u001b[0m\n\u001b[1;32m   3120\u001b[0m         \u001b[0mvalue\u001b[0m \u001b[0;34m=\u001b[0m \u001b[0mself\u001b[0m\u001b[0;34m.\u001b[0m\u001b[0m_sanitize_column\u001b[0m\u001b[0;34m(\u001b[0m\u001b[0mkey\u001b[0m\u001b[0;34m,\u001b[0m \u001b[0mvalue\u001b[0m\u001b[0;34m)\u001b[0m\u001b[0;34m\u001b[0m\u001b[0;34m\u001b[0m\u001b[0m\n\u001b[0;32m-> 3121\u001b[0;31m         \u001b[0mNDFrame\u001b[0m\u001b[0;34m.\u001b[0m\u001b[0m_set_item\u001b[0m\u001b[0;34m(\u001b[0m\u001b[0mself\u001b[0m\u001b[0;34m,\u001b[0m \u001b[0mkey\u001b[0m\u001b[0;34m,\u001b[0m \u001b[0mvalue\u001b[0m\u001b[0;34m)\u001b[0m\u001b[0;34m\u001b[0m\u001b[0;34m\u001b[0m\u001b[0m\n\u001b[0m\u001b[1;32m   3122\u001b[0m \u001b[0;34m\u001b[0m\u001b[0m\n\u001b[1;32m   3123\u001b[0m         \u001b[0;31m# check if we are modifying a copy\u001b[0m\u001b[0;34m\u001b[0m\u001b[0;34m\u001b[0m\u001b[0;34m\u001b[0m\u001b[0m\n",
            "\u001b[0;32m/usr/local/lib/python3.6/dist-packages/pandas/core/generic.py\u001b[0m in \u001b[0;36m_set_item\u001b[0;34m(self, key, value)\u001b[0m\n\u001b[1;32m   3575\u001b[0m         \u001b[0;32mexcept\u001b[0m \u001b[0mKeyError\u001b[0m\u001b[0;34m:\u001b[0m\u001b[0;34m\u001b[0m\u001b[0;34m\u001b[0m\u001b[0m\n\u001b[1;32m   3576\u001b[0m             \u001b[0;31m# This item wasn't present, just insert at end\u001b[0m\u001b[0;34m\u001b[0m\u001b[0;34m\u001b[0m\u001b[0;34m\u001b[0m\u001b[0m\n\u001b[0;32m-> 3577\u001b[0;31m             \u001b[0mself\u001b[0m\u001b[0;34m.\u001b[0m\u001b[0m_mgr\u001b[0m\u001b[0;34m.\u001b[0m\u001b[0minsert\u001b[0m\u001b[0;34m(\u001b[0m\u001b[0mlen\u001b[0m\u001b[0;34m(\u001b[0m\u001b[0mself\u001b[0m\u001b[0;34m.\u001b[0m\u001b[0m_info_axis\u001b[0m\u001b[0;34m)\u001b[0m\u001b[0;34m,\u001b[0m \u001b[0mkey\u001b[0m\u001b[0;34m,\u001b[0m \u001b[0mvalue\u001b[0m\u001b[0;34m)\u001b[0m\u001b[0;34m\u001b[0m\u001b[0;34m\u001b[0m\u001b[0m\n\u001b[0m\u001b[1;32m   3578\u001b[0m             \u001b[0;32mreturn\u001b[0m\u001b[0;34m\u001b[0m\u001b[0;34m\u001b[0m\u001b[0m\n\u001b[1;32m   3579\u001b[0m \u001b[0;34m\u001b[0m\u001b[0m\n",
            "\u001b[0;32m/usr/local/lib/python3.6/dist-packages/pandas/core/internals/managers.py\u001b[0m in \u001b[0;36minsert\u001b[0;34m(self, loc, item, value, allow_duplicates)\u001b[0m\n\u001b[1;32m   1187\u001b[0m             \u001b[0mvalue\u001b[0m \u001b[0;34m=\u001b[0m \u001b[0m_safe_reshape\u001b[0m\u001b[0;34m(\u001b[0m\u001b[0mvalue\u001b[0m\u001b[0;34m,\u001b[0m \u001b[0;34m(\u001b[0m\u001b[0;36m1\u001b[0m\u001b[0;34m,\u001b[0m\u001b[0;34m)\u001b[0m \u001b[0;34m+\u001b[0m \u001b[0mvalue\u001b[0m\u001b[0;34m.\u001b[0m\u001b[0mshape\u001b[0m\u001b[0;34m)\u001b[0m\u001b[0;34m\u001b[0m\u001b[0;34m\u001b[0m\u001b[0m\n\u001b[1;32m   1188\u001b[0m \u001b[0;34m\u001b[0m\u001b[0m\n\u001b[0;32m-> 1189\u001b[0;31m         \u001b[0mblock\u001b[0m \u001b[0;34m=\u001b[0m \u001b[0mmake_block\u001b[0m\u001b[0;34m(\u001b[0m\u001b[0mvalues\u001b[0m\u001b[0;34m=\u001b[0m\u001b[0mvalue\u001b[0m\u001b[0;34m,\u001b[0m \u001b[0mndim\u001b[0m\u001b[0;34m=\u001b[0m\u001b[0mself\u001b[0m\u001b[0;34m.\u001b[0m\u001b[0mndim\u001b[0m\u001b[0;34m,\u001b[0m \u001b[0mplacement\u001b[0m\u001b[0;34m=\u001b[0m\u001b[0mslice\u001b[0m\u001b[0;34m(\u001b[0m\u001b[0mloc\u001b[0m\u001b[0;34m,\u001b[0m \u001b[0mloc\u001b[0m \u001b[0;34m+\u001b[0m \u001b[0;36m1\u001b[0m\u001b[0;34m)\u001b[0m\u001b[0;34m)\u001b[0m\u001b[0;34m\u001b[0m\u001b[0;34m\u001b[0m\u001b[0m\n\u001b[0m\u001b[1;32m   1190\u001b[0m \u001b[0;34m\u001b[0m\u001b[0m\n\u001b[1;32m   1191\u001b[0m         \u001b[0;32mfor\u001b[0m \u001b[0mblkno\u001b[0m\u001b[0;34m,\u001b[0m \u001b[0mcount\u001b[0m \u001b[0;32min\u001b[0m \u001b[0m_fast_count_smallints\u001b[0m\u001b[0;34m(\u001b[0m\u001b[0mself\u001b[0m\u001b[0;34m.\u001b[0m\u001b[0mblknos\u001b[0m\u001b[0;34m[\u001b[0m\u001b[0mloc\u001b[0m\u001b[0;34m:\u001b[0m\u001b[0;34m]\u001b[0m\u001b[0;34m)\u001b[0m\u001b[0;34m:\u001b[0m\u001b[0;34m\u001b[0m\u001b[0;34m\u001b[0m\u001b[0m\n",
            "\u001b[0;32m/usr/local/lib/python3.6/dist-packages/pandas/core/internals/blocks.py\u001b[0m in \u001b[0;36mmake_block\u001b[0;34m(values, placement, klass, ndim, dtype)\u001b[0m\n\u001b[1;32m   2720\u001b[0m         \u001b[0mvalues\u001b[0m \u001b[0;34m=\u001b[0m \u001b[0mDatetimeArray\u001b[0m\u001b[0;34m.\u001b[0m\u001b[0m_simple_new\u001b[0m\u001b[0;34m(\u001b[0m\u001b[0mvalues\u001b[0m\u001b[0;34m,\u001b[0m \u001b[0mdtype\u001b[0m\u001b[0;34m=\u001b[0m\u001b[0mdtype\u001b[0m\u001b[0;34m)\u001b[0m\u001b[0;34m\u001b[0m\u001b[0;34m\u001b[0m\u001b[0m\n\u001b[1;32m   2721\u001b[0m \u001b[0;34m\u001b[0m\u001b[0m\n\u001b[0;32m-> 2722\u001b[0;31m     \u001b[0;32mreturn\u001b[0m \u001b[0mklass\u001b[0m\u001b[0;34m(\u001b[0m\u001b[0mvalues\u001b[0m\u001b[0;34m,\u001b[0m \u001b[0mndim\u001b[0m\u001b[0;34m=\u001b[0m\u001b[0mndim\u001b[0m\u001b[0;34m,\u001b[0m \u001b[0mplacement\u001b[0m\u001b[0;34m=\u001b[0m\u001b[0mplacement\u001b[0m\u001b[0;34m)\u001b[0m\u001b[0;34m\u001b[0m\u001b[0;34m\u001b[0m\u001b[0m\n\u001b[0m\u001b[1;32m   2723\u001b[0m \u001b[0;34m\u001b[0m\u001b[0m\n\u001b[1;32m   2724\u001b[0m \u001b[0;34m\u001b[0m\u001b[0m\n",
            "\u001b[0;32m/usr/local/lib/python3.6/dist-packages/pandas/core/internals/blocks.py\u001b[0m in \u001b[0;36m__init__\u001b[0;34m(self, values, placement, ndim)\u001b[0m\n\u001b[1;32m    129\u001b[0m         \u001b[0;32mif\u001b[0m \u001b[0mself\u001b[0m\u001b[0;34m.\u001b[0m\u001b[0m_validate_ndim\u001b[0m \u001b[0;32mand\u001b[0m \u001b[0mself\u001b[0m\u001b[0;34m.\u001b[0m\u001b[0mndim\u001b[0m \u001b[0;32mand\u001b[0m \u001b[0mlen\u001b[0m\u001b[0;34m(\u001b[0m\u001b[0mself\u001b[0m\u001b[0;34m.\u001b[0m\u001b[0mmgr_locs\u001b[0m\u001b[0;34m)\u001b[0m \u001b[0;34m!=\u001b[0m \u001b[0mlen\u001b[0m\u001b[0;34m(\u001b[0m\u001b[0mself\u001b[0m\u001b[0;34m.\u001b[0m\u001b[0mvalues\u001b[0m\u001b[0;34m)\u001b[0m\u001b[0;34m:\u001b[0m\u001b[0;34m\u001b[0m\u001b[0;34m\u001b[0m\u001b[0m\n\u001b[1;32m    130\u001b[0m             raise ValueError(\n\u001b[0;32m--> 131\u001b[0;31m                 \u001b[0;34mf\"Wrong number of items passed {len(self.values)}, \"\u001b[0m\u001b[0;34m\u001b[0m\u001b[0;34m\u001b[0m\u001b[0m\n\u001b[0m\u001b[1;32m    132\u001b[0m                 \u001b[0;34mf\"placement implies {len(self.mgr_locs)}\"\u001b[0m\u001b[0;34m\u001b[0m\u001b[0;34m\u001b[0m\u001b[0m\n\u001b[1;32m    133\u001b[0m             )\n",
            "\u001b[0;31mValueError\u001b[0m: Wrong number of items passed 12, placement implies 1"
          ]
        }
      ]
    },
    {
      "cell_type": "code",
      "metadata": {
        "id": "ASbFnxa4z2mL"
      },
      "source": [
        ""
      ],
      "execution_count": null,
      "outputs": []
    },
    {
      "cell_type": "markdown",
      "metadata": {
        "id": "MfiuOeFrW_WB"
      },
      "source": [
        "# ANALYSE\n",
        "\n",
        "Certaines colonnes ont des noms différents et représentant la même métrique, d'autres ne nous intéresse tout simplement pas.\n",
        "On veut alors essayer de réduire le nombre de colonnes."
      ]
    },
    {
      "cell_type": "markdown",
      "metadata": {
        "id": "0VvLfnw3-FTk"
      },
      "source": [
        "__D'abord quelques infos à propos du jeu de données__"
      ]
    },
    {
      "cell_type": "code",
      "metadata": {
        "id": "8Tmnprfr-FTk"
      },
      "source": [
        "# print(\"Total rows : {}\\n\".format(raw_data.shape[0]))\n",
        "\n",
        "# print(\"Number of rows containing a NaN value in each columns\\n{}\".format(raw_data.isna().sum()))\n",
        "\n",
        "# print(\"\\nNumbers of rows by year\")\n",
        "# for (year) in (raw_data.YEAR.unique()):\n",
        "#     print(\"\\t {} : {}\".format(year, raw_data[raw_data.YEAR == year].shape[0]))"
      ],
      "execution_count": 41,
      "outputs": []
    },
    {
      "cell_type": "markdown",
      "metadata": {
        "id": "cSMWOd68-FTk"
      },
      "source": [
        "Let's see if there is the same amount of data over the years :"
      ]
    },
    {
      "cell_type": "code",
      "metadata": {
        "id": "rM1MVLr7-FTl"
      },
      "source": [
        "# for year in raw_data.YEAR.unique():\n",
        "#     print(\"YEAR {}/{} :\".format(year[:4], year[4:]))\n",
        "#     print(\"\\tNumber of missing CSI rows : {}/{}\".format(raw_data[raw_data.YEAR == year].CSI.isna().sum(),\n",
        "#                                                         raw_data[raw_data.YEAR == year].shape[0]))\n",
        "#     print(\"\\tNumber of REG : {}\".format(raw_data[raw_data.YEAR == year].loc[:, \"REG\"].unique().shape[0]))\n",
        "#     print(\"\\tNumber of PROV : {}\".format(raw_data[raw_data.YEAR == year].loc[:, \"PROV\"].unique().shape[0]))\n",
        "#     print(\"\\tNumber of COM : {}\".format(raw_data[raw_data.YEAR == year].loc[:, \"COM\"].unique().shape[0]))\n",
        "#     print(\"\\tNumber of VIL : {}\".format(raw_data[raw_data.YEAR == year].loc[:, \"VIL\"].unique().shape[0]))\n",
        "    "
      ],
      "execution_count": 42,
      "outputs": []
    },
    {
      "cell_type": "markdown",
      "metadata": {
        "id": "-rp02fPP-FTn"
      },
      "source": [
        "__Now let's focus on columns that we're interested in :__"
      ]
    },
    {
      "cell_type": "code",
      "metadata": {
        "id": "iTvhxK_CYYGS"
      },
      "source": [
        "# for col in raw_data.columns:\n",
        "#     print(col)"
      ],
      "execution_count": 38,
      "outputs": []
    },
    {
      "cell_type": "code",
      "metadata": {
        "id": "ClsxclTTWytm"
      },
      "source": [
        "# All those columns, are answers to different questions ask to compute a CSI score.\n",
        "# don't know the difference between S62 and S63,\n",
        "# some rows answer only to S62 questions, some answers to all S62 and S63 questions\n",
        "\n",
        "S62_Q1 = [\"S62Q1_1\",\"S62Q1_2\",\"S62Q1_3\",\"S62Q1_4\",\"S62Q1_5\"]\n",
        "S62_Q2 = [\"S62Q21_1\",\"S62Q21_2\",\"S62Q22_1\",\"S62Q22_2\",\"S62Q23_1\",\"S62Q23_2\",\"S62Q24_1\",\"S62Q24_2\",\"S62Q25_1\",\"S62Q25_2\",\"S62Q26_1\",\"S62Q26_2\",\"S62Q27_1\",\"S62Q27_2\",\"S62Q28_1\",\"S62Q28_2\",\"S62Q29_1\",\"S62Q29_2\",\"S62Q210_1\",\"S62Q210_2\"]\n",
        "S62_Q3 = [\"S62Q3\"]\n",
        "S62_Q4 = [\"S62Q4_1\",\"S62Q5_1\",\"S62Q4_2\",\"S62Q5_2\",\"S62Q4_3\"]\n",
        "S62_Q5 = [\"S62Q5_3\",\"S62Q2\",\"S62Q3_1\",\"S62Q3_2\",\"S62Q3_3\"]\n",
        "S62_COR_DEF = [\"S62Q2_c\",\"S62Q4_3_cor1\",\"S62Q2_1\",\"S62Q3_cor\",\"S62Q4_1_cor\",\"S62Q4_1_def\",\"S62Q4_2_cor\",\"S62Q4_2_def\",\"S62Q4_3_cor\",\"S62Q4_3_def\",\"S62Q5_1_cor\",\"S62Q5_1_def\",\"S62Q5_2_cor\",\"S62Q5_2_def\",\"S62Q5_3_cor\",\"S62Q5_3_def\", \"S62Q24_1_COR\",\"S62Q4_1_COR\"]\n",
        "S62 = S62_Q1 + S62_Q2 + S62_Q3 + S62_Q4 + S62_Q5 #+ S62_COR_DEF\n",
        "\n",
        "S63_Q1 = [\"S63Q1_A\",\"S63Q1_B\",\"S63Q1_C\",\"S63Q1_D\",\"S63Q1_E\",\"S63Q1_F\",\"S63Q1_G\",\"S63Q1_H\",\"S63Q1_I\",\"S63Q1_J\",\"S63Q1_K\",\"S63Q1_L\",\"S63Q1_M\"]\n",
        "S63_Q2 = [\"S63Q2_A\",\"S63Q2_B\",\"S63Q2_C\",\"S63Q2_D\"]\n",
        "S63_Q3 = [\"S63Q3_A\",\"S63Q3_B\",\"S63Q3_C\",\"S63Q3_D\",\"S63Q3_E\",\"S63Q3_F\",\"S63Q3_G\",\"S63Q3_H\",\"S63Q3_I\",\"S63Q3_J\",\"S63Q3_K\"]\n",
        "S63 = S63_Q1 + S63_Q2 + S63_Q3\n",
        "\n",
        "STRATEGIE = [\"Stratégie1\",\"Stratégie2\",\"Stratégie3\",\"Stratégie4\",\"Stratégie5\"]\n",
        "\n",
        "# \"CSI\",\"YEAR\" : those are also useful,\n",
        "# the CSI column will surely be our target column, while S63 and S62 arrays will be our variables\n",
        "# \"REG\", \"PROV\", \"COM\", \"VIL\" could also be considered, but not so sure about that yet\n",
        "\n",
        "COL_TO_KEEP = [\"REG\", \"COM\", \"PROV\", \"VIL\", \"MEN\", \"YEAR\"]\n",
        "COL_TO_KEEP += S62_Q1\n"
      ],
      "execution_count": null,
      "outputs": []
    },
    {
      "cell_type": "markdown",
      "metadata": {
        "id": "2f9R9-m_Wytm",
        "outputId": "f50e19b3-c727-4350-92fb-671318af1000"
      },
      "source": [
        "__Some info about the S62 and S63 columns and some other columns__\n",
        "\n",
        "We'll add some plots when we'll know what does the columns represent"
      ]
    },
    {
      "cell_type": "code",
      "metadata": {
        "id": "eQ351oQX-FTn"
      },
      "source": [
        "# Number of NaN values in each column of S62 type\n",
        "# raw_data.loc[:, S62].isna().sum()"
      ],
      "execution_count": 39,
      "outputs": []
    },
    {
      "cell_type": "code",
      "metadata": {
        "id": "lUuVZaUI-FTn"
      },
      "source": [
        "# Number of NaN values in each column of S63 type\n",
        "# raw_data.loc[:, S63].isna().sum()"
      ],
      "execution_count": 40,
      "outputs": []
    },
    {
      "cell_type": "code",
      "metadata": {
        "id": "Y2Q4Do7l-FTn",
        "outputId": "47574bfe-56f7-41bf-8f22-a67872a57fd3"
      },
      "source": [
        "# Number of NaN values in CSI column\n",
        "raw_data.loc[:, \"CSI\"].isna().sum()"
      ],
      "execution_count": null,
      "outputs": [
        {
          "output_type": "execute_result",
          "data": {
            "text/plain": [
              "10537"
            ]
          },
          "metadata": {
            "tags": []
          },
          "execution_count": 30
        }
      ]
    },
    {
      "cell_type": "markdown",
      "metadata": {
        "id": "nCu26U1k-FTn"
      },
      "source": [
        "You can notice that half the data is not mesured, some rows could be filled by calculating the CSI with the help of all S62 and S63 columns. "
      ]
    },
    {
      "cell_type": "markdown",
      "metadata": {
        "id": "DZF5I0LG-FTn"
      },
      "source": [
        "# FEATURE ENGINEERING\n",
        "----\n",
        "We'll see if there is any transformation needed in the data, we could also complete some rows by computing the CSI score."
      ]
    },
    {
      "cell_type": "code",
      "metadata": {
        "id": "FPvVDSyj-FTn"
      },
      "source": [
        ""
      ],
      "execution_count": null,
      "outputs": []
    },
    {
      "cell_type": "code",
      "metadata": {
        "id": "qp7ozrtX-FTn"
      },
      "source": [
        ""
      ],
      "execution_count": null,
      "outputs": []
    },
    {
      "cell_type": "markdown",
      "metadata": {
        "id": "nyphCBX_-FTn"
      },
      "source": [
        "# MODELING"
      ]
    },
    {
      "cell_type": "code",
      "metadata": {
        "id": "6O3jL9EwYTgW"
      },
      "source": [
        ""
      ],
      "execution_count": null,
      "outputs": []
    }
  ]
}